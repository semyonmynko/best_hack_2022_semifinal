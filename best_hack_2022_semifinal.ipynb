{
 "cells": [
  {
   "cell_type": "markdown",
   "id": "b49cc2f9",
   "metadata": {},
   "source": [
    "# Загрузка зависимостей, данных"
   ]
  },
  {
   "cell_type": "code",
   "execution_count": 1,
   "id": "944ac25b",
   "metadata": {},
   "outputs": [],
   "source": [
    "# работа данными таблицы\n",
    "import pandas as pd\n",
    "import numpy as np\n",
    "# для визуализация\n",
    "from plotly.subplots import make_subplots\n",
    "import plotly.graph_objects as go\n",
    "import plotly.express as px\n",
    "# для разделения данных на тестовую и обучаю подвыборки\n",
    "from sklearn.model_selection import train_test_split\n",
    "# для определения точности\n",
    "from sklearn.metrics import balanced_accuracy_score\n",
    "# модель классификации\n",
    "from catboost import CatBoostClassifier, CatBoostRegressor\n",
    "import plotly.io as pio\n",
    "pio.renderers.default='notebook'"
   ]
  },
  {
   "cell_type": "code",
   "execution_count": 303,
   "id": "4bc55306",
   "metadata": {},
   "outputs": [],
   "source": [
    "# загрузка \"грязных\" данных\n",
    "df = pd.read_excel(io='./data/Train_labled.xlsx',engine='openpyxl')\n",
    "df_test = pd.read_excel(io='./data/Test_unlabled.xlsx',engine='openpyxl')"
   ]
  },
  {
   "cell_type": "code",
   "execution_count": 304,
   "id": "9a5bd42d",
   "metadata": {},
   "outputs": [],
   "source": [
    "# объекты предсказания храним отдельно\n",
    "df_target = df['Текущий прогноз']\n",
    "# признаки храним отдельно\n",
    "df = df[df.columns[:-1]]"
   ]
  },
  {
   "cell_type": "markdown",
   "id": "3ea9dc37",
   "metadata": {},
   "source": [
    "# Очистка и преобразования данных"
   ]
  },
  {
   "cell_type": "code",
   "execution_count": 305,
   "id": "bdb61da5",
   "metadata": {},
   "outputs": [
    {
     "name": "stdout",
     "output_type": "stream",
     "text": [
      "Размер данных:\n",
      "количество строк(259)\n",
      "количество признаков(117)\n",
      "Какие типы данных используются: int64 float64\n",
      "Количество дубликатов строк: 0\n",
      "Количество дубликатов колонок: 4\n",
      "Процентн Nan в датасете: 8.67 %\n"
     ]
    }
   ],
   "source": [
    "# вывод общей инофрмации\n",
    "def general_analys(df):\n",
    "    # Первичный осмотр\n",
    "    print(f'Размер данных:\\nколичество строк({df.shape[0]})\\nколичество признаков({df.shape[1]})')\n",
    "    print('Какие типы данных используются:', *df.dtypes.unique())\n",
    "    print('Количество дубликатов строк:', df.duplicated().sum())\n",
    "    print('Количество дубликатов колонок:', df.T.duplicated().sum())\n",
    "    print('Процентн Nan в датасете:', \n",
    "          round((100*df.isna().sum(axis=1).sum())/(df.shape[0]*df.shape[1]),2),'%')\n",
    "\n",
    "general_analys(df)"
   ]
  },
  {
   "cell_type": "markdown",
   "id": "3df413e6",
   "metadata": {},
   "source": [
    "###### У нас три класса для предсказания: \n",
    "                                0 - жив\n",
    "                                1 - мертв\n",
    "                                2 - жив с рецедивом"
   ]
  },
  {
   "cell_type": "code",
   "execution_count": 306,
   "id": "86341ea5",
   "metadata": {},
   "outputs": [
    {
     "data": {
      "application/vnd.plotly.v1+json": {
       "config": {
        "plotlyServerURL": "https://plot.ly"
       },
       "data": [
        {
         "labels": [
          "жив",
          "мертв",
          "жив с рецидивом"
         ],
         "title": {
          "text": "Распределение классов"
         },
         "type": "pie",
         "values": [
          167,
          73,
          19
         ]
        }
       ],
       "layout": {
        "template": {
         "data": {
          "bar": [
           {
            "error_x": {
             "color": "#2a3f5f"
            },
            "error_y": {
             "color": "#2a3f5f"
            },
            "marker": {
             "line": {
              "color": "#E5ECF6",
              "width": 0.5
             },
             "pattern": {
              "fillmode": "overlay",
              "size": 10,
              "solidity": 0.2
             }
            },
            "type": "bar"
           }
          ],
          "barpolar": [
           {
            "marker": {
             "line": {
              "color": "#E5ECF6",
              "width": 0.5
             },
             "pattern": {
              "fillmode": "overlay",
              "size": 10,
              "solidity": 0.2
             }
            },
            "type": "barpolar"
           }
          ],
          "carpet": [
           {
            "aaxis": {
             "endlinecolor": "#2a3f5f",
             "gridcolor": "white",
             "linecolor": "white",
             "minorgridcolor": "white",
             "startlinecolor": "#2a3f5f"
            },
            "baxis": {
             "endlinecolor": "#2a3f5f",
             "gridcolor": "white",
             "linecolor": "white",
             "minorgridcolor": "white",
             "startlinecolor": "#2a3f5f"
            },
            "type": "carpet"
           }
          ],
          "choropleth": [
           {
            "colorbar": {
             "outlinewidth": 0,
             "ticks": ""
            },
            "type": "choropleth"
           }
          ],
          "contour": [
           {
            "colorbar": {
             "outlinewidth": 0,
             "ticks": ""
            },
            "colorscale": [
             [
              0,
              "#0d0887"
             ],
             [
              0.1111111111111111,
              "#46039f"
             ],
             [
              0.2222222222222222,
              "#7201a8"
             ],
             [
              0.3333333333333333,
              "#9c179e"
             ],
             [
              0.4444444444444444,
              "#bd3786"
             ],
             [
              0.5555555555555556,
              "#d8576b"
             ],
             [
              0.6666666666666666,
              "#ed7953"
             ],
             [
              0.7777777777777778,
              "#fb9f3a"
             ],
             [
              0.8888888888888888,
              "#fdca26"
             ],
             [
              1,
              "#f0f921"
             ]
            ],
            "type": "contour"
           }
          ],
          "contourcarpet": [
           {
            "colorbar": {
             "outlinewidth": 0,
             "ticks": ""
            },
            "type": "contourcarpet"
           }
          ],
          "heatmap": [
           {
            "colorbar": {
             "outlinewidth": 0,
             "ticks": ""
            },
            "colorscale": [
             [
              0,
              "#0d0887"
             ],
             [
              0.1111111111111111,
              "#46039f"
             ],
             [
              0.2222222222222222,
              "#7201a8"
             ],
             [
              0.3333333333333333,
              "#9c179e"
             ],
             [
              0.4444444444444444,
              "#bd3786"
             ],
             [
              0.5555555555555556,
              "#d8576b"
             ],
             [
              0.6666666666666666,
              "#ed7953"
             ],
             [
              0.7777777777777778,
              "#fb9f3a"
             ],
             [
              0.8888888888888888,
              "#fdca26"
             ],
             [
              1,
              "#f0f921"
             ]
            ],
            "type": "heatmap"
           }
          ],
          "heatmapgl": [
           {
            "colorbar": {
             "outlinewidth": 0,
             "ticks": ""
            },
            "colorscale": [
             [
              0,
              "#0d0887"
             ],
             [
              0.1111111111111111,
              "#46039f"
             ],
             [
              0.2222222222222222,
              "#7201a8"
             ],
             [
              0.3333333333333333,
              "#9c179e"
             ],
             [
              0.4444444444444444,
              "#bd3786"
             ],
             [
              0.5555555555555556,
              "#d8576b"
             ],
             [
              0.6666666666666666,
              "#ed7953"
             ],
             [
              0.7777777777777778,
              "#fb9f3a"
             ],
             [
              0.8888888888888888,
              "#fdca26"
             ],
             [
              1,
              "#f0f921"
             ]
            ],
            "type": "heatmapgl"
           }
          ],
          "histogram": [
           {
            "marker": {
             "pattern": {
              "fillmode": "overlay",
              "size": 10,
              "solidity": 0.2
             }
            },
            "type": "histogram"
           }
          ],
          "histogram2d": [
           {
            "colorbar": {
             "outlinewidth": 0,
             "ticks": ""
            },
            "colorscale": [
             [
              0,
              "#0d0887"
             ],
             [
              0.1111111111111111,
              "#46039f"
             ],
             [
              0.2222222222222222,
              "#7201a8"
             ],
             [
              0.3333333333333333,
              "#9c179e"
             ],
             [
              0.4444444444444444,
              "#bd3786"
             ],
             [
              0.5555555555555556,
              "#d8576b"
             ],
             [
              0.6666666666666666,
              "#ed7953"
             ],
             [
              0.7777777777777778,
              "#fb9f3a"
             ],
             [
              0.8888888888888888,
              "#fdca26"
             ],
             [
              1,
              "#f0f921"
             ]
            ],
            "type": "histogram2d"
           }
          ],
          "histogram2dcontour": [
           {
            "colorbar": {
             "outlinewidth": 0,
             "ticks": ""
            },
            "colorscale": [
             [
              0,
              "#0d0887"
             ],
             [
              0.1111111111111111,
              "#46039f"
             ],
             [
              0.2222222222222222,
              "#7201a8"
             ],
             [
              0.3333333333333333,
              "#9c179e"
             ],
             [
              0.4444444444444444,
              "#bd3786"
             ],
             [
              0.5555555555555556,
              "#d8576b"
             ],
             [
              0.6666666666666666,
              "#ed7953"
             ],
             [
              0.7777777777777778,
              "#fb9f3a"
             ],
             [
              0.8888888888888888,
              "#fdca26"
             ],
             [
              1,
              "#f0f921"
             ]
            ],
            "type": "histogram2dcontour"
           }
          ],
          "mesh3d": [
           {
            "colorbar": {
             "outlinewidth": 0,
             "ticks": ""
            },
            "type": "mesh3d"
           }
          ],
          "parcoords": [
           {
            "line": {
             "colorbar": {
              "outlinewidth": 0,
              "ticks": ""
             }
            },
            "type": "parcoords"
           }
          ],
          "pie": [
           {
            "automargin": true,
            "type": "pie"
           }
          ],
          "scatter": [
           {
            "marker": {
             "colorbar": {
              "outlinewidth": 0,
              "ticks": ""
             }
            },
            "type": "scatter"
           }
          ],
          "scatter3d": [
           {
            "line": {
             "colorbar": {
              "outlinewidth": 0,
              "ticks": ""
             }
            },
            "marker": {
             "colorbar": {
              "outlinewidth": 0,
              "ticks": ""
             }
            },
            "type": "scatter3d"
           }
          ],
          "scattercarpet": [
           {
            "marker": {
             "colorbar": {
              "outlinewidth": 0,
              "ticks": ""
             }
            },
            "type": "scattercarpet"
           }
          ],
          "scattergeo": [
           {
            "marker": {
             "colorbar": {
              "outlinewidth": 0,
              "ticks": ""
             }
            },
            "type": "scattergeo"
           }
          ],
          "scattergl": [
           {
            "marker": {
             "colorbar": {
              "outlinewidth": 0,
              "ticks": ""
             }
            },
            "type": "scattergl"
           }
          ],
          "scattermapbox": [
           {
            "marker": {
             "colorbar": {
              "outlinewidth": 0,
              "ticks": ""
             }
            },
            "type": "scattermapbox"
           }
          ],
          "scatterpolar": [
           {
            "marker": {
             "colorbar": {
              "outlinewidth": 0,
              "ticks": ""
             }
            },
            "type": "scatterpolar"
           }
          ],
          "scatterpolargl": [
           {
            "marker": {
             "colorbar": {
              "outlinewidth": 0,
              "ticks": ""
             }
            },
            "type": "scatterpolargl"
           }
          ],
          "scatterternary": [
           {
            "marker": {
             "colorbar": {
              "outlinewidth": 0,
              "ticks": ""
             }
            },
            "type": "scatterternary"
           }
          ],
          "surface": [
           {
            "colorbar": {
             "outlinewidth": 0,
             "ticks": ""
            },
            "colorscale": [
             [
              0,
              "#0d0887"
             ],
             [
              0.1111111111111111,
              "#46039f"
             ],
             [
              0.2222222222222222,
              "#7201a8"
             ],
             [
              0.3333333333333333,
              "#9c179e"
             ],
             [
              0.4444444444444444,
              "#bd3786"
             ],
             [
              0.5555555555555556,
              "#d8576b"
             ],
             [
              0.6666666666666666,
              "#ed7953"
             ],
             [
              0.7777777777777778,
              "#fb9f3a"
             ],
             [
              0.8888888888888888,
              "#fdca26"
             ],
             [
              1,
              "#f0f921"
             ]
            ],
            "type": "surface"
           }
          ],
          "table": [
           {
            "cells": {
             "fill": {
              "color": "#EBF0F8"
             },
             "line": {
              "color": "white"
             }
            },
            "header": {
             "fill": {
              "color": "#C8D4E3"
             },
             "line": {
              "color": "white"
             }
            },
            "type": "table"
           }
          ]
         },
         "layout": {
          "annotationdefaults": {
           "arrowcolor": "#2a3f5f",
           "arrowhead": 0,
           "arrowwidth": 1
          },
          "autotypenumbers": "strict",
          "coloraxis": {
           "colorbar": {
            "outlinewidth": 0,
            "ticks": ""
           }
          },
          "colorscale": {
           "diverging": [
            [
             0,
             "#8e0152"
            ],
            [
             0.1,
             "#c51b7d"
            ],
            [
             0.2,
             "#de77ae"
            ],
            [
             0.3,
             "#f1b6da"
            ],
            [
             0.4,
             "#fde0ef"
            ],
            [
             0.5,
             "#f7f7f7"
            ],
            [
             0.6,
             "#e6f5d0"
            ],
            [
             0.7,
             "#b8e186"
            ],
            [
             0.8,
             "#7fbc41"
            ],
            [
             0.9,
             "#4d9221"
            ],
            [
             1,
             "#276419"
            ]
           ],
           "sequential": [
            [
             0,
             "#0d0887"
            ],
            [
             0.1111111111111111,
             "#46039f"
            ],
            [
             0.2222222222222222,
             "#7201a8"
            ],
            [
             0.3333333333333333,
             "#9c179e"
            ],
            [
             0.4444444444444444,
             "#bd3786"
            ],
            [
             0.5555555555555556,
             "#d8576b"
            ],
            [
             0.6666666666666666,
             "#ed7953"
            ],
            [
             0.7777777777777778,
             "#fb9f3a"
            ],
            [
             0.8888888888888888,
             "#fdca26"
            ],
            [
             1,
             "#f0f921"
            ]
           ],
           "sequentialminus": [
            [
             0,
             "#0d0887"
            ],
            [
             0.1111111111111111,
             "#46039f"
            ],
            [
             0.2222222222222222,
             "#7201a8"
            ],
            [
             0.3333333333333333,
             "#9c179e"
            ],
            [
             0.4444444444444444,
             "#bd3786"
            ],
            [
             0.5555555555555556,
             "#d8576b"
            ],
            [
             0.6666666666666666,
             "#ed7953"
            ],
            [
             0.7777777777777778,
             "#fb9f3a"
            ],
            [
             0.8888888888888888,
             "#fdca26"
            ],
            [
             1,
             "#f0f921"
            ]
           ]
          },
          "colorway": [
           "#636efa",
           "#EF553B",
           "#00cc96",
           "#ab63fa",
           "#FFA15A",
           "#19d3f3",
           "#FF6692",
           "#B6E880",
           "#FF97FF",
           "#FECB52"
          ],
          "font": {
           "color": "#2a3f5f"
          },
          "geo": {
           "bgcolor": "white",
           "lakecolor": "white",
           "landcolor": "#E5ECF6",
           "showlakes": true,
           "showland": true,
           "subunitcolor": "white"
          },
          "hoverlabel": {
           "align": "left"
          },
          "hovermode": "closest",
          "mapbox": {
           "style": "light"
          },
          "paper_bgcolor": "white",
          "plot_bgcolor": "#E5ECF6",
          "polar": {
           "angularaxis": {
            "gridcolor": "white",
            "linecolor": "white",
            "ticks": ""
           },
           "bgcolor": "#E5ECF6",
           "radialaxis": {
            "gridcolor": "white",
            "linecolor": "white",
            "ticks": ""
           }
          },
          "scene": {
           "xaxis": {
            "backgroundcolor": "#E5ECF6",
            "gridcolor": "white",
            "gridwidth": 2,
            "linecolor": "white",
            "showbackground": true,
            "ticks": "",
            "zerolinecolor": "white"
           },
           "yaxis": {
            "backgroundcolor": "#E5ECF6",
            "gridcolor": "white",
            "gridwidth": 2,
            "linecolor": "white",
            "showbackground": true,
            "ticks": "",
            "zerolinecolor": "white"
           },
           "zaxis": {
            "backgroundcolor": "#E5ECF6",
            "gridcolor": "white",
            "gridwidth": 2,
            "linecolor": "white",
            "showbackground": true,
            "ticks": "",
            "zerolinecolor": "white"
           }
          },
          "shapedefaults": {
           "line": {
            "color": "#2a3f5f"
           }
          },
          "ternary": {
           "aaxis": {
            "gridcolor": "white",
            "linecolor": "white",
            "ticks": ""
           },
           "baxis": {
            "gridcolor": "white",
            "linecolor": "white",
            "ticks": ""
           },
           "bgcolor": "#E5ECF6",
           "caxis": {
            "gridcolor": "white",
            "linecolor": "white",
            "ticks": ""
           }
          },
          "title": {
           "x": 0.05
          },
          "xaxis": {
           "automargin": true,
           "gridcolor": "white",
           "linecolor": "white",
           "ticks": "",
           "title": {
            "standoff": 15
           },
           "zerolinecolor": "white",
           "zerolinewidth": 2
          },
          "yaxis": {
           "automargin": true,
           "gridcolor": "white",
           "linecolor": "white",
           "ticks": "",
           "title": {
            "standoff": 15
           },
           "zerolinecolor": "white",
           "zerolinewidth": 2
          }
         }
        }
       }
      },
      "text/html": [
       "<div>                            <div id=\"071b5b55-ffd1-4f4d-aaba-e64cbb7d8e6c\" class=\"plotly-graph-div\" style=\"height:525px; width:100%;\"></div>            <script type=\"text/javascript\">                require([\"plotly\"], function(Plotly) {                    window.PLOTLYENV=window.PLOTLYENV || {};                                    if (document.getElementById(\"071b5b55-ffd1-4f4d-aaba-e64cbb7d8e6c\")) {                    Plotly.newPlot(                        \"071b5b55-ffd1-4f4d-aaba-e64cbb7d8e6c\",                        [{\"labels\":[\"\\u0436\\u0438\\u0432\",\"\\u043c\\u0435\\u0440\\u0442\\u0432\",\"\\u0436\\u0438\\u0432 \\u0441 \\u0440\\u0435\\u0446\\u0438\\u0434\\u0438\\u0432\\u043e\\u043c\"],\"title\":{\"text\":\"\\u0420\\u0430\\u0441\\u043f\\u0440\\u0435\\u0434\\u0435\\u043b\\u0435\\u043d\\u0438\\u0435 \\u043a\\u043b\\u0430\\u0441\\u0441\\u043e\\u0432\"},\"values\":[167,73,19],\"type\":\"pie\"}],                        {\"template\":{\"data\":{\"bar\":[{\"error_x\":{\"color\":\"#2a3f5f\"},\"error_y\":{\"color\":\"#2a3f5f\"},\"marker\":{\"line\":{\"color\":\"#E5ECF6\",\"width\":0.5},\"pattern\":{\"fillmode\":\"overlay\",\"size\":10,\"solidity\":0.2}},\"type\":\"bar\"}],\"barpolar\":[{\"marker\":{\"line\":{\"color\":\"#E5ECF6\",\"width\":0.5},\"pattern\":{\"fillmode\":\"overlay\",\"size\":10,\"solidity\":0.2}},\"type\":\"barpolar\"}],\"carpet\":[{\"aaxis\":{\"endlinecolor\":\"#2a3f5f\",\"gridcolor\":\"white\",\"linecolor\":\"white\",\"minorgridcolor\":\"white\",\"startlinecolor\":\"#2a3f5f\"},\"baxis\":{\"endlinecolor\":\"#2a3f5f\",\"gridcolor\":\"white\",\"linecolor\":\"white\",\"minorgridcolor\":\"white\",\"startlinecolor\":\"#2a3f5f\"},\"type\":\"carpet\"}],\"choropleth\":[{\"colorbar\":{\"outlinewidth\":0,\"ticks\":\"\"},\"type\":\"choropleth\"}],\"contour\":[{\"colorbar\":{\"outlinewidth\":0,\"ticks\":\"\"},\"colorscale\":[[0.0,\"#0d0887\"],[0.1111111111111111,\"#46039f\"],[0.2222222222222222,\"#7201a8\"],[0.3333333333333333,\"#9c179e\"],[0.4444444444444444,\"#bd3786\"],[0.5555555555555556,\"#d8576b\"],[0.6666666666666666,\"#ed7953\"],[0.7777777777777778,\"#fb9f3a\"],[0.8888888888888888,\"#fdca26\"],[1.0,\"#f0f921\"]],\"type\":\"contour\"}],\"contourcarpet\":[{\"colorbar\":{\"outlinewidth\":0,\"ticks\":\"\"},\"type\":\"contourcarpet\"}],\"heatmap\":[{\"colorbar\":{\"outlinewidth\":0,\"ticks\":\"\"},\"colorscale\":[[0.0,\"#0d0887\"],[0.1111111111111111,\"#46039f\"],[0.2222222222222222,\"#7201a8\"],[0.3333333333333333,\"#9c179e\"],[0.4444444444444444,\"#bd3786\"],[0.5555555555555556,\"#d8576b\"],[0.6666666666666666,\"#ed7953\"],[0.7777777777777778,\"#fb9f3a\"],[0.8888888888888888,\"#fdca26\"],[1.0,\"#f0f921\"]],\"type\":\"heatmap\"}],\"heatmapgl\":[{\"colorbar\":{\"outlinewidth\":0,\"ticks\":\"\"},\"colorscale\":[[0.0,\"#0d0887\"],[0.1111111111111111,\"#46039f\"],[0.2222222222222222,\"#7201a8\"],[0.3333333333333333,\"#9c179e\"],[0.4444444444444444,\"#bd3786\"],[0.5555555555555556,\"#d8576b\"],[0.6666666666666666,\"#ed7953\"],[0.7777777777777778,\"#fb9f3a\"],[0.8888888888888888,\"#fdca26\"],[1.0,\"#f0f921\"]],\"type\":\"heatmapgl\"}],\"histogram\":[{\"marker\":{\"pattern\":{\"fillmode\":\"overlay\",\"size\":10,\"solidity\":0.2}},\"type\":\"histogram\"}],\"histogram2d\":[{\"colorbar\":{\"outlinewidth\":0,\"ticks\":\"\"},\"colorscale\":[[0.0,\"#0d0887\"],[0.1111111111111111,\"#46039f\"],[0.2222222222222222,\"#7201a8\"],[0.3333333333333333,\"#9c179e\"],[0.4444444444444444,\"#bd3786\"],[0.5555555555555556,\"#d8576b\"],[0.6666666666666666,\"#ed7953\"],[0.7777777777777778,\"#fb9f3a\"],[0.8888888888888888,\"#fdca26\"],[1.0,\"#f0f921\"]],\"type\":\"histogram2d\"}],\"histogram2dcontour\":[{\"colorbar\":{\"outlinewidth\":0,\"ticks\":\"\"},\"colorscale\":[[0.0,\"#0d0887\"],[0.1111111111111111,\"#46039f\"],[0.2222222222222222,\"#7201a8\"],[0.3333333333333333,\"#9c179e\"],[0.4444444444444444,\"#bd3786\"],[0.5555555555555556,\"#d8576b\"],[0.6666666666666666,\"#ed7953\"],[0.7777777777777778,\"#fb9f3a\"],[0.8888888888888888,\"#fdca26\"],[1.0,\"#f0f921\"]],\"type\":\"histogram2dcontour\"}],\"mesh3d\":[{\"colorbar\":{\"outlinewidth\":0,\"ticks\":\"\"},\"type\":\"mesh3d\"}],\"parcoords\":[{\"line\":{\"colorbar\":{\"outlinewidth\":0,\"ticks\":\"\"}},\"type\":\"parcoords\"}],\"pie\":[{\"automargin\":true,\"type\":\"pie\"}],\"scatter\":[{\"marker\":{\"colorbar\":{\"outlinewidth\":0,\"ticks\":\"\"}},\"type\":\"scatter\"}],\"scatter3d\":[{\"line\":{\"colorbar\":{\"outlinewidth\":0,\"ticks\":\"\"}},\"marker\":{\"colorbar\":{\"outlinewidth\":0,\"ticks\":\"\"}},\"type\":\"scatter3d\"}],\"scattercarpet\":[{\"marker\":{\"colorbar\":{\"outlinewidth\":0,\"ticks\":\"\"}},\"type\":\"scattercarpet\"}],\"scattergeo\":[{\"marker\":{\"colorbar\":{\"outlinewidth\":0,\"ticks\":\"\"}},\"type\":\"scattergeo\"}],\"scattergl\":[{\"marker\":{\"colorbar\":{\"outlinewidth\":0,\"ticks\":\"\"}},\"type\":\"scattergl\"}],\"scattermapbox\":[{\"marker\":{\"colorbar\":{\"outlinewidth\":0,\"ticks\":\"\"}},\"type\":\"scattermapbox\"}],\"scatterpolar\":[{\"marker\":{\"colorbar\":{\"outlinewidth\":0,\"ticks\":\"\"}},\"type\":\"scatterpolar\"}],\"scatterpolargl\":[{\"marker\":{\"colorbar\":{\"outlinewidth\":0,\"ticks\":\"\"}},\"type\":\"scatterpolargl\"}],\"scatterternary\":[{\"marker\":{\"colorbar\":{\"outlinewidth\":0,\"ticks\":\"\"}},\"type\":\"scatterternary\"}],\"surface\":[{\"colorbar\":{\"outlinewidth\":0,\"ticks\":\"\"},\"colorscale\":[[0.0,\"#0d0887\"],[0.1111111111111111,\"#46039f\"],[0.2222222222222222,\"#7201a8\"],[0.3333333333333333,\"#9c179e\"],[0.4444444444444444,\"#bd3786\"],[0.5555555555555556,\"#d8576b\"],[0.6666666666666666,\"#ed7953\"],[0.7777777777777778,\"#fb9f3a\"],[0.8888888888888888,\"#fdca26\"],[1.0,\"#f0f921\"]],\"type\":\"surface\"}],\"table\":[{\"cells\":{\"fill\":{\"color\":\"#EBF0F8\"},\"line\":{\"color\":\"white\"}},\"header\":{\"fill\":{\"color\":\"#C8D4E3\"},\"line\":{\"color\":\"white\"}},\"type\":\"table\"}]},\"layout\":{\"annotationdefaults\":{\"arrowcolor\":\"#2a3f5f\",\"arrowhead\":0,\"arrowwidth\":1},\"autotypenumbers\":\"strict\",\"coloraxis\":{\"colorbar\":{\"outlinewidth\":0,\"ticks\":\"\"}},\"colorscale\":{\"diverging\":[[0,\"#8e0152\"],[0.1,\"#c51b7d\"],[0.2,\"#de77ae\"],[0.3,\"#f1b6da\"],[0.4,\"#fde0ef\"],[0.5,\"#f7f7f7\"],[0.6,\"#e6f5d0\"],[0.7,\"#b8e186\"],[0.8,\"#7fbc41\"],[0.9,\"#4d9221\"],[1,\"#276419\"]],\"sequential\":[[0.0,\"#0d0887\"],[0.1111111111111111,\"#46039f\"],[0.2222222222222222,\"#7201a8\"],[0.3333333333333333,\"#9c179e\"],[0.4444444444444444,\"#bd3786\"],[0.5555555555555556,\"#d8576b\"],[0.6666666666666666,\"#ed7953\"],[0.7777777777777778,\"#fb9f3a\"],[0.8888888888888888,\"#fdca26\"],[1.0,\"#f0f921\"]],\"sequentialminus\":[[0.0,\"#0d0887\"],[0.1111111111111111,\"#46039f\"],[0.2222222222222222,\"#7201a8\"],[0.3333333333333333,\"#9c179e\"],[0.4444444444444444,\"#bd3786\"],[0.5555555555555556,\"#d8576b\"],[0.6666666666666666,\"#ed7953\"],[0.7777777777777778,\"#fb9f3a\"],[0.8888888888888888,\"#fdca26\"],[1.0,\"#f0f921\"]]},\"colorway\":[\"#636efa\",\"#EF553B\",\"#00cc96\",\"#ab63fa\",\"#FFA15A\",\"#19d3f3\",\"#FF6692\",\"#B6E880\",\"#FF97FF\",\"#FECB52\"],\"font\":{\"color\":\"#2a3f5f\"},\"geo\":{\"bgcolor\":\"white\",\"lakecolor\":\"white\",\"landcolor\":\"#E5ECF6\",\"showlakes\":true,\"showland\":true,\"subunitcolor\":\"white\"},\"hoverlabel\":{\"align\":\"left\"},\"hovermode\":\"closest\",\"mapbox\":{\"style\":\"light\"},\"paper_bgcolor\":\"white\",\"plot_bgcolor\":\"#E5ECF6\",\"polar\":{\"angularaxis\":{\"gridcolor\":\"white\",\"linecolor\":\"white\",\"ticks\":\"\"},\"bgcolor\":\"#E5ECF6\",\"radialaxis\":{\"gridcolor\":\"white\",\"linecolor\":\"white\",\"ticks\":\"\"}},\"scene\":{\"xaxis\":{\"backgroundcolor\":\"#E5ECF6\",\"gridcolor\":\"white\",\"gridwidth\":2,\"linecolor\":\"white\",\"showbackground\":true,\"ticks\":\"\",\"zerolinecolor\":\"white\"},\"yaxis\":{\"backgroundcolor\":\"#E5ECF6\",\"gridcolor\":\"white\",\"gridwidth\":2,\"linecolor\":\"white\",\"showbackground\":true,\"ticks\":\"\",\"zerolinecolor\":\"white\"},\"zaxis\":{\"backgroundcolor\":\"#E5ECF6\",\"gridcolor\":\"white\",\"gridwidth\":2,\"linecolor\":\"white\",\"showbackground\":true,\"ticks\":\"\",\"zerolinecolor\":\"white\"}},\"shapedefaults\":{\"line\":{\"color\":\"#2a3f5f\"}},\"ternary\":{\"aaxis\":{\"gridcolor\":\"white\",\"linecolor\":\"white\",\"ticks\":\"\"},\"baxis\":{\"gridcolor\":\"white\",\"linecolor\":\"white\",\"ticks\":\"\"},\"bgcolor\":\"#E5ECF6\",\"caxis\":{\"gridcolor\":\"white\",\"linecolor\":\"white\",\"ticks\":\"\"}},\"title\":{\"x\":0.05},\"xaxis\":{\"automargin\":true,\"gridcolor\":\"white\",\"linecolor\":\"white\",\"ticks\":\"\",\"title\":{\"standoff\":15},\"zerolinecolor\":\"white\",\"zerolinewidth\":2},\"yaxis\":{\"automargin\":true,\"gridcolor\":\"white\",\"linecolor\":\"white\",\"ticks\":\"\",\"title\":{\"standoff\":15},\"zerolinecolor\":\"white\",\"zerolinewidth\":2}}}},                        {\"responsive\": true}                    ).then(function(){\n",
       "                            \n",
       "var gd = document.getElementById('071b5b55-ffd1-4f4d-aaba-e64cbb7d8e6c');\n",
       "var x = new MutationObserver(function (mutations, observer) {{\n",
       "        var display = window.getComputedStyle(gd).display;\n",
       "        if (!display || display === 'none') {{\n",
       "            console.log([gd, 'removed!']);\n",
       "            Plotly.purge(gd);\n",
       "            observer.disconnect();\n",
       "        }}\n",
       "}});\n",
       "\n",
       "// Listen for the removal of the full notebook cells\n",
       "var notebookContainer = gd.closest('#notebook-container');\n",
       "if (notebookContainer) {{\n",
       "    x.observe(notebookContainer, {childList: true});\n",
       "}}\n",
       "\n",
       "// Listen for the clearing of the current output cell\n",
       "var outputEl = gd.closest('.output');\n",
       "if (outputEl) {{\n",
       "    x.observe(outputEl, {childList: true});\n",
       "}}\n",
       "\n",
       "                        })                };                });            </script>        </div>"
      ]
     },
     "metadata": {},
     "output_type": "display_data"
    }
   ],
   "source": [
    "# визуализация процентного содержания классов предсказания в датасете\n",
    "# подготовка данных\n",
    "temp_pie_targ = df_target.value_counts()\n",
    "values = temp_pie_targ.values.tolist()\n",
    "# визуализация\n",
    "fig = go.Figure(data=[go.Pie(labels=['жив','мертв','жив с рецидивом'], \n",
    "                             values=values, title='Распределение классов')])\n",
    "fig.show()"
   ]
  },
  {
   "cell_type": "markdown",
   "id": "82db59b4",
   "metadata": {},
   "source": [
    "## Наиболее коррелирующие с таргетом признаки"
   ]
  },
  {
   "cell_type": "code",
   "execution_count": 307,
   "id": "4e918887",
   "metadata": {},
   "outputs": [
    {
     "data": {
      "application/vnd.plotly.v1+json": {
       "config": {
        "plotlyServerURL": "https://plot.ly"
       },
       "data": [
        {
         "alignmentgroup": "True",
         "bingroup": "x",
         "histfunc": "sum",
         "hovertemplate": "Название признака =%{x}<br>sum of     Корреляция с целью=%{y}<extra></extra>",
         "legendgroup": "",
         "marker": {
          "color": "#636efa",
          "pattern": {
           "shape": ""
          }
         },
         "name": "",
         "offsetgroup": "",
         "orientation": "v",
         "showlegend": false,
         "type": "histogram",
         "x": [
          "Рецидив",
          "эффект лечения рецидива",
          "Время операции",
          "Сохранение резецированной почки длительное",
          "Швы через толщу паренхимы",
          "диурез, сутки",
          "Срочная гистология",
          "местный",
          "темп диуреза, мл/кг/ч",
          "Sinus"
         ],
         "xaxis": "x",
         "y": [
          0.7463584112493383,
          0.6284293281060574,
          0.5800311963425576,
          0.47644812613904614,
          0.37604691430846354,
          0.3723363670904669,
          0.34455562868766876,
          0.3251555864162929,
          0.2527791547946893,
          0.24985517969894286
         ],
         "yaxis": "y"
        }
       ],
       "layout": {
        "barmode": "relative",
        "legend": {
         "tracegroupgap": 0
        },
        "margin": {
         "t": 60
        },
        "template": {
         "data": {
          "bar": [
           {
            "error_x": {
             "color": "#2a3f5f"
            },
            "error_y": {
             "color": "#2a3f5f"
            },
            "marker": {
             "line": {
              "color": "#E5ECF6",
              "width": 0.5
             },
             "pattern": {
              "fillmode": "overlay",
              "size": 10,
              "solidity": 0.2
             }
            },
            "type": "bar"
           }
          ],
          "barpolar": [
           {
            "marker": {
             "line": {
              "color": "#E5ECF6",
              "width": 0.5
             },
             "pattern": {
              "fillmode": "overlay",
              "size": 10,
              "solidity": 0.2
             }
            },
            "type": "barpolar"
           }
          ],
          "carpet": [
           {
            "aaxis": {
             "endlinecolor": "#2a3f5f",
             "gridcolor": "white",
             "linecolor": "white",
             "minorgridcolor": "white",
             "startlinecolor": "#2a3f5f"
            },
            "baxis": {
             "endlinecolor": "#2a3f5f",
             "gridcolor": "white",
             "linecolor": "white",
             "minorgridcolor": "white",
             "startlinecolor": "#2a3f5f"
            },
            "type": "carpet"
           }
          ],
          "choropleth": [
           {
            "colorbar": {
             "outlinewidth": 0,
             "ticks": ""
            },
            "type": "choropleth"
           }
          ],
          "contour": [
           {
            "colorbar": {
             "outlinewidth": 0,
             "ticks": ""
            },
            "colorscale": [
             [
              0,
              "#0d0887"
             ],
             [
              0.1111111111111111,
              "#46039f"
             ],
             [
              0.2222222222222222,
              "#7201a8"
             ],
             [
              0.3333333333333333,
              "#9c179e"
             ],
             [
              0.4444444444444444,
              "#bd3786"
             ],
             [
              0.5555555555555556,
              "#d8576b"
             ],
             [
              0.6666666666666666,
              "#ed7953"
             ],
             [
              0.7777777777777778,
              "#fb9f3a"
             ],
             [
              0.8888888888888888,
              "#fdca26"
             ],
             [
              1,
              "#f0f921"
             ]
            ],
            "type": "contour"
           }
          ],
          "contourcarpet": [
           {
            "colorbar": {
             "outlinewidth": 0,
             "ticks": ""
            },
            "type": "contourcarpet"
           }
          ],
          "heatmap": [
           {
            "colorbar": {
             "outlinewidth": 0,
             "ticks": ""
            },
            "colorscale": [
             [
              0,
              "#0d0887"
             ],
             [
              0.1111111111111111,
              "#46039f"
             ],
             [
              0.2222222222222222,
              "#7201a8"
             ],
             [
              0.3333333333333333,
              "#9c179e"
             ],
             [
              0.4444444444444444,
              "#bd3786"
             ],
             [
              0.5555555555555556,
              "#d8576b"
             ],
             [
              0.6666666666666666,
              "#ed7953"
             ],
             [
              0.7777777777777778,
              "#fb9f3a"
             ],
             [
              0.8888888888888888,
              "#fdca26"
             ],
             [
              1,
              "#f0f921"
             ]
            ],
            "type": "heatmap"
           }
          ],
          "heatmapgl": [
           {
            "colorbar": {
             "outlinewidth": 0,
             "ticks": ""
            },
            "colorscale": [
             [
              0,
              "#0d0887"
             ],
             [
              0.1111111111111111,
              "#46039f"
             ],
             [
              0.2222222222222222,
              "#7201a8"
             ],
             [
              0.3333333333333333,
              "#9c179e"
             ],
             [
              0.4444444444444444,
              "#bd3786"
             ],
             [
              0.5555555555555556,
              "#d8576b"
             ],
             [
              0.6666666666666666,
              "#ed7953"
             ],
             [
              0.7777777777777778,
              "#fb9f3a"
             ],
             [
              0.8888888888888888,
              "#fdca26"
             ],
             [
              1,
              "#f0f921"
             ]
            ],
            "type": "heatmapgl"
           }
          ],
          "histogram": [
           {
            "marker": {
             "pattern": {
              "fillmode": "overlay",
              "size": 10,
              "solidity": 0.2
             }
            },
            "type": "histogram"
           }
          ],
          "histogram2d": [
           {
            "colorbar": {
             "outlinewidth": 0,
             "ticks": ""
            },
            "colorscale": [
             [
              0,
              "#0d0887"
             ],
             [
              0.1111111111111111,
              "#46039f"
             ],
             [
              0.2222222222222222,
              "#7201a8"
             ],
             [
              0.3333333333333333,
              "#9c179e"
             ],
             [
              0.4444444444444444,
              "#bd3786"
             ],
             [
              0.5555555555555556,
              "#d8576b"
             ],
             [
              0.6666666666666666,
              "#ed7953"
             ],
             [
              0.7777777777777778,
              "#fb9f3a"
             ],
             [
              0.8888888888888888,
              "#fdca26"
             ],
             [
              1,
              "#f0f921"
             ]
            ],
            "type": "histogram2d"
           }
          ],
          "histogram2dcontour": [
           {
            "colorbar": {
             "outlinewidth": 0,
             "ticks": ""
            },
            "colorscale": [
             [
              0,
              "#0d0887"
             ],
             [
              0.1111111111111111,
              "#46039f"
             ],
             [
              0.2222222222222222,
              "#7201a8"
             ],
             [
              0.3333333333333333,
              "#9c179e"
             ],
             [
              0.4444444444444444,
              "#bd3786"
             ],
             [
              0.5555555555555556,
              "#d8576b"
             ],
             [
              0.6666666666666666,
              "#ed7953"
             ],
             [
              0.7777777777777778,
              "#fb9f3a"
             ],
             [
              0.8888888888888888,
              "#fdca26"
             ],
             [
              1,
              "#f0f921"
             ]
            ],
            "type": "histogram2dcontour"
           }
          ],
          "mesh3d": [
           {
            "colorbar": {
             "outlinewidth": 0,
             "ticks": ""
            },
            "type": "mesh3d"
           }
          ],
          "parcoords": [
           {
            "line": {
             "colorbar": {
              "outlinewidth": 0,
              "ticks": ""
             }
            },
            "type": "parcoords"
           }
          ],
          "pie": [
           {
            "automargin": true,
            "type": "pie"
           }
          ],
          "scatter": [
           {
            "marker": {
             "colorbar": {
              "outlinewidth": 0,
              "ticks": ""
             }
            },
            "type": "scatter"
           }
          ],
          "scatter3d": [
           {
            "line": {
             "colorbar": {
              "outlinewidth": 0,
              "ticks": ""
             }
            },
            "marker": {
             "colorbar": {
              "outlinewidth": 0,
              "ticks": ""
             }
            },
            "type": "scatter3d"
           }
          ],
          "scattercarpet": [
           {
            "marker": {
             "colorbar": {
              "outlinewidth": 0,
              "ticks": ""
             }
            },
            "type": "scattercarpet"
           }
          ],
          "scattergeo": [
           {
            "marker": {
             "colorbar": {
              "outlinewidth": 0,
              "ticks": ""
             }
            },
            "type": "scattergeo"
           }
          ],
          "scattergl": [
           {
            "marker": {
             "colorbar": {
              "outlinewidth": 0,
              "ticks": ""
             }
            },
            "type": "scattergl"
           }
          ],
          "scattermapbox": [
           {
            "marker": {
             "colorbar": {
              "outlinewidth": 0,
              "ticks": ""
             }
            },
            "type": "scattermapbox"
           }
          ],
          "scatterpolar": [
           {
            "marker": {
             "colorbar": {
              "outlinewidth": 0,
              "ticks": ""
             }
            },
            "type": "scatterpolar"
           }
          ],
          "scatterpolargl": [
           {
            "marker": {
             "colorbar": {
              "outlinewidth": 0,
              "ticks": ""
             }
            },
            "type": "scatterpolargl"
           }
          ],
          "scatterternary": [
           {
            "marker": {
             "colorbar": {
              "outlinewidth": 0,
              "ticks": ""
             }
            },
            "type": "scatterternary"
           }
          ],
          "surface": [
           {
            "colorbar": {
             "outlinewidth": 0,
             "ticks": ""
            },
            "colorscale": [
             [
              0,
              "#0d0887"
             ],
             [
              0.1111111111111111,
              "#46039f"
             ],
             [
              0.2222222222222222,
              "#7201a8"
             ],
             [
              0.3333333333333333,
              "#9c179e"
             ],
             [
              0.4444444444444444,
              "#bd3786"
             ],
             [
              0.5555555555555556,
              "#d8576b"
             ],
             [
              0.6666666666666666,
              "#ed7953"
             ],
             [
              0.7777777777777778,
              "#fb9f3a"
             ],
             [
              0.8888888888888888,
              "#fdca26"
             ],
             [
              1,
              "#f0f921"
             ]
            ],
            "type": "surface"
           }
          ],
          "table": [
           {
            "cells": {
             "fill": {
              "color": "#EBF0F8"
             },
             "line": {
              "color": "white"
             }
            },
            "header": {
             "fill": {
              "color": "#C8D4E3"
             },
             "line": {
              "color": "white"
             }
            },
            "type": "table"
           }
          ]
         },
         "layout": {
          "annotationdefaults": {
           "arrowcolor": "#2a3f5f",
           "arrowhead": 0,
           "arrowwidth": 1
          },
          "autotypenumbers": "strict",
          "coloraxis": {
           "colorbar": {
            "outlinewidth": 0,
            "ticks": ""
           }
          },
          "colorscale": {
           "diverging": [
            [
             0,
             "#8e0152"
            ],
            [
             0.1,
             "#c51b7d"
            ],
            [
             0.2,
             "#de77ae"
            ],
            [
             0.3,
             "#f1b6da"
            ],
            [
             0.4,
             "#fde0ef"
            ],
            [
             0.5,
             "#f7f7f7"
            ],
            [
             0.6,
             "#e6f5d0"
            ],
            [
             0.7,
             "#b8e186"
            ],
            [
             0.8,
             "#7fbc41"
            ],
            [
             0.9,
             "#4d9221"
            ],
            [
             1,
             "#276419"
            ]
           ],
           "sequential": [
            [
             0,
             "#0d0887"
            ],
            [
             0.1111111111111111,
             "#46039f"
            ],
            [
             0.2222222222222222,
             "#7201a8"
            ],
            [
             0.3333333333333333,
             "#9c179e"
            ],
            [
             0.4444444444444444,
             "#bd3786"
            ],
            [
             0.5555555555555556,
             "#d8576b"
            ],
            [
             0.6666666666666666,
             "#ed7953"
            ],
            [
             0.7777777777777778,
             "#fb9f3a"
            ],
            [
             0.8888888888888888,
             "#fdca26"
            ],
            [
             1,
             "#f0f921"
            ]
           ],
           "sequentialminus": [
            [
             0,
             "#0d0887"
            ],
            [
             0.1111111111111111,
             "#46039f"
            ],
            [
             0.2222222222222222,
             "#7201a8"
            ],
            [
             0.3333333333333333,
             "#9c179e"
            ],
            [
             0.4444444444444444,
             "#bd3786"
            ],
            [
             0.5555555555555556,
             "#d8576b"
            ],
            [
             0.6666666666666666,
             "#ed7953"
            ],
            [
             0.7777777777777778,
             "#fb9f3a"
            ],
            [
             0.8888888888888888,
             "#fdca26"
            ],
            [
             1,
             "#f0f921"
            ]
           ]
          },
          "colorway": [
           "#636efa",
           "#EF553B",
           "#00cc96",
           "#ab63fa",
           "#FFA15A",
           "#19d3f3",
           "#FF6692",
           "#B6E880",
           "#FF97FF",
           "#FECB52"
          ],
          "font": {
           "color": "#2a3f5f"
          },
          "geo": {
           "bgcolor": "white",
           "lakecolor": "white",
           "landcolor": "#E5ECF6",
           "showlakes": true,
           "showland": true,
           "subunitcolor": "white"
          },
          "hoverlabel": {
           "align": "left"
          },
          "hovermode": "closest",
          "mapbox": {
           "style": "light"
          },
          "paper_bgcolor": "white",
          "plot_bgcolor": "#E5ECF6",
          "polar": {
           "angularaxis": {
            "gridcolor": "white",
            "linecolor": "white",
            "ticks": ""
           },
           "bgcolor": "#E5ECF6",
           "radialaxis": {
            "gridcolor": "white",
            "linecolor": "white",
            "ticks": ""
           }
          },
          "scene": {
           "xaxis": {
            "backgroundcolor": "#E5ECF6",
            "gridcolor": "white",
            "gridwidth": 2,
            "linecolor": "white",
            "showbackground": true,
            "ticks": "",
            "zerolinecolor": "white"
           },
           "yaxis": {
            "backgroundcolor": "#E5ECF6",
            "gridcolor": "white",
            "gridwidth": 2,
            "linecolor": "white",
            "showbackground": true,
            "ticks": "",
            "zerolinecolor": "white"
           },
           "zaxis": {
            "backgroundcolor": "#E5ECF6",
            "gridcolor": "white",
            "gridwidth": 2,
            "linecolor": "white",
            "showbackground": true,
            "ticks": "",
            "zerolinecolor": "white"
           }
          },
          "shapedefaults": {
           "line": {
            "color": "#2a3f5f"
           }
          },
          "ternary": {
           "aaxis": {
            "gridcolor": "white",
            "linecolor": "white",
            "ticks": ""
           },
           "baxis": {
            "gridcolor": "white",
            "linecolor": "white",
            "ticks": ""
           },
           "bgcolor": "#E5ECF6",
           "caxis": {
            "gridcolor": "white",
            "linecolor": "white",
            "ticks": ""
           }
          },
          "title": {
           "x": 0.05
          },
          "xaxis": {
           "automargin": true,
           "gridcolor": "white",
           "linecolor": "white",
           "ticks": "",
           "title": {
            "standoff": 15
           },
           "zerolinecolor": "white",
           "zerolinewidth": 2
          },
          "yaxis": {
           "automargin": true,
           "gridcolor": "white",
           "linecolor": "white",
           "ticks": "",
           "title": {
            "standoff": 15
           },
           "zerolinecolor": "white",
           "zerolinewidth": 2
          }
         }
        },
        "xaxis": {
         "anchor": "y",
         "domain": [
          0,
          1
         ],
         "title": {
          "text": "Название признака "
         }
        },
        "yaxis": {
         "anchor": "x",
         "domain": [
          0,
          1
         ],
         "title": {
          "text": "sum of     Корреляция с целью"
         }
        }
       }
      },
      "text/html": [
       "<div>                            <div id=\"e02b75ee-b58c-4356-a01e-f3da537b43a0\" class=\"plotly-graph-div\" style=\"height:525px; width:100%;\"></div>            <script type=\"text/javascript\">                require([\"plotly\"], function(Plotly) {                    window.PLOTLYENV=window.PLOTLYENV || {};                                    if (document.getElementById(\"e02b75ee-b58c-4356-a01e-f3da537b43a0\")) {                    Plotly.newPlot(                        \"e02b75ee-b58c-4356-a01e-f3da537b43a0\",                        [{\"alignmentgroup\":\"True\",\"bingroup\":\"x\",\"histfunc\":\"sum\",\"hovertemplate\":\"\\u041d\\u0430\\u0437\\u0432\\u0430\\u043d\\u0438\\u0435 \\u043f\\u0440\\u0438\\u0437\\u043d\\u0430\\u043a\\u0430 =%{x}<br>sum of     \\u041a\\u043e\\u0440\\u0440\\u0435\\u043b\\u044f\\u0446\\u0438\\u044f \\u0441 \\u0446\\u0435\\u043b\\u044c\\u044e=%{y}<extra></extra>\",\"legendgroup\":\"\",\"marker\":{\"color\":\"#636efa\",\"pattern\":{\"shape\":\"\"}},\"name\":\"\",\"offsetgroup\":\"\",\"orientation\":\"v\",\"showlegend\":false,\"x\":[\"\\u0420\\u0435\\u0446\\u0438\\u0434\\u0438\\u0432\",\"\\u044d\\u0444\\u0444\\u0435\\u043a\\u0442 \\u043b\\u0435\\u0447\\u0435\\u043d\\u0438\\u044f \\u0440\\u0435\\u0446\\u0438\\u0434\\u0438\\u0432\\u0430\",\"\\u0412\\u0440\\u0435\\u043c\\u044f \\u043e\\u043f\\u0435\\u0440\\u0430\\u0446\\u0438\\u0438\",\"\\u0421\\u043e\\u0445\\u0440\\u0430\\u043d\\u0435\\u043d\\u0438\\u0435 \\u0440\\u0435\\u0437\\u0435\\u0446\\u0438\\u0440\\u043e\\u0432\\u0430\\u043d\\u043d\\u043e\\u0439 \\u043f\\u043e\\u0447\\u043a\\u0438 \\u0434\\u043b\\u0438\\u0442\\u0435\\u043b\\u044c\\u043d\\u043e\\u0435\",\"\\u0428\\u0432\\u044b \\u0447\\u0435\\u0440\\u0435\\u0437 \\u0442\\u043e\\u043b\\u0449\\u0443 \\u043f\\u0430\\u0440\\u0435\\u043d\\u0445\\u0438\\u043c\\u044b\",\"\\u0434\\u0438\\u0443\\u0440\\u0435\\u0437, \\u0441\\u0443\\u0442\\u043a\\u0438\",\"\\u0421\\u0440\\u043e\\u0447\\u043d\\u0430\\u044f \\u0433\\u0438\\u0441\\u0442\\u043e\\u043b\\u043e\\u0433\\u0438\\u044f\",\"\\u043c\\u0435\\u0441\\u0442\\u043d\\u044b\\u0439\",\"\\u0442\\u0435\\u043c\\u043f \\u0434\\u0438\\u0443\\u0440\\u0435\\u0437\\u0430, \\u043c\\u043b/\\u043a\\u0433/\\u0447\",\"Sinus\"],\"xaxis\":\"x\",\"y\":[0.7463584112493383,0.6284293281060574,0.5800311963425576,0.47644812613904614,0.37604691430846354,0.3723363670904669,0.34455562868766876,0.3251555864162929,0.2527791547946893,0.24985517969894286],\"yaxis\":\"y\",\"type\":\"histogram\"}],                        {\"template\":{\"data\":{\"bar\":[{\"error_x\":{\"color\":\"#2a3f5f\"},\"error_y\":{\"color\":\"#2a3f5f\"},\"marker\":{\"line\":{\"color\":\"#E5ECF6\",\"width\":0.5},\"pattern\":{\"fillmode\":\"overlay\",\"size\":10,\"solidity\":0.2}},\"type\":\"bar\"}],\"barpolar\":[{\"marker\":{\"line\":{\"color\":\"#E5ECF6\",\"width\":0.5},\"pattern\":{\"fillmode\":\"overlay\",\"size\":10,\"solidity\":0.2}},\"type\":\"barpolar\"}],\"carpet\":[{\"aaxis\":{\"endlinecolor\":\"#2a3f5f\",\"gridcolor\":\"white\",\"linecolor\":\"white\",\"minorgridcolor\":\"white\",\"startlinecolor\":\"#2a3f5f\"},\"baxis\":{\"endlinecolor\":\"#2a3f5f\",\"gridcolor\":\"white\",\"linecolor\":\"white\",\"minorgridcolor\":\"white\",\"startlinecolor\":\"#2a3f5f\"},\"type\":\"carpet\"}],\"choropleth\":[{\"colorbar\":{\"outlinewidth\":0,\"ticks\":\"\"},\"type\":\"choropleth\"}],\"contour\":[{\"colorbar\":{\"outlinewidth\":0,\"ticks\":\"\"},\"colorscale\":[[0.0,\"#0d0887\"],[0.1111111111111111,\"#46039f\"],[0.2222222222222222,\"#7201a8\"],[0.3333333333333333,\"#9c179e\"],[0.4444444444444444,\"#bd3786\"],[0.5555555555555556,\"#d8576b\"],[0.6666666666666666,\"#ed7953\"],[0.7777777777777778,\"#fb9f3a\"],[0.8888888888888888,\"#fdca26\"],[1.0,\"#f0f921\"]],\"type\":\"contour\"}],\"contourcarpet\":[{\"colorbar\":{\"outlinewidth\":0,\"ticks\":\"\"},\"type\":\"contourcarpet\"}],\"heatmap\":[{\"colorbar\":{\"outlinewidth\":0,\"ticks\":\"\"},\"colorscale\":[[0.0,\"#0d0887\"],[0.1111111111111111,\"#46039f\"],[0.2222222222222222,\"#7201a8\"],[0.3333333333333333,\"#9c179e\"],[0.4444444444444444,\"#bd3786\"],[0.5555555555555556,\"#d8576b\"],[0.6666666666666666,\"#ed7953\"],[0.7777777777777778,\"#fb9f3a\"],[0.8888888888888888,\"#fdca26\"],[1.0,\"#f0f921\"]],\"type\":\"heatmap\"}],\"heatmapgl\":[{\"colorbar\":{\"outlinewidth\":0,\"ticks\":\"\"},\"colorscale\":[[0.0,\"#0d0887\"],[0.1111111111111111,\"#46039f\"],[0.2222222222222222,\"#7201a8\"],[0.3333333333333333,\"#9c179e\"],[0.4444444444444444,\"#bd3786\"],[0.5555555555555556,\"#d8576b\"],[0.6666666666666666,\"#ed7953\"],[0.7777777777777778,\"#fb9f3a\"],[0.8888888888888888,\"#fdca26\"],[1.0,\"#f0f921\"]],\"type\":\"heatmapgl\"}],\"histogram\":[{\"marker\":{\"pattern\":{\"fillmode\":\"overlay\",\"size\":10,\"solidity\":0.2}},\"type\":\"histogram\"}],\"histogram2d\":[{\"colorbar\":{\"outlinewidth\":0,\"ticks\":\"\"},\"colorscale\":[[0.0,\"#0d0887\"],[0.1111111111111111,\"#46039f\"],[0.2222222222222222,\"#7201a8\"],[0.3333333333333333,\"#9c179e\"],[0.4444444444444444,\"#bd3786\"],[0.5555555555555556,\"#d8576b\"],[0.6666666666666666,\"#ed7953\"],[0.7777777777777778,\"#fb9f3a\"],[0.8888888888888888,\"#fdca26\"],[1.0,\"#f0f921\"]],\"type\":\"histogram2d\"}],\"histogram2dcontour\":[{\"colorbar\":{\"outlinewidth\":0,\"ticks\":\"\"},\"colorscale\":[[0.0,\"#0d0887\"],[0.1111111111111111,\"#46039f\"],[0.2222222222222222,\"#7201a8\"],[0.3333333333333333,\"#9c179e\"],[0.4444444444444444,\"#bd3786\"],[0.5555555555555556,\"#d8576b\"],[0.6666666666666666,\"#ed7953\"],[0.7777777777777778,\"#fb9f3a\"],[0.8888888888888888,\"#fdca26\"],[1.0,\"#f0f921\"]],\"type\":\"histogram2dcontour\"}],\"mesh3d\":[{\"colorbar\":{\"outlinewidth\":0,\"ticks\":\"\"},\"type\":\"mesh3d\"}],\"parcoords\":[{\"line\":{\"colorbar\":{\"outlinewidth\":0,\"ticks\":\"\"}},\"type\":\"parcoords\"}],\"pie\":[{\"automargin\":true,\"type\":\"pie\"}],\"scatter\":[{\"marker\":{\"colorbar\":{\"outlinewidth\":0,\"ticks\":\"\"}},\"type\":\"scatter\"}],\"scatter3d\":[{\"line\":{\"colorbar\":{\"outlinewidth\":0,\"ticks\":\"\"}},\"marker\":{\"colorbar\":{\"outlinewidth\":0,\"ticks\":\"\"}},\"type\":\"scatter3d\"}],\"scattercarpet\":[{\"marker\":{\"colorbar\":{\"outlinewidth\":0,\"ticks\":\"\"}},\"type\":\"scattercarpet\"}],\"scattergeo\":[{\"marker\":{\"colorbar\":{\"outlinewidth\":0,\"ticks\":\"\"}},\"type\":\"scattergeo\"}],\"scattergl\":[{\"marker\":{\"colorbar\":{\"outlinewidth\":0,\"ticks\":\"\"}},\"type\":\"scattergl\"}],\"scattermapbox\":[{\"marker\":{\"colorbar\":{\"outlinewidth\":0,\"ticks\":\"\"}},\"type\":\"scattermapbox\"}],\"scatterpolar\":[{\"marker\":{\"colorbar\":{\"outlinewidth\":0,\"ticks\":\"\"}},\"type\":\"scatterpolar\"}],\"scatterpolargl\":[{\"marker\":{\"colorbar\":{\"outlinewidth\":0,\"ticks\":\"\"}},\"type\":\"scatterpolargl\"}],\"scatterternary\":[{\"marker\":{\"colorbar\":{\"outlinewidth\":0,\"ticks\":\"\"}},\"type\":\"scatterternary\"}],\"surface\":[{\"colorbar\":{\"outlinewidth\":0,\"ticks\":\"\"},\"colorscale\":[[0.0,\"#0d0887\"],[0.1111111111111111,\"#46039f\"],[0.2222222222222222,\"#7201a8\"],[0.3333333333333333,\"#9c179e\"],[0.4444444444444444,\"#bd3786\"],[0.5555555555555556,\"#d8576b\"],[0.6666666666666666,\"#ed7953\"],[0.7777777777777778,\"#fb9f3a\"],[0.8888888888888888,\"#fdca26\"],[1.0,\"#f0f921\"]],\"type\":\"surface\"}],\"table\":[{\"cells\":{\"fill\":{\"color\":\"#EBF0F8\"},\"line\":{\"color\":\"white\"}},\"header\":{\"fill\":{\"color\":\"#C8D4E3\"},\"line\":{\"color\":\"white\"}},\"type\":\"table\"}]},\"layout\":{\"annotationdefaults\":{\"arrowcolor\":\"#2a3f5f\",\"arrowhead\":0,\"arrowwidth\":1},\"autotypenumbers\":\"strict\",\"coloraxis\":{\"colorbar\":{\"outlinewidth\":0,\"ticks\":\"\"}},\"colorscale\":{\"diverging\":[[0,\"#8e0152\"],[0.1,\"#c51b7d\"],[0.2,\"#de77ae\"],[0.3,\"#f1b6da\"],[0.4,\"#fde0ef\"],[0.5,\"#f7f7f7\"],[0.6,\"#e6f5d0\"],[0.7,\"#b8e186\"],[0.8,\"#7fbc41\"],[0.9,\"#4d9221\"],[1,\"#276419\"]],\"sequential\":[[0.0,\"#0d0887\"],[0.1111111111111111,\"#46039f\"],[0.2222222222222222,\"#7201a8\"],[0.3333333333333333,\"#9c179e\"],[0.4444444444444444,\"#bd3786\"],[0.5555555555555556,\"#d8576b\"],[0.6666666666666666,\"#ed7953\"],[0.7777777777777778,\"#fb9f3a\"],[0.8888888888888888,\"#fdca26\"],[1.0,\"#f0f921\"]],\"sequentialminus\":[[0.0,\"#0d0887\"],[0.1111111111111111,\"#46039f\"],[0.2222222222222222,\"#7201a8\"],[0.3333333333333333,\"#9c179e\"],[0.4444444444444444,\"#bd3786\"],[0.5555555555555556,\"#d8576b\"],[0.6666666666666666,\"#ed7953\"],[0.7777777777777778,\"#fb9f3a\"],[0.8888888888888888,\"#fdca26\"],[1.0,\"#f0f921\"]]},\"colorway\":[\"#636efa\",\"#EF553B\",\"#00cc96\",\"#ab63fa\",\"#FFA15A\",\"#19d3f3\",\"#FF6692\",\"#B6E880\",\"#FF97FF\",\"#FECB52\"],\"font\":{\"color\":\"#2a3f5f\"},\"geo\":{\"bgcolor\":\"white\",\"lakecolor\":\"white\",\"landcolor\":\"#E5ECF6\",\"showlakes\":true,\"showland\":true,\"subunitcolor\":\"white\"},\"hoverlabel\":{\"align\":\"left\"},\"hovermode\":\"closest\",\"mapbox\":{\"style\":\"light\"},\"paper_bgcolor\":\"white\",\"plot_bgcolor\":\"#E5ECF6\",\"polar\":{\"angularaxis\":{\"gridcolor\":\"white\",\"linecolor\":\"white\",\"ticks\":\"\"},\"bgcolor\":\"#E5ECF6\",\"radialaxis\":{\"gridcolor\":\"white\",\"linecolor\":\"white\",\"ticks\":\"\"}},\"scene\":{\"xaxis\":{\"backgroundcolor\":\"#E5ECF6\",\"gridcolor\":\"white\",\"gridwidth\":2,\"linecolor\":\"white\",\"showbackground\":true,\"ticks\":\"\",\"zerolinecolor\":\"white\"},\"yaxis\":{\"backgroundcolor\":\"#E5ECF6\",\"gridcolor\":\"white\",\"gridwidth\":2,\"linecolor\":\"white\",\"showbackground\":true,\"ticks\":\"\",\"zerolinecolor\":\"white\"},\"zaxis\":{\"backgroundcolor\":\"#E5ECF6\",\"gridcolor\":\"white\",\"gridwidth\":2,\"linecolor\":\"white\",\"showbackground\":true,\"ticks\":\"\",\"zerolinecolor\":\"white\"}},\"shapedefaults\":{\"line\":{\"color\":\"#2a3f5f\"}},\"ternary\":{\"aaxis\":{\"gridcolor\":\"white\",\"linecolor\":\"white\",\"ticks\":\"\"},\"baxis\":{\"gridcolor\":\"white\",\"linecolor\":\"white\",\"ticks\":\"\"},\"bgcolor\":\"#E5ECF6\",\"caxis\":{\"gridcolor\":\"white\",\"linecolor\":\"white\",\"ticks\":\"\"}},\"title\":{\"x\":0.05},\"xaxis\":{\"automargin\":true,\"gridcolor\":\"white\",\"linecolor\":\"white\",\"ticks\":\"\",\"title\":{\"standoff\":15},\"zerolinecolor\":\"white\",\"zerolinewidth\":2},\"yaxis\":{\"automargin\":true,\"gridcolor\":\"white\",\"linecolor\":\"white\",\"ticks\":\"\",\"title\":{\"standoff\":15},\"zerolinecolor\":\"white\",\"zerolinewidth\":2}}},\"xaxis\":{\"anchor\":\"y\",\"domain\":[0.0,1.0],\"title\":{\"text\":\"\\u041d\\u0430\\u0437\\u0432\\u0430\\u043d\\u0438\\u0435 \\u043f\\u0440\\u0438\\u0437\\u043d\\u0430\\u043a\\u0430 \"}},\"yaxis\":{\"anchor\":\"x\",\"domain\":[0.0,1.0],\"title\":{\"text\":\"sum of     \\u041a\\u043e\\u0440\\u0440\\u0435\\u043b\\u044f\\u0446\\u0438\\u044f \\u0441 \\u0446\\u0435\\u043b\\u044c\\u044e\"}},\"legend\":{\"tracegroupgap\":0},\"margin\":{\"t\":60},\"barmode\":\"relative\"},                        {\"responsive\": true}                    ).then(function(){\n",
       "                            \n",
       "var gd = document.getElementById('e02b75ee-b58c-4356-a01e-f3da537b43a0');\n",
       "var x = new MutationObserver(function (mutations, observer) {{\n",
       "        var display = window.getComputedStyle(gd).display;\n",
       "        if (!display || display === 'none') {{\n",
       "            console.log([gd, 'removed!']);\n",
       "            Plotly.purge(gd);\n",
       "            observer.disconnect();\n",
       "        }}\n",
       "}});\n",
       "\n",
       "// Listen for the removal of the full notebook cells\n",
       "var notebookContainer = gd.closest('#notebook-container');\n",
       "if (notebookContainer) {{\n",
       "    x.observe(notebookContainer, {childList: true});\n",
       "}}\n",
       "\n",
       "// Listen for the clearing of the current output cell\n",
       "var outputEl = gd.closest('.output');\n",
       "if (outputEl) {{\n",
       "    x.observe(outputEl, {childList: true});\n",
       "}}\n",
       "\n",
       "                        })                };                });            </script>        </div>"
      ]
     },
     "metadata": {},
     "output_type": "display_data"
    }
   ],
   "source": [
    "corr_with_targ = df.corrwith(df_target).sort_values(ascending=False).head(10)\n",
    "px.histogram(y=corr_with_targ.values, x=corr_with_targ.index,\n",
    "             labels={'x':'Название признака ', 'y':'    Корреляция с целью'})\n"
   ]
  },
  {
   "cell_type": "markdown",
   "id": "0c6a8723",
   "metadata": {},
   "source": [
    "### Проведя исследование значений колонок были выявлены зависимости и предприняты действия по улучшению данных:"
   ]
  },
  {
   "cell_type": "code",
   "execution_count": 308,
   "id": "efdbf0df",
   "metadata": {},
   "outputs": [
    {
     "name": "stdout",
     "output_type": "stream",
     "text": [
      "Правильно ли посчитан Scoring Age:  False\n",
      "Правильно ли посчитан PADUA:  True\n",
      "Правильно ли посчитан RENAL:  True\n",
      "Правильно ли посчитан Scoring Age:  False\n",
      "Правильно ли посчитан PADUA:  True\n",
      "Правильно ли посчитан RENAL:  True\n"
     ]
    }
   ],
   "source": [
    "#Проверка зависимостей\n",
    "\n",
    "def checking_dependencies(df):\n",
    "    ### Проверка значений '1. Scoring: Age'  \n",
    "    # Правило подсчета Scoring age было получено из статьей про Charlson Comorbidity Index\n",
    "    scoring_age = df['Возраст'].apply(lambda age: 0 if age<40 else age//10 -3)\n",
    "\n",
    "    print('Правильно ли посчитан Scoring Age: ', (df['1. Scoring: Age'] == scoring_age).all())\n",
    "    # изменение  '1. Scoring: Age'\n",
    "    df['1. Scoring: Age'] = scoring_age\n",
    "\n",
    "    ###Пересчитываем CCI с уже новыми значениями 1. Scoring: Age \n",
    "    df['Charlson Comorbidity Index, '] = df['Comorbidity Component'] + df['1. Scoring: Age'] \n",
    "\n",
    "    #добавление колонки с процентным объемом опухоли\n",
    "    df.insert(48, 'объем_опухоли_в%',df['Объем опухоли, мл'] / df['Исходный v почки'])\n",
    "\n",
    "    #проверка правильности расчета коэффицента PADUA\n",
    "    padua = ['Размер', 'Exophitic', 'Sinus', 'Renal rim', 'Longitudinal', 'ЧЛС']\n",
    "    print('Правильно ли посчитан PADUA: ',(df['PADUA'] == df[padua].sum(axis=1)).all())\n",
    "\n",
    "    #проверка правильности расчета коэффицента RENAL\n",
    "    renal = ['Размер', 'Экзофит >50% - <50% - эндофит', 'синус/члс >7, 4-7, <=4 мм', 'Polar lines']\n",
    "    print('Правильно ли посчитан RENAL: ', (df['RENAL'] == df[renal].sum(axis=1)).all())\n",
    "    \n",
    "    return df\n",
    "\n",
    "df = checking_dependencies(df)\n",
    "df_test = checking_dependencies(df_test)"
   ]
  },
  {
   "cell_type": "markdown",
   "id": "a51e8fc9",
   "metadata": {},
   "source": [
    "__При анализе было выявлено:__\n",
    "\n",
    "- “рост2, м2 коррелирует с “рост” \n",
    "- Unnamed: 0  - Unnamed: 0.1  - просто индексы, смысла не несут\n",
    "- рN,  M и эффект - просто нули и Nan содержат в себе\n",
    "- Доступ первой резекции= Доступ первой резекции.1 - одинаковые значения - одну из них удаляем\n",
    "- мтс != гистологический отступ мм  но - корреляция = 1 - одну из них удаляем (убираем мтс, потому что у него больше Nan’ов) \n",
    "- Исходный диагноз - . 1-98.8%,  2 - 1.02%. слишком большой перевес 1 класса. \n",
    "- основной вид гемостаза  - категории 1 или 2 (1 - 96.5%  ; 2 - 3.5%)\n",
    "- Вскрытие собирательной системы  - 0 -  95.4% ; 1 - 4.6% \n",
    "- СКФ.1 - дублирует СКФ\n",
    "- “Осложнения интраоперационные.1” и “Осложнения интраоперационные” не несут информации (сильный перевес одного из класссов) \n",
    "- pT при одностороннем поражении.1 - представляет собой “pT при одностороннем поражении” как-то расфасованное по группам ,  а также высоко коррелирует с ним (0.86)\n",
    "- локализация - дублирует локализация.1 (хотя из-за одного выброса корреляция меняется с 0.99  до  0.08)\n",
    "- ‘Размер.1’ - дублирует ‘Размер’\n",
    "- ‘Доступ первой резекции.1’ - ‘дублирует Доступ первой резекции’\n",
    "- ‘обнаружение дополнительных узлов’  -0 - 98.8% ; 1- 1.2% \n",
    "- ‘Число удаленных узлов’  -   1 - 98.8% ; 2 - 1.2%    \n",
    "- ‘Гемотрансфузия’  -  0- 75.7%;   1 - 3.9%;  Nan - 20.4%  \n",
    "- ‘Маннит’  - 0.0  -  0.733591   NaN  -  0.223938   1.0  -  0.042471   \n",
    "- ‘Лазикс’  - 0.0  -  0.664093   NaN  -  0.223938  1.0  -  0.111969  \n",
    "- ‘Расширенная операция/комбинированная’   - 0 - 0.984556    1- 0.015444  \n",
    "- ‘гистологический край положительный’  - 0 -   0.992278 \t1  -  0.007722 \n",
    "- ‘Осложнения интраоперационные’  - да\\нет   0  -  0.915058   1  -  0.084942\n",
    "- ‘нехирургические ранние осложнения кроме ПН’  -  0  -  0.95 ; 1  -  0.02; 5   - 0.01; 3 - 0.003 \n",
    "- ‘осложнения поздние’  -  0  -  0.99   ; 1  -  0.01\n",
    "- ‘повторная операция’   -  0  -  0.97    1  -  0.03\n",
    "- снижение темпа диуреза <0,5 мл/кг/ч на 6-12-<0,3 мл/кг/ч/24 часа (анурия)  -  0 -  0.92     ;   2 - 0.08\n",
    "- Острый диализ  -   0 - 0.996  ; 1 - 0.004\n",
    "- ‘Сохранение резецированной почки длительное’    -  0 -  0.965;   1 -  0.035/"
   ]
  },
  {
   "cell_type": "code",
   "execution_count": 309,
   "id": "b3251a2f",
   "metadata": {},
   "outputs": [],
   "source": [
    "# Удаление неинформативных признаков\n",
    "def droping_columns(df):\n",
    "    # при анализе смыслов колонок были выявлены колонки для удаления\n",
    "    drop_columns = ['рост2, м2' ,  'Unnamed: 0',\n",
    "                    'рN', 'M', 'эффект', 'Доступ первой резекции.1' ,\n",
    "                    'основной вид гемостаза', 'Вскрытие собирательной системы',\n",
    "                    'СКФ.1', 'локализация' , 'Размер.1', 'Исходный диагноз',\n",
    "                    'обнаружение дополнительных узлов', 'Число удаленных узлов',\n",
    "                    'Гемотрансфузия', 'Маннит', 'Лазикс', \n",
    "                    'Расширенная операция/комбинированная ', 'pT при одностороннем поражении.1',\n",
    "                    'гистологический край положительный', 'Осложнения интраоперационные', 'Осложнения интраоперационные.1',\n",
    "                    'нехирургические ранние осложнения кроме ПН',  'осложнения поздние',\n",
    "                    'повторная операция ', 'снижение темпа диуреза <0,5 мл/кг/ч на 6-12-<0,3 мл/кг/ч/24 часа (анурия)',\n",
    "                    'Острый диализ', 'Сохранение резецированной почки длительное', 'Исходная ХБП' ]\n",
    "\n",
    "    # признаки учавствующие в зависмостях\n",
    "    drop_columns +=  ['Объем опухоли, мл', 'Рост, см', 'Вес, кг', '1. Scoring: Age', 'Comorbidity Component', 'Размер', 'Exophitic', 'Sinus', 'Renal rim', 'Longitudinal', 'ЧЛС','Размер', 'Экзофит >50% - <50% - эндофит', 'синус/члс >7, 4-7, <=4 мм', 'Polar lines']\n",
    "    \n",
    "    df = df.drop(columns=drop_columns)\n",
    "    #__________________________________\n",
    "    \n",
    "    \n",
    "    \n",
    "    # удаляет столбцы\n",
    "    def drops(df, df_drop):\n",
    "        drop_column = df_drop[df_drop].index.to_list()\n",
    "        return df.drop(columns=drop_column)\n",
    "\n",
    "    # удаление дупликатных столбцов\n",
    "    df_drop = df.T.duplicated()\n",
    "    df = drops(df, df_drop)\n",
    "    #__________________________________\n",
    "\n",
    "    \n",
    "    # удаление столбцов с более 50% nan\n",
    "    df_drop = (df.isnull().sum()/df.shape[0]) > 0.5\n",
    "    df = drops(df, df_drop)\n",
    "    #__________________________________\n",
    "\n",
    "\n",
    "    # удлаение колонок с большим количеством (>70%) одного значения\n",
    "    def clear_preponderance(column, x):\n",
    "        temp = (column.value_counts(dropna=False, normalize=True) > x).sum()\n",
    "        if temp:\n",
    "            return True\n",
    "        return False\n",
    "    \n",
    "    name_drop =[clear_preponderance(df[col], 0.7) for col in df.columns]\n",
    "    drop_column = df.columns[name_drop].to_list()\n",
    "    df = df.drop(columns=drop_column)\n",
    "    #__________________________________\n",
    "\n",
    "    \n",
    "    return df\n",
    "# чистка признакового пространства у тренировочного и тестового датасетов\n",
    "df = droping_columns(df)\n",
    "df = df.drop(columns=['Unnamed: 0.1'])\n",
    "df_test = droping_columns(df_test)"
   ]
  },
  {
   "cell_type": "markdown",
   "id": "d4db0e74",
   "metadata": {},
   "source": [
    "# Анализ признаков после очистки"
   ]
  },
  {
   "cell_type": "code",
   "execution_count": 310,
   "id": "f7e1d1a1",
   "metadata": {},
   "outputs": [
    {
     "name": "stdout",
     "output_type": "stream",
     "text": [
      "Размер данных:\n",
      "количество строк(259)\n",
      "количество признаков(43)\n",
      "Какие типы данных используются: int64 float64\n",
      "Количество дубликатов строк: 0\n",
      "Количество дубликатов колонок: 0\n",
      "Процентн Nan в датасете: 5.28 %\n"
     ]
    }
   ],
   "source": [
    "general_analys(df)"
   ]
  },
  {
   "cell_type": "markdown",
   "id": "9739de37",
   "metadata": {},
   "source": [
    "## Наиболее коррелирующие с таргетом признаки после очистки"
   ]
  },
  {
   "cell_type": "code",
   "execution_count": 311,
   "id": "04a2695e",
   "metadata": {},
   "outputs": [
    {
     "data": {
      "application/vnd.plotly.v1+json": {
       "config": {
        "plotlyServerURL": "https://plot.ly"
       },
       "data": [
        {
         "alignmentgroup": "True",
         "bingroup": "x",
         "histfunc": "sum",
         "hovertemplate": "Название признака =%{x}<br>sum of      Корреляция с целью=%{y}<extra></extra>",
         "legendgroup": "",
         "marker": {
          "color": "#636efa",
          "pattern": {
           "shape": ""
          }
         },
         "name": "",
         "offsetgroup": "",
         "orientation": "v",
         "showlegend": false,
         "type": "histogram",
         "x": [
          "Время операции",
          "диурез, сутки",
          "темп диуреза, мл/кг/ч",
          "ASA (в осмотре анестезиологом)",
          "RENAL риск (4-6 vs 7-9 vs >=10)",
          "Что пережимали",
          "d max при одностороннем поражении",
          "Пол",
          "PADUA",
          "объем_опухоли_в%"
         ],
         "xaxis": "x",
         "y": [
          0.5800311963425576,
          0.3723363670904669,
          0.2527791547946893,
          0.21331309031321335,
          0.15421956972103545,
          0.15092863786564195,
          0.12587636832000326,
          0.10605347781211273,
          0.09455593079638239,
          0.09380735113139832
         ],
         "yaxis": "y"
        }
       ],
       "layout": {
        "barmode": "relative",
        "legend": {
         "tracegroupgap": 0
        },
        "margin": {
         "t": 60
        },
        "template": {
         "data": {
          "bar": [
           {
            "error_x": {
             "color": "#2a3f5f"
            },
            "error_y": {
             "color": "#2a3f5f"
            },
            "marker": {
             "line": {
              "color": "#E5ECF6",
              "width": 0.5
             },
             "pattern": {
              "fillmode": "overlay",
              "size": 10,
              "solidity": 0.2
             }
            },
            "type": "bar"
           }
          ],
          "barpolar": [
           {
            "marker": {
             "line": {
              "color": "#E5ECF6",
              "width": 0.5
             },
             "pattern": {
              "fillmode": "overlay",
              "size": 10,
              "solidity": 0.2
             }
            },
            "type": "barpolar"
           }
          ],
          "carpet": [
           {
            "aaxis": {
             "endlinecolor": "#2a3f5f",
             "gridcolor": "white",
             "linecolor": "white",
             "minorgridcolor": "white",
             "startlinecolor": "#2a3f5f"
            },
            "baxis": {
             "endlinecolor": "#2a3f5f",
             "gridcolor": "white",
             "linecolor": "white",
             "minorgridcolor": "white",
             "startlinecolor": "#2a3f5f"
            },
            "type": "carpet"
           }
          ],
          "choropleth": [
           {
            "colorbar": {
             "outlinewidth": 0,
             "ticks": ""
            },
            "type": "choropleth"
           }
          ],
          "contour": [
           {
            "colorbar": {
             "outlinewidth": 0,
             "ticks": ""
            },
            "colorscale": [
             [
              0,
              "#0d0887"
             ],
             [
              0.1111111111111111,
              "#46039f"
             ],
             [
              0.2222222222222222,
              "#7201a8"
             ],
             [
              0.3333333333333333,
              "#9c179e"
             ],
             [
              0.4444444444444444,
              "#bd3786"
             ],
             [
              0.5555555555555556,
              "#d8576b"
             ],
             [
              0.6666666666666666,
              "#ed7953"
             ],
             [
              0.7777777777777778,
              "#fb9f3a"
             ],
             [
              0.8888888888888888,
              "#fdca26"
             ],
             [
              1,
              "#f0f921"
             ]
            ],
            "type": "contour"
           }
          ],
          "contourcarpet": [
           {
            "colorbar": {
             "outlinewidth": 0,
             "ticks": ""
            },
            "type": "contourcarpet"
           }
          ],
          "heatmap": [
           {
            "colorbar": {
             "outlinewidth": 0,
             "ticks": ""
            },
            "colorscale": [
             [
              0,
              "#0d0887"
             ],
             [
              0.1111111111111111,
              "#46039f"
             ],
             [
              0.2222222222222222,
              "#7201a8"
             ],
             [
              0.3333333333333333,
              "#9c179e"
             ],
             [
              0.4444444444444444,
              "#bd3786"
             ],
             [
              0.5555555555555556,
              "#d8576b"
             ],
             [
              0.6666666666666666,
              "#ed7953"
             ],
             [
              0.7777777777777778,
              "#fb9f3a"
             ],
             [
              0.8888888888888888,
              "#fdca26"
             ],
             [
              1,
              "#f0f921"
             ]
            ],
            "type": "heatmap"
           }
          ],
          "heatmapgl": [
           {
            "colorbar": {
             "outlinewidth": 0,
             "ticks": ""
            },
            "colorscale": [
             [
              0,
              "#0d0887"
             ],
             [
              0.1111111111111111,
              "#46039f"
             ],
             [
              0.2222222222222222,
              "#7201a8"
             ],
             [
              0.3333333333333333,
              "#9c179e"
             ],
             [
              0.4444444444444444,
              "#bd3786"
             ],
             [
              0.5555555555555556,
              "#d8576b"
             ],
             [
              0.6666666666666666,
              "#ed7953"
             ],
             [
              0.7777777777777778,
              "#fb9f3a"
             ],
             [
              0.8888888888888888,
              "#fdca26"
             ],
             [
              1,
              "#f0f921"
             ]
            ],
            "type": "heatmapgl"
           }
          ],
          "histogram": [
           {
            "marker": {
             "pattern": {
              "fillmode": "overlay",
              "size": 10,
              "solidity": 0.2
             }
            },
            "type": "histogram"
           }
          ],
          "histogram2d": [
           {
            "colorbar": {
             "outlinewidth": 0,
             "ticks": ""
            },
            "colorscale": [
             [
              0,
              "#0d0887"
             ],
             [
              0.1111111111111111,
              "#46039f"
             ],
             [
              0.2222222222222222,
              "#7201a8"
             ],
             [
              0.3333333333333333,
              "#9c179e"
             ],
             [
              0.4444444444444444,
              "#bd3786"
             ],
             [
              0.5555555555555556,
              "#d8576b"
             ],
             [
              0.6666666666666666,
              "#ed7953"
             ],
             [
              0.7777777777777778,
              "#fb9f3a"
             ],
             [
              0.8888888888888888,
              "#fdca26"
             ],
             [
              1,
              "#f0f921"
             ]
            ],
            "type": "histogram2d"
           }
          ],
          "histogram2dcontour": [
           {
            "colorbar": {
             "outlinewidth": 0,
             "ticks": ""
            },
            "colorscale": [
             [
              0,
              "#0d0887"
             ],
             [
              0.1111111111111111,
              "#46039f"
             ],
             [
              0.2222222222222222,
              "#7201a8"
             ],
             [
              0.3333333333333333,
              "#9c179e"
             ],
             [
              0.4444444444444444,
              "#bd3786"
             ],
             [
              0.5555555555555556,
              "#d8576b"
             ],
             [
              0.6666666666666666,
              "#ed7953"
             ],
             [
              0.7777777777777778,
              "#fb9f3a"
             ],
             [
              0.8888888888888888,
              "#fdca26"
             ],
             [
              1,
              "#f0f921"
             ]
            ],
            "type": "histogram2dcontour"
           }
          ],
          "mesh3d": [
           {
            "colorbar": {
             "outlinewidth": 0,
             "ticks": ""
            },
            "type": "mesh3d"
           }
          ],
          "parcoords": [
           {
            "line": {
             "colorbar": {
              "outlinewidth": 0,
              "ticks": ""
             }
            },
            "type": "parcoords"
           }
          ],
          "pie": [
           {
            "automargin": true,
            "type": "pie"
           }
          ],
          "scatter": [
           {
            "marker": {
             "colorbar": {
              "outlinewidth": 0,
              "ticks": ""
             }
            },
            "type": "scatter"
           }
          ],
          "scatter3d": [
           {
            "line": {
             "colorbar": {
              "outlinewidth": 0,
              "ticks": ""
             }
            },
            "marker": {
             "colorbar": {
              "outlinewidth": 0,
              "ticks": ""
             }
            },
            "type": "scatter3d"
           }
          ],
          "scattercarpet": [
           {
            "marker": {
             "colorbar": {
              "outlinewidth": 0,
              "ticks": ""
             }
            },
            "type": "scattercarpet"
           }
          ],
          "scattergeo": [
           {
            "marker": {
             "colorbar": {
              "outlinewidth": 0,
              "ticks": ""
             }
            },
            "type": "scattergeo"
           }
          ],
          "scattergl": [
           {
            "marker": {
             "colorbar": {
              "outlinewidth": 0,
              "ticks": ""
             }
            },
            "type": "scattergl"
           }
          ],
          "scattermapbox": [
           {
            "marker": {
             "colorbar": {
              "outlinewidth": 0,
              "ticks": ""
             }
            },
            "type": "scattermapbox"
           }
          ],
          "scatterpolar": [
           {
            "marker": {
             "colorbar": {
              "outlinewidth": 0,
              "ticks": ""
             }
            },
            "type": "scatterpolar"
           }
          ],
          "scatterpolargl": [
           {
            "marker": {
             "colorbar": {
              "outlinewidth": 0,
              "ticks": ""
             }
            },
            "type": "scatterpolargl"
           }
          ],
          "scatterternary": [
           {
            "marker": {
             "colorbar": {
              "outlinewidth": 0,
              "ticks": ""
             }
            },
            "type": "scatterternary"
           }
          ],
          "surface": [
           {
            "colorbar": {
             "outlinewidth": 0,
             "ticks": ""
            },
            "colorscale": [
             [
              0,
              "#0d0887"
             ],
             [
              0.1111111111111111,
              "#46039f"
             ],
             [
              0.2222222222222222,
              "#7201a8"
             ],
             [
              0.3333333333333333,
              "#9c179e"
             ],
             [
              0.4444444444444444,
              "#bd3786"
             ],
             [
              0.5555555555555556,
              "#d8576b"
             ],
             [
              0.6666666666666666,
              "#ed7953"
             ],
             [
              0.7777777777777778,
              "#fb9f3a"
             ],
             [
              0.8888888888888888,
              "#fdca26"
             ],
             [
              1,
              "#f0f921"
             ]
            ],
            "type": "surface"
           }
          ],
          "table": [
           {
            "cells": {
             "fill": {
              "color": "#EBF0F8"
             },
             "line": {
              "color": "white"
             }
            },
            "header": {
             "fill": {
              "color": "#C8D4E3"
             },
             "line": {
              "color": "white"
             }
            },
            "type": "table"
           }
          ]
         },
         "layout": {
          "annotationdefaults": {
           "arrowcolor": "#2a3f5f",
           "arrowhead": 0,
           "arrowwidth": 1
          },
          "autotypenumbers": "strict",
          "coloraxis": {
           "colorbar": {
            "outlinewidth": 0,
            "ticks": ""
           }
          },
          "colorscale": {
           "diverging": [
            [
             0,
             "#8e0152"
            ],
            [
             0.1,
             "#c51b7d"
            ],
            [
             0.2,
             "#de77ae"
            ],
            [
             0.3,
             "#f1b6da"
            ],
            [
             0.4,
             "#fde0ef"
            ],
            [
             0.5,
             "#f7f7f7"
            ],
            [
             0.6,
             "#e6f5d0"
            ],
            [
             0.7,
             "#b8e186"
            ],
            [
             0.8,
             "#7fbc41"
            ],
            [
             0.9,
             "#4d9221"
            ],
            [
             1,
             "#276419"
            ]
           ],
           "sequential": [
            [
             0,
             "#0d0887"
            ],
            [
             0.1111111111111111,
             "#46039f"
            ],
            [
             0.2222222222222222,
             "#7201a8"
            ],
            [
             0.3333333333333333,
             "#9c179e"
            ],
            [
             0.4444444444444444,
             "#bd3786"
            ],
            [
             0.5555555555555556,
             "#d8576b"
            ],
            [
             0.6666666666666666,
             "#ed7953"
            ],
            [
             0.7777777777777778,
             "#fb9f3a"
            ],
            [
             0.8888888888888888,
             "#fdca26"
            ],
            [
             1,
             "#f0f921"
            ]
           ],
           "sequentialminus": [
            [
             0,
             "#0d0887"
            ],
            [
             0.1111111111111111,
             "#46039f"
            ],
            [
             0.2222222222222222,
             "#7201a8"
            ],
            [
             0.3333333333333333,
             "#9c179e"
            ],
            [
             0.4444444444444444,
             "#bd3786"
            ],
            [
             0.5555555555555556,
             "#d8576b"
            ],
            [
             0.6666666666666666,
             "#ed7953"
            ],
            [
             0.7777777777777778,
             "#fb9f3a"
            ],
            [
             0.8888888888888888,
             "#fdca26"
            ],
            [
             1,
             "#f0f921"
            ]
           ]
          },
          "colorway": [
           "#636efa",
           "#EF553B",
           "#00cc96",
           "#ab63fa",
           "#FFA15A",
           "#19d3f3",
           "#FF6692",
           "#B6E880",
           "#FF97FF",
           "#FECB52"
          ],
          "font": {
           "color": "#2a3f5f"
          },
          "geo": {
           "bgcolor": "white",
           "lakecolor": "white",
           "landcolor": "#E5ECF6",
           "showlakes": true,
           "showland": true,
           "subunitcolor": "white"
          },
          "hoverlabel": {
           "align": "left"
          },
          "hovermode": "closest",
          "mapbox": {
           "style": "light"
          },
          "paper_bgcolor": "white",
          "plot_bgcolor": "#E5ECF6",
          "polar": {
           "angularaxis": {
            "gridcolor": "white",
            "linecolor": "white",
            "ticks": ""
           },
           "bgcolor": "#E5ECF6",
           "radialaxis": {
            "gridcolor": "white",
            "linecolor": "white",
            "ticks": ""
           }
          },
          "scene": {
           "xaxis": {
            "backgroundcolor": "#E5ECF6",
            "gridcolor": "white",
            "gridwidth": 2,
            "linecolor": "white",
            "showbackground": true,
            "ticks": "",
            "zerolinecolor": "white"
           },
           "yaxis": {
            "backgroundcolor": "#E5ECF6",
            "gridcolor": "white",
            "gridwidth": 2,
            "linecolor": "white",
            "showbackground": true,
            "ticks": "",
            "zerolinecolor": "white"
           },
           "zaxis": {
            "backgroundcolor": "#E5ECF6",
            "gridcolor": "white",
            "gridwidth": 2,
            "linecolor": "white",
            "showbackground": true,
            "ticks": "",
            "zerolinecolor": "white"
           }
          },
          "shapedefaults": {
           "line": {
            "color": "#2a3f5f"
           }
          },
          "ternary": {
           "aaxis": {
            "gridcolor": "white",
            "linecolor": "white",
            "ticks": ""
           },
           "baxis": {
            "gridcolor": "white",
            "linecolor": "white",
            "ticks": ""
           },
           "bgcolor": "#E5ECF6",
           "caxis": {
            "gridcolor": "white",
            "linecolor": "white",
            "ticks": ""
           }
          },
          "title": {
           "x": 0.05
          },
          "xaxis": {
           "automargin": true,
           "gridcolor": "white",
           "linecolor": "white",
           "ticks": "",
           "title": {
            "standoff": 15
           },
           "zerolinecolor": "white",
           "zerolinewidth": 2
          },
          "yaxis": {
           "automargin": true,
           "gridcolor": "white",
           "linecolor": "white",
           "ticks": "",
           "title": {
            "standoff": 15
           },
           "zerolinecolor": "white",
           "zerolinewidth": 2
          }
         }
        },
        "xaxis": {
         "anchor": "y",
         "domain": [
          0,
          1
         ],
         "title": {
          "text": "Название признака "
         }
        },
        "yaxis": {
         "anchor": "x",
         "domain": [
          0,
          1
         ],
         "title": {
          "text": "sum of      Корреляция с целью"
         }
        }
       }
      },
      "text/html": [
       "<div>                            <div id=\"a574d2ef-9905-4573-a82f-fc82bff415dc\" class=\"plotly-graph-div\" style=\"height:525px; width:100%;\"></div>            <script type=\"text/javascript\">                require([\"plotly\"], function(Plotly) {                    window.PLOTLYENV=window.PLOTLYENV || {};                                    if (document.getElementById(\"a574d2ef-9905-4573-a82f-fc82bff415dc\")) {                    Plotly.newPlot(                        \"a574d2ef-9905-4573-a82f-fc82bff415dc\",                        [{\"alignmentgroup\":\"True\",\"bingroup\":\"x\",\"histfunc\":\"sum\",\"hovertemplate\":\"\\u041d\\u0430\\u0437\\u0432\\u0430\\u043d\\u0438\\u0435 \\u043f\\u0440\\u0438\\u0437\\u043d\\u0430\\u043a\\u0430 =%{x}<br>sum of      \\u041a\\u043e\\u0440\\u0440\\u0435\\u043b\\u044f\\u0446\\u0438\\u044f \\u0441 \\u0446\\u0435\\u043b\\u044c\\u044e=%{y}<extra></extra>\",\"legendgroup\":\"\",\"marker\":{\"color\":\"#636efa\",\"pattern\":{\"shape\":\"\"}},\"name\":\"\",\"offsetgroup\":\"\",\"orientation\":\"v\",\"showlegend\":false,\"x\":[\"\\u0412\\u0440\\u0435\\u043c\\u044f \\u043e\\u043f\\u0435\\u0440\\u0430\\u0446\\u0438\\u0438\",\"\\u0434\\u0438\\u0443\\u0440\\u0435\\u0437, \\u0441\\u0443\\u0442\\u043a\\u0438\",\"\\u0442\\u0435\\u043c\\u043f \\u0434\\u0438\\u0443\\u0440\\u0435\\u0437\\u0430, \\u043c\\u043b/\\u043a\\u0433/\\u0447\",\"ASA (\\u0432 \\u043e\\u0441\\u043c\\u043e\\u0442\\u0440\\u0435 \\u0430\\u043d\\u0435\\u0441\\u0442\\u0435\\u0437\\u0438\\u043e\\u043b\\u043e\\u0433\\u043e\\u043c)\",\"RENAL \\u0440\\u0438\\u0441\\u043a (4-6 vs 7-9 vs >=10)\",\"\\u0427\\u0442\\u043e \\u043f\\u0435\\u0440\\u0435\\u0436\\u0438\\u043c\\u0430\\u043b\\u0438\",\"d max \\u043f\\u0440\\u0438 \\u043e\\u0434\\u043d\\u043e\\u0441\\u0442\\u043e\\u0440\\u043e\\u043d\\u043d\\u0435\\u043c \\u043f\\u043e\\u0440\\u0430\\u0436\\u0435\\u043d\\u0438\\u0438\",\"\\u041f\\u043e\\u043b\",\"PADUA\",\"\\u043e\\u0431\\u044a\\u0435\\u043c_\\u043e\\u043f\\u0443\\u0445\\u043e\\u043b\\u0438_\\u0432%\"],\"xaxis\":\"x\",\"y\":[0.5800311963425576,0.3723363670904669,0.2527791547946893,0.21331309031321335,0.15421956972103545,0.15092863786564195,0.12587636832000326,0.10605347781211273,0.09455593079638239,0.09380735113139832],\"yaxis\":\"y\",\"type\":\"histogram\"}],                        {\"template\":{\"data\":{\"bar\":[{\"error_x\":{\"color\":\"#2a3f5f\"},\"error_y\":{\"color\":\"#2a3f5f\"},\"marker\":{\"line\":{\"color\":\"#E5ECF6\",\"width\":0.5},\"pattern\":{\"fillmode\":\"overlay\",\"size\":10,\"solidity\":0.2}},\"type\":\"bar\"}],\"barpolar\":[{\"marker\":{\"line\":{\"color\":\"#E5ECF6\",\"width\":0.5},\"pattern\":{\"fillmode\":\"overlay\",\"size\":10,\"solidity\":0.2}},\"type\":\"barpolar\"}],\"carpet\":[{\"aaxis\":{\"endlinecolor\":\"#2a3f5f\",\"gridcolor\":\"white\",\"linecolor\":\"white\",\"minorgridcolor\":\"white\",\"startlinecolor\":\"#2a3f5f\"},\"baxis\":{\"endlinecolor\":\"#2a3f5f\",\"gridcolor\":\"white\",\"linecolor\":\"white\",\"minorgridcolor\":\"white\",\"startlinecolor\":\"#2a3f5f\"},\"type\":\"carpet\"}],\"choropleth\":[{\"colorbar\":{\"outlinewidth\":0,\"ticks\":\"\"},\"type\":\"choropleth\"}],\"contour\":[{\"colorbar\":{\"outlinewidth\":0,\"ticks\":\"\"},\"colorscale\":[[0.0,\"#0d0887\"],[0.1111111111111111,\"#46039f\"],[0.2222222222222222,\"#7201a8\"],[0.3333333333333333,\"#9c179e\"],[0.4444444444444444,\"#bd3786\"],[0.5555555555555556,\"#d8576b\"],[0.6666666666666666,\"#ed7953\"],[0.7777777777777778,\"#fb9f3a\"],[0.8888888888888888,\"#fdca26\"],[1.0,\"#f0f921\"]],\"type\":\"contour\"}],\"contourcarpet\":[{\"colorbar\":{\"outlinewidth\":0,\"ticks\":\"\"},\"type\":\"contourcarpet\"}],\"heatmap\":[{\"colorbar\":{\"outlinewidth\":0,\"ticks\":\"\"},\"colorscale\":[[0.0,\"#0d0887\"],[0.1111111111111111,\"#46039f\"],[0.2222222222222222,\"#7201a8\"],[0.3333333333333333,\"#9c179e\"],[0.4444444444444444,\"#bd3786\"],[0.5555555555555556,\"#d8576b\"],[0.6666666666666666,\"#ed7953\"],[0.7777777777777778,\"#fb9f3a\"],[0.8888888888888888,\"#fdca26\"],[1.0,\"#f0f921\"]],\"type\":\"heatmap\"}],\"heatmapgl\":[{\"colorbar\":{\"outlinewidth\":0,\"ticks\":\"\"},\"colorscale\":[[0.0,\"#0d0887\"],[0.1111111111111111,\"#46039f\"],[0.2222222222222222,\"#7201a8\"],[0.3333333333333333,\"#9c179e\"],[0.4444444444444444,\"#bd3786\"],[0.5555555555555556,\"#d8576b\"],[0.6666666666666666,\"#ed7953\"],[0.7777777777777778,\"#fb9f3a\"],[0.8888888888888888,\"#fdca26\"],[1.0,\"#f0f921\"]],\"type\":\"heatmapgl\"}],\"histogram\":[{\"marker\":{\"pattern\":{\"fillmode\":\"overlay\",\"size\":10,\"solidity\":0.2}},\"type\":\"histogram\"}],\"histogram2d\":[{\"colorbar\":{\"outlinewidth\":0,\"ticks\":\"\"},\"colorscale\":[[0.0,\"#0d0887\"],[0.1111111111111111,\"#46039f\"],[0.2222222222222222,\"#7201a8\"],[0.3333333333333333,\"#9c179e\"],[0.4444444444444444,\"#bd3786\"],[0.5555555555555556,\"#d8576b\"],[0.6666666666666666,\"#ed7953\"],[0.7777777777777778,\"#fb9f3a\"],[0.8888888888888888,\"#fdca26\"],[1.0,\"#f0f921\"]],\"type\":\"histogram2d\"}],\"histogram2dcontour\":[{\"colorbar\":{\"outlinewidth\":0,\"ticks\":\"\"},\"colorscale\":[[0.0,\"#0d0887\"],[0.1111111111111111,\"#46039f\"],[0.2222222222222222,\"#7201a8\"],[0.3333333333333333,\"#9c179e\"],[0.4444444444444444,\"#bd3786\"],[0.5555555555555556,\"#d8576b\"],[0.6666666666666666,\"#ed7953\"],[0.7777777777777778,\"#fb9f3a\"],[0.8888888888888888,\"#fdca26\"],[1.0,\"#f0f921\"]],\"type\":\"histogram2dcontour\"}],\"mesh3d\":[{\"colorbar\":{\"outlinewidth\":0,\"ticks\":\"\"},\"type\":\"mesh3d\"}],\"parcoords\":[{\"line\":{\"colorbar\":{\"outlinewidth\":0,\"ticks\":\"\"}},\"type\":\"parcoords\"}],\"pie\":[{\"automargin\":true,\"type\":\"pie\"}],\"scatter\":[{\"marker\":{\"colorbar\":{\"outlinewidth\":0,\"ticks\":\"\"}},\"type\":\"scatter\"}],\"scatter3d\":[{\"line\":{\"colorbar\":{\"outlinewidth\":0,\"ticks\":\"\"}},\"marker\":{\"colorbar\":{\"outlinewidth\":0,\"ticks\":\"\"}},\"type\":\"scatter3d\"}],\"scattercarpet\":[{\"marker\":{\"colorbar\":{\"outlinewidth\":0,\"ticks\":\"\"}},\"type\":\"scattercarpet\"}],\"scattergeo\":[{\"marker\":{\"colorbar\":{\"outlinewidth\":0,\"ticks\":\"\"}},\"type\":\"scattergeo\"}],\"scattergl\":[{\"marker\":{\"colorbar\":{\"outlinewidth\":0,\"ticks\":\"\"}},\"type\":\"scattergl\"}],\"scattermapbox\":[{\"marker\":{\"colorbar\":{\"outlinewidth\":0,\"ticks\":\"\"}},\"type\":\"scattermapbox\"}],\"scatterpolar\":[{\"marker\":{\"colorbar\":{\"outlinewidth\":0,\"ticks\":\"\"}},\"type\":\"scatterpolar\"}],\"scatterpolargl\":[{\"marker\":{\"colorbar\":{\"outlinewidth\":0,\"ticks\":\"\"}},\"type\":\"scatterpolargl\"}],\"scatterternary\":[{\"marker\":{\"colorbar\":{\"outlinewidth\":0,\"ticks\":\"\"}},\"type\":\"scatterternary\"}],\"surface\":[{\"colorbar\":{\"outlinewidth\":0,\"ticks\":\"\"},\"colorscale\":[[0.0,\"#0d0887\"],[0.1111111111111111,\"#46039f\"],[0.2222222222222222,\"#7201a8\"],[0.3333333333333333,\"#9c179e\"],[0.4444444444444444,\"#bd3786\"],[0.5555555555555556,\"#d8576b\"],[0.6666666666666666,\"#ed7953\"],[0.7777777777777778,\"#fb9f3a\"],[0.8888888888888888,\"#fdca26\"],[1.0,\"#f0f921\"]],\"type\":\"surface\"}],\"table\":[{\"cells\":{\"fill\":{\"color\":\"#EBF0F8\"},\"line\":{\"color\":\"white\"}},\"header\":{\"fill\":{\"color\":\"#C8D4E3\"},\"line\":{\"color\":\"white\"}},\"type\":\"table\"}]},\"layout\":{\"annotationdefaults\":{\"arrowcolor\":\"#2a3f5f\",\"arrowhead\":0,\"arrowwidth\":1},\"autotypenumbers\":\"strict\",\"coloraxis\":{\"colorbar\":{\"outlinewidth\":0,\"ticks\":\"\"}},\"colorscale\":{\"diverging\":[[0,\"#8e0152\"],[0.1,\"#c51b7d\"],[0.2,\"#de77ae\"],[0.3,\"#f1b6da\"],[0.4,\"#fde0ef\"],[0.5,\"#f7f7f7\"],[0.6,\"#e6f5d0\"],[0.7,\"#b8e186\"],[0.8,\"#7fbc41\"],[0.9,\"#4d9221\"],[1,\"#276419\"]],\"sequential\":[[0.0,\"#0d0887\"],[0.1111111111111111,\"#46039f\"],[0.2222222222222222,\"#7201a8\"],[0.3333333333333333,\"#9c179e\"],[0.4444444444444444,\"#bd3786\"],[0.5555555555555556,\"#d8576b\"],[0.6666666666666666,\"#ed7953\"],[0.7777777777777778,\"#fb9f3a\"],[0.8888888888888888,\"#fdca26\"],[1.0,\"#f0f921\"]],\"sequentialminus\":[[0.0,\"#0d0887\"],[0.1111111111111111,\"#46039f\"],[0.2222222222222222,\"#7201a8\"],[0.3333333333333333,\"#9c179e\"],[0.4444444444444444,\"#bd3786\"],[0.5555555555555556,\"#d8576b\"],[0.6666666666666666,\"#ed7953\"],[0.7777777777777778,\"#fb9f3a\"],[0.8888888888888888,\"#fdca26\"],[1.0,\"#f0f921\"]]},\"colorway\":[\"#636efa\",\"#EF553B\",\"#00cc96\",\"#ab63fa\",\"#FFA15A\",\"#19d3f3\",\"#FF6692\",\"#B6E880\",\"#FF97FF\",\"#FECB52\"],\"font\":{\"color\":\"#2a3f5f\"},\"geo\":{\"bgcolor\":\"white\",\"lakecolor\":\"white\",\"landcolor\":\"#E5ECF6\",\"showlakes\":true,\"showland\":true,\"subunitcolor\":\"white\"},\"hoverlabel\":{\"align\":\"left\"},\"hovermode\":\"closest\",\"mapbox\":{\"style\":\"light\"},\"paper_bgcolor\":\"white\",\"plot_bgcolor\":\"#E5ECF6\",\"polar\":{\"angularaxis\":{\"gridcolor\":\"white\",\"linecolor\":\"white\",\"ticks\":\"\"},\"bgcolor\":\"#E5ECF6\",\"radialaxis\":{\"gridcolor\":\"white\",\"linecolor\":\"white\",\"ticks\":\"\"}},\"scene\":{\"xaxis\":{\"backgroundcolor\":\"#E5ECF6\",\"gridcolor\":\"white\",\"gridwidth\":2,\"linecolor\":\"white\",\"showbackground\":true,\"ticks\":\"\",\"zerolinecolor\":\"white\"},\"yaxis\":{\"backgroundcolor\":\"#E5ECF6\",\"gridcolor\":\"white\",\"gridwidth\":2,\"linecolor\":\"white\",\"showbackground\":true,\"ticks\":\"\",\"zerolinecolor\":\"white\"},\"zaxis\":{\"backgroundcolor\":\"#E5ECF6\",\"gridcolor\":\"white\",\"gridwidth\":2,\"linecolor\":\"white\",\"showbackground\":true,\"ticks\":\"\",\"zerolinecolor\":\"white\"}},\"shapedefaults\":{\"line\":{\"color\":\"#2a3f5f\"}},\"ternary\":{\"aaxis\":{\"gridcolor\":\"white\",\"linecolor\":\"white\",\"ticks\":\"\"},\"baxis\":{\"gridcolor\":\"white\",\"linecolor\":\"white\",\"ticks\":\"\"},\"bgcolor\":\"#E5ECF6\",\"caxis\":{\"gridcolor\":\"white\",\"linecolor\":\"white\",\"ticks\":\"\"}},\"title\":{\"x\":0.05},\"xaxis\":{\"automargin\":true,\"gridcolor\":\"white\",\"linecolor\":\"white\",\"ticks\":\"\",\"title\":{\"standoff\":15},\"zerolinecolor\":\"white\",\"zerolinewidth\":2},\"yaxis\":{\"automargin\":true,\"gridcolor\":\"white\",\"linecolor\":\"white\",\"ticks\":\"\",\"title\":{\"standoff\":15},\"zerolinecolor\":\"white\",\"zerolinewidth\":2}}},\"xaxis\":{\"anchor\":\"y\",\"domain\":[0.0,1.0],\"title\":{\"text\":\"\\u041d\\u0430\\u0437\\u0432\\u0430\\u043d\\u0438\\u0435 \\u043f\\u0440\\u0438\\u0437\\u043d\\u0430\\u043a\\u0430 \"}},\"yaxis\":{\"anchor\":\"x\",\"domain\":[0.0,1.0],\"title\":{\"text\":\"sum of      \\u041a\\u043e\\u0440\\u0440\\u0435\\u043b\\u044f\\u0446\\u0438\\u044f \\u0441 \\u0446\\u0435\\u043b\\u044c\\u044e\"}},\"legend\":{\"tracegroupgap\":0},\"margin\":{\"t\":60},\"barmode\":\"relative\"},                        {\"responsive\": true}                    ).then(function(){\n",
       "                            \n",
       "var gd = document.getElementById('a574d2ef-9905-4573-a82f-fc82bff415dc');\n",
       "var x = new MutationObserver(function (mutations, observer) {{\n",
       "        var display = window.getComputedStyle(gd).display;\n",
       "        if (!display || display === 'none') {{\n",
       "            console.log([gd, 'removed!']);\n",
       "            Plotly.purge(gd);\n",
       "            observer.disconnect();\n",
       "        }}\n",
       "}});\n",
       "\n",
       "// Listen for the removal of the full notebook cells\n",
       "var notebookContainer = gd.closest('#notebook-container');\n",
       "if (notebookContainer) {{\n",
       "    x.observe(notebookContainer, {childList: true});\n",
       "}}\n",
       "\n",
       "// Listen for the clearing of the current output cell\n",
       "var outputEl = gd.closest('.output');\n",
       "if (outputEl) {{\n",
       "    x.observe(outputEl, {childList: true});\n",
       "}}\n",
       "\n",
       "                        })                };                });            </script>        </div>"
      ]
     },
     "metadata": {},
     "output_type": "display_data"
    }
   ],
   "source": [
    "corr_with_targ = df.corrwith(df_target).sort_values(ascending=False).head(10)\n",
    "px.histogram(y=corr_with_targ.values, x=corr_with_targ.index,\n",
    "             labels={'x':'Название признака ', 'y':'     Корреляция с целью'})\n"
   ]
  },
  {
   "cell_type": "markdown",
   "id": "a47c71e7",
   "metadata": {},
   "source": [
    "### Разбиение датасета на обущающую и тестовую выборки"
   ]
  },
  {
   "cell_type": "code",
   "execution_count": 312,
   "id": "b56e523e",
   "metadata": {},
   "outputs": [],
   "source": [
    "X_train, X_test, y_train, y_test = train_test_split(df.values, df_target.values, \n",
    "                                                    train_size=0.5,\n",
    "                                                    random_state=42)"
   ]
  },
  {
   "cell_type": "markdown",
   "id": "a4a0aeb7",
   "metadata": {},
   "source": [
    "### Распределение классов предсказания для валидационной и обущающей подвыборок"
   ]
  },
  {
   "cell_type": "code",
   "execution_count": 313,
   "id": "9f0de4ae",
   "metadata": {},
   "outputs": [
    {
     "data": {
      "application/vnd.plotly.v1+json": {
       "config": {
        "plotlyServerURL": "https://plot.ly"
       },
       "data": [
        {
         "histfunc": "count",
         "marker": {
          "color": "#9A94BC"
         },
         "name": "тестовая подвыборка",
         "type": "histogram",
         "y": [
          0,
          0,
          0,
          0,
          1,
          0,
          1,
          0,
          0,
          0,
          0,
          1,
          2,
          2,
          0,
          1,
          0,
          0,
          0,
          1,
          0,
          0,
          1,
          1,
          0,
          0,
          1,
          0,
          0,
          0,
          0,
          0,
          1,
          0,
          1,
          0,
          1,
          0,
          0,
          1,
          0,
          0,
          0,
          2,
          0,
          2,
          0,
          1,
          1,
          0,
          0,
          2,
          0,
          1,
          0,
          0,
          0,
          0,
          0,
          0,
          0,
          1,
          0,
          0,
          0,
          1,
          1,
          2,
          0,
          0,
          0,
          1,
          0,
          0,
          1,
          0,
          0,
          0,
          1,
          0,
          1,
          2,
          0,
          0,
          0,
          1,
          1,
          0,
          2,
          0,
          0,
          1,
          1,
          0,
          0,
          1,
          2,
          0,
          1,
          1,
          0,
          0,
          0,
          0,
          0,
          0,
          0,
          0,
          0,
          1,
          1,
          0,
          0,
          1,
          1,
          0,
          2,
          0,
          0,
          0,
          0,
          1,
          0,
          0,
          0,
          0,
          0,
          0,
          0,
          0
         ]
        },
        {
         "histfunc": "count",
         "marker": {
          "color": "#6FB8DE"
         },
         "name": "обучающая подвыборка",
         "type": "histogram",
         "y": [
          2,
          0,
          0,
          0,
          0,
          1,
          0,
          0,
          0,
          0,
          1,
          1,
          1,
          0,
          1,
          0,
          0,
          0,
          0,
          1,
          0,
          0,
          2,
          0,
          1,
          0,
          2,
          0,
          1,
          1,
          0,
          0,
          0,
          0,
          1,
          0,
          0,
          0,
          0,
          1,
          0,
          0,
          1,
          1,
          1,
          1,
          0,
          0,
          0,
          1,
          0,
          0,
          0,
          0,
          0,
          1,
          1,
          1,
          0,
          1,
          0,
          0,
          0,
          2,
          0,
          0,
          0,
          0,
          0,
          1,
          0,
          1,
          2,
          0,
          0,
          0,
          1,
          1,
          0,
          1,
          0,
          0,
          1,
          0,
          1,
          1,
          1,
          0,
          0,
          0,
          0,
          2,
          1,
          0,
          1,
          2,
          0,
          1,
          1,
          0,
          0,
          1,
          1,
          0,
          0,
          0,
          0,
          0,
          0,
          0,
          0,
          1,
          0,
          1,
          1,
          0,
          0,
          0,
          0,
          2,
          0,
          1,
          0,
          0,
          0,
          0,
          2,
          0,
          0
         ]
        }
       ],
       "layout": {
        "template": {
         "data": {
          "bar": [
           {
            "error_x": {
             "color": "#2a3f5f"
            },
            "error_y": {
             "color": "#2a3f5f"
            },
            "marker": {
             "line": {
              "color": "#E5ECF6",
              "width": 0.5
             },
             "pattern": {
              "fillmode": "overlay",
              "size": 10,
              "solidity": 0.2
             }
            },
            "type": "bar"
           }
          ],
          "barpolar": [
           {
            "marker": {
             "line": {
              "color": "#E5ECF6",
              "width": 0.5
             },
             "pattern": {
              "fillmode": "overlay",
              "size": 10,
              "solidity": 0.2
             }
            },
            "type": "barpolar"
           }
          ],
          "carpet": [
           {
            "aaxis": {
             "endlinecolor": "#2a3f5f",
             "gridcolor": "white",
             "linecolor": "white",
             "minorgridcolor": "white",
             "startlinecolor": "#2a3f5f"
            },
            "baxis": {
             "endlinecolor": "#2a3f5f",
             "gridcolor": "white",
             "linecolor": "white",
             "minorgridcolor": "white",
             "startlinecolor": "#2a3f5f"
            },
            "type": "carpet"
           }
          ],
          "choropleth": [
           {
            "colorbar": {
             "outlinewidth": 0,
             "ticks": ""
            },
            "type": "choropleth"
           }
          ],
          "contour": [
           {
            "colorbar": {
             "outlinewidth": 0,
             "ticks": ""
            },
            "colorscale": [
             [
              0,
              "#0d0887"
             ],
             [
              0.1111111111111111,
              "#46039f"
             ],
             [
              0.2222222222222222,
              "#7201a8"
             ],
             [
              0.3333333333333333,
              "#9c179e"
             ],
             [
              0.4444444444444444,
              "#bd3786"
             ],
             [
              0.5555555555555556,
              "#d8576b"
             ],
             [
              0.6666666666666666,
              "#ed7953"
             ],
             [
              0.7777777777777778,
              "#fb9f3a"
             ],
             [
              0.8888888888888888,
              "#fdca26"
             ],
             [
              1,
              "#f0f921"
             ]
            ],
            "type": "contour"
           }
          ],
          "contourcarpet": [
           {
            "colorbar": {
             "outlinewidth": 0,
             "ticks": ""
            },
            "type": "contourcarpet"
           }
          ],
          "heatmap": [
           {
            "colorbar": {
             "outlinewidth": 0,
             "ticks": ""
            },
            "colorscale": [
             [
              0,
              "#0d0887"
             ],
             [
              0.1111111111111111,
              "#46039f"
             ],
             [
              0.2222222222222222,
              "#7201a8"
             ],
             [
              0.3333333333333333,
              "#9c179e"
             ],
             [
              0.4444444444444444,
              "#bd3786"
             ],
             [
              0.5555555555555556,
              "#d8576b"
             ],
             [
              0.6666666666666666,
              "#ed7953"
             ],
             [
              0.7777777777777778,
              "#fb9f3a"
             ],
             [
              0.8888888888888888,
              "#fdca26"
             ],
             [
              1,
              "#f0f921"
             ]
            ],
            "type": "heatmap"
           }
          ],
          "heatmapgl": [
           {
            "colorbar": {
             "outlinewidth": 0,
             "ticks": ""
            },
            "colorscale": [
             [
              0,
              "#0d0887"
             ],
             [
              0.1111111111111111,
              "#46039f"
             ],
             [
              0.2222222222222222,
              "#7201a8"
             ],
             [
              0.3333333333333333,
              "#9c179e"
             ],
             [
              0.4444444444444444,
              "#bd3786"
             ],
             [
              0.5555555555555556,
              "#d8576b"
             ],
             [
              0.6666666666666666,
              "#ed7953"
             ],
             [
              0.7777777777777778,
              "#fb9f3a"
             ],
             [
              0.8888888888888888,
              "#fdca26"
             ],
             [
              1,
              "#f0f921"
             ]
            ],
            "type": "heatmapgl"
           }
          ],
          "histogram": [
           {
            "marker": {
             "pattern": {
              "fillmode": "overlay",
              "size": 10,
              "solidity": 0.2
             }
            },
            "type": "histogram"
           }
          ],
          "histogram2d": [
           {
            "colorbar": {
             "outlinewidth": 0,
             "ticks": ""
            },
            "colorscale": [
             [
              0,
              "#0d0887"
             ],
             [
              0.1111111111111111,
              "#46039f"
             ],
             [
              0.2222222222222222,
              "#7201a8"
             ],
             [
              0.3333333333333333,
              "#9c179e"
             ],
             [
              0.4444444444444444,
              "#bd3786"
             ],
             [
              0.5555555555555556,
              "#d8576b"
             ],
             [
              0.6666666666666666,
              "#ed7953"
             ],
             [
              0.7777777777777778,
              "#fb9f3a"
             ],
             [
              0.8888888888888888,
              "#fdca26"
             ],
             [
              1,
              "#f0f921"
             ]
            ],
            "type": "histogram2d"
           }
          ],
          "histogram2dcontour": [
           {
            "colorbar": {
             "outlinewidth": 0,
             "ticks": ""
            },
            "colorscale": [
             [
              0,
              "#0d0887"
             ],
             [
              0.1111111111111111,
              "#46039f"
             ],
             [
              0.2222222222222222,
              "#7201a8"
             ],
             [
              0.3333333333333333,
              "#9c179e"
             ],
             [
              0.4444444444444444,
              "#bd3786"
             ],
             [
              0.5555555555555556,
              "#d8576b"
             ],
             [
              0.6666666666666666,
              "#ed7953"
             ],
             [
              0.7777777777777778,
              "#fb9f3a"
             ],
             [
              0.8888888888888888,
              "#fdca26"
             ],
             [
              1,
              "#f0f921"
             ]
            ],
            "type": "histogram2dcontour"
           }
          ],
          "mesh3d": [
           {
            "colorbar": {
             "outlinewidth": 0,
             "ticks": ""
            },
            "type": "mesh3d"
           }
          ],
          "parcoords": [
           {
            "line": {
             "colorbar": {
              "outlinewidth": 0,
              "ticks": ""
             }
            },
            "type": "parcoords"
           }
          ],
          "pie": [
           {
            "automargin": true,
            "type": "pie"
           }
          ],
          "scatter": [
           {
            "marker": {
             "colorbar": {
              "outlinewidth": 0,
              "ticks": ""
             }
            },
            "type": "scatter"
           }
          ],
          "scatter3d": [
           {
            "line": {
             "colorbar": {
              "outlinewidth": 0,
              "ticks": ""
             }
            },
            "marker": {
             "colorbar": {
              "outlinewidth": 0,
              "ticks": ""
             }
            },
            "type": "scatter3d"
           }
          ],
          "scattercarpet": [
           {
            "marker": {
             "colorbar": {
              "outlinewidth": 0,
              "ticks": ""
             }
            },
            "type": "scattercarpet"
           }
          ],
          "scattergeo": [
           {
            "marker": {
             "colorbar": {
              "outlinewidth": 0,
              "ticks": ""
             }
            },
            "type": "scattergeo"
           }
          ],
          "scattergl": [
           {
            "marker": {
             "colorbar": {
              "outlinewidth": 0,
              "ticks": ""
             }
            },
            "type": "scattergl"
           }
          ],
          "scattermapbox": [
           {
            "marker": {
             "colorbar": {
              "outlinewidth": 0,
              "ticks": ""
             }
            },
            "type": "scattermapbox"
           }
          ],
          "scatterpolar": [
           {
            "marker": {
             "colorbar": {
              "outlinewidth": 0,
              "ticks": ""
             }
            },
            "type": "scatterpolar"
           }
          ],
          "scatterpolargl": [
           {
            "marker": {
             "colorbar": {
              "outlinewidth": 0,
              "ticks": ""
             }
            },
            "type": "scatterpolargl"
           }
          ],
          "scatterternary": [
           {
            "marker": {
             "colorbar": {
              "outlinewidth": 0,
              "ticks": ""
             }
            },
            "type": "scatterternary"
           }
          ],
          "surface": [
           {
            "colorbar": {
             "outlinewidth": 0,
             "ticks": ""
            },
            "colorscale": [
             [
              0,
              "#0d0887"
             ],
             [
              0.1111111111111111,
              "#46039f"
             ],
             [
              0.2222222222222222,
              "#7201a8"
             ],
             [
              0.3333333333333333,
              "#9c179e"
             ],
             [
              0.4444444444444444,
              "#bd3786"
             ],
             [
              0.5555555555555556,
              "#d8576b"
             ],
             [
              0.6666666666666666,
              "#ed7953"
             ],
             [
              0.7777777777777778,
              "#fb9f3a"
             ],
             [
              0.8888888888888888,
              "#fdca26"
             ],
             [
              1,
              "#f0f921"
             ]
            ],
            "type": "surface"
           }
          ],
          "table": [
           {
            "cells": {
             "fill": {
              "color": "#EBF0F8"
             },
             "line": {
              "color": "white"
             }
            },
            "header": {
             "fill": {
              "color": "#C8D4E3"
             },
             "line": {
              "color": "white"
             }
            },
            "type": "table"
           }
          ]
         },
         "layout": {
          "annotationdefaults": {
           "arrowcolor": "#2a3f5f",
           "arrowhead": 0,
           "arrowwidth": 1
          },
          "autotypenumbers": "strict",
          "coloraxis": {
           "colorbar": {
            "outlinewidth": 0,
            "ticks": ""
           }
          },
          "colorscale": {
           "diverging": [
            [
             0,
             "#8e0152"
            ],
            [
             0.1,
             "#c51b7d"
            ],
            [
             0.2,
             "#de77ae"
            ],
            [
             0.3,
             "#f1b6da"
            ],
            [
             0.4,
             "#fde0ef"
            ],
            [
             0.5,
             "#f7f7f7"
            ],
            [
             0.6,
             "#e6f5d0"
            ],
            [
             0.7,
             "#b8e186"
            ],
            [
             0.8,
             "#7fbc41"
            ],
            [
             0.9,
             "#4d9221"
            ],
            [
             1,
             "#276419"
            ]
           ],
           "sequential": [
            [
             0,
             "#0d0887"
            ],
            [
             0.1111111111111111,
             "#46039f"
            ],
            [
             0.2222222222222222,
             "#7201a8"
            ],
            [
             0.3333333333333333,
             "#9c179e"
            ],
            [
             0.4444444444444444,
             "#bd3786"
            ],
            [
             0.5555555555555556,
             "#d8576b"
            ],
            [
             0.6666666666666666,
             "#ed7953"
            ],
            [
             0.7777777777777778,
             "#fb9f3a"
            ],
            [
             0.8888888888888888,
             "#fdca26"
            ],
            [
             1,
             "#f0f921"
            ]
           ],
           "sequentialminus": [
            [
             0,
             "#0d0887"
            ],
            [
             0.1111111111111111,
             "#46039f"
            ],
            [
             0.2222222222222222,
             "#7201a8"
            ],
            [
             0.3333333333333333,
             "#9c179e"
            ],
            [
             0.4444444444444444,
             "#bd3786"
            ],
            [
             0.5555555555555556,
             "#d8576b"
            ],
            [
             0.6666666666666666,
             "#ed7953"
            ],
            [
             0.7777777777777778,
             "#fb9f3a"
            ],
            [
             0.8888888888888888,
             "#fdca26"
            ],
            [
             1,
             "#f0f921"
            ]
           ]
          },
          "colorway": [
           "#636efa",
           "#EF553B",
           "#00cc96",
           "#ab63fa",
           "#FFA15A",
           "#19d3f3",
           "#FF6692",
           "#B6E880",
           "#FF97FF",
           "#FECB52"
          ],
          "font": {
           "color": "#2a3f5f"
          },
          "geo": {
           "bgcolor": "white",
           "lakecolor": "white",
           "landcolor": "#E5ECF6",
           "showlakes": true,
           "showland": true,
           "subunitcolor": "white"
          },
          "hoverlabel": {
           "align": "left"
          },
          "hovermode": "closest",
          "mapbox": {
           "style": "light"
          },
          "paper_bgcolor": "white",
          "plot_bgcolor": "#E5ECF6",
          "polar": {
           "angularaxis": {
            "gridcolor": "white",
            "linecolor": "white",
            "ticks": ""
           },
           "bgcolor": "#E5ECF6",
           "radialaxis": {
            "gridcolor": "white",
            "linecolor": "white",
            "ticks": ""
           }
          },
          "scene": {
           "xaxis": {
            "backgroundcolor": "#E5ECF6",
            "gridcolor": "white",
            "gridwidth": 2,
            "linecolor": "white",
            "showbackground": true,
            "ticks": "",
            "zerolinecolor": "white"
           },
           "yaxis": {
            "backgroundcolor": "#E5ECF6",
            "gridcolor": "white",
            "gridwidth": 2,
            "linecolor": "white",
            "showbackground": true,
            "ticks": "",
            "zerolinecolor": "white"
           },
           "zaxis": {
            "backgroundcolor": "#E5ECF6",
            "gridcolor": "white",
            "gridwidth": 2,
            "linecolor": "white",
            "showbackground": true,
            "ticks": "",
            "zerolinecolor": "white"
           }
          },
          "shapedefaults": {
           "line": {
            "color": "#2a3f5f"
           }
          },
          "ternary": {
           "aaxis": {
            "gridcolor": "white",
            "linecolor": "white",
            "ticks": ""
           },
           "baxis": {
            "gridcolor": "white",
            "linecolor": "white",
            "ticks": ""
           },
           "bgcolor": "#E5ECF6",
           "caxis": {
            "gridcolor": "white",
            "linecolor": "white",
            "ticks": ""
           }
          },
          "title": {
           "x": 0.05
          },
          "xaxis": {
           "automargin": true,
           "gridcolor": "white",
           "linecolor": "white",
           "ticks": "",
           "title": {
            "standoff": 15
           },
           "zerolinecolor": "white",
           "zerolinewidth": 2
          },
          "yaxis": {
           "automargin": true,
           "gridcolor": "white",
           "linecolor": "white",
           "ticks": "",
           "title": {
            "standoff": 15
           },
           "zerolinecolor": "white",
           "zerolinewidth": 2
          }
         }
        }
       }
      },
      "text/html": [
       "<div>                            <div id=\"e8c35e5e-69da-44d3-b894-0f226c25e25f\" class=\"plotly-graph-div\" style=\"height:525px; width:100%;\"></div>            <script type=\"text/javascript\">                require([\"plotly\"], function(Plotly) {                    window.PLOTLYENV=window.PLOTLYENV || {};                                    if (document.getElementById(\"e8c35e5e-69da-44d3-b894-0f226c25e25f\")) {                    Plotly.newPlot(                        \"e8c35e5e-69da-44d3-b894-0f226c25e25f\",                        [{\"histfunc\":\"count\",\"marker\":{\"color\":\"#9A94BC\"},\"name\":\"\\u0442\\u0435\\u0441\\u0442\\u043e\\u0432\\u0430\\u044f \\u043f\\u043e\\u0434\\u0432\\u044b\\u0431\\u043e\\u0440\\u043a\\u0430\",\"y\":[0,0,0,0,1,0,1,0,0,0,0,1,2,2,0,1,0,0,0,1,0,0,1,1,0,0,1,0,0,0,0,0,1,0,1,0,1,0,0,1,0,0,0,2,0,2,0,1,1,0,0,2,0,1,0,0,0,0,0,0,0,1,0,0,0,1,1,2,0,0,0,1,0,0,1,0,0,0,1,0,1,2,0,0,0,1,1,0,2,0,0,1,1,0,0,1,2,0,1,1,0,0,0,0,0,0,0,0,0,1,1,0,0,1,1,0,2,0,0,0,0,1,0,0,0,0,0,0,0,0],\"type\":\"histogram\"},{\"histfunc\":\"count\",\"marker\":{\"color\":\"#6FB8DE\"},\"name\":\"\\u043e\\u0431\\u0443\\u0447\\u0430\\u044e\\u0449\\u0430\\u044f \\u043f\\u043e\\u0434\\u0432\\u044b\\u0431\\u043e\\u0440\\u043a\\u0430\",\"y\":[2,0,0,0,0,1,0,0,0,0,1,1,1,0,1,0,0,0,0,1,0,0,2,0,1,0,2,0,1,1,0,0,0,0,1,0,0,0,0,1,0,0,1,1,1,1,0,0,0,1,0,0,0,0,0,1,1,1,0,1,0,0,0,2,0,0,0,0,0,1,0,1,2,0,0,0,1,1,0,1,0,0,1,0,1,1,1,0,0,0,0,2,1,0,1,2,0,1,1,0,0,1,1,0,0,0,0,0,0,0,0,1,0,1,1,0,0,0,0,2,0,1,0,0,0,0,2,0,0],\"type\":\"histogram\"}],                        {\"template\":{\"data\":{\"bar\":[{\"error_x\":{\"color\":\"#2a3f5f\"},\"error_y\":{\"color\":\"#2a3f5f\"},\"marker\":{\"line\":{\"color\":\"#E5ECF6\",\"width\":0.5},\"pattern\":{\"fillmode\":\"overlay\",\"size\":10,\"solidity\":0.2}},\"type\":\"bar\"}],\"barpolar\":[{\"marker\":{\"line\":{\"color\":\"#E5ECF6\",\"width\":0.5},\"pattern\":{\"fillmode\":\"overlay\",\"size\":10,\"solidity\":0.2}},\"type\":\"barpolar\"}],\"carpet\":[{\"aaxis\":{\"endlinecolor\":\"#2a3f5f\",\"gridcolor\":\"white\",\"linecolor\":\"white\",\"minorgridcolor\":\"white\",\"startlinecolor\":\"#2a3f5f\"},\"baxis\":{\"endlinecolor\":\"#2a3f5f\",\"gridcolor\":\"white\",\"linecolor\":\"white\",\"minorgridcolor\":\"white\",\"startlinecolor\":\"#2a3f5f\"},\"type\":\"carpet\"}],\"choropleth\":[{\"colorbar\":{\"outlinewidth\":0,\"ticks\":\"\"},\"type\":\"choropleth\"}],\"contour\":[{\"colorbar\":{\"outlinewidth\":0,\"ticks\":\"\"},\"colorscale\":[[0.0,\"#0d0887\"],[0.1111111111111111,\"#46039f\"],[0.2222222222222222,\"#7201a8\"],[0.3333333333333333,\"#9c179e\"],[0.4444444444444444,\"#bd3786\"],[0.5555555555555556,\"#d8576b\"],[0.6666666666666666,\"#ed7953\"],[0.7777777777777778,\"#fb9f3a\"],[0.8888888888888888,\"#fdca26\"],[1.0,\"#f0f921\"]],\"type\":\"contour\"}],\"contourcarpet\":[{\"colorbar\":{\"outlinewidth\":0,\"ticks\":\"\"},\"type\":\"contourcarpet\"}],\"heatmap\":[{\"colorbar\":{\"outlinewidth\":0,\"ticks\":\"\"},\"colorscale\":[[0.0,\"#0d0887\"],[0.1111111111111111,\"#46039f\"],[0.2222222222222222,\"#7201a8\"],[0.3333333333333333,\"#9c179e\"],[0.4444444444444444,\"#bd3786\"],[0.5555555555555556,\"#d8576b\"],[0.6666666666666666,\"#ed7953\"],[0.7777777777777778,\"#fb9f3a\"],[0.8888888888888888,\"#fdca26\"],[1.0,\"#f0f921\"]],\"type\":\"heatmap\"}],\"heatmapgl\":[{\"colorbar\":{\"outlinewidth\":0,\"ticks\":\"\"},\"colorscale\":[[0.0,\"#0d0887\"],[0.1111111111111111,\"#46039f\"],[0.2222222222222222,\"#7201a8\"],[0.3333333333333333,\"#9c179e\"],[0.4444444444444444,\"#bd3786\"],[0.5555555555555556,\"#d8576b\"],[0.6666666666666666,\"#ed7953\"],[0.7777777777777778,\"#fb9f3a\"],[0.8888888888888888,\"#fdca26\"],[1.0,\"#f0f921\"]],\"type\":\"heatmapgl\"}],\"histogram\":[{\"marker\":{\"pattern\":{\"fillmode\":\"overlay\",\"size\":10,\"solidity\":0.2}},\"type\":\"histogram\"}],\"histogram2d\":[{\"colorbar\":{\"outlinewidth\":0,\"ticks\":\"\"},\"colorscale\":[[0.0,\"#0d0887\"],[0.1111111111111111,\"#46039f\"],[0.2222222222222222,\"#7201a8\"],[0.3333333333333333,\"#9c179e\"],[0.4444444444444444,\"#bd3786\"],[0.5555555555555556,\"#d8576b\"],[0.6666666666666666,\"#ed7953\"],[0.7777777777777778,\"#fb9f3a\"],[0.8888888888888888,\"#fdca26\"],[1.0,\"#f0f921\"]],\"type\":\"histogram2d\"}],\"histogram2dcontour\":[{\"colorbar\":{\"outlinewidth\":0,\"ticks\":\"\"},\"colorscale\":[[0.0,\"#0d0887\"],[0.1111111111111111,\"#46039f\"],[0.2222222222222222,\"#7201a8\"],[0.3333333333333333,\"#9c179e\"],[0.4444444444444444,\"#bd3786\"],[0.5555555555555556,\"#d8576b\"],[0.6666666666666666,\"#ed7953\"],[0.7777777777777778,\"#fb9f3a\"],[0.8888888888888888,\"#fdca26\"],[1.0,\"#f0f921\"]],\"type\":\"histogram2dcontour\"}],\"mesh3d\":[{\"colorbar\":{\"outlinewidth\":0,\"ticks\":\"\"},\"type\":\"mesh3d\"}],\"parcoords\":[{\"line\":{\"colorbar\":{\"outlinewidth\":0,\"ticks\":\"\"}},\"type\":\"parcoords\"}],\"pie\":[{\"automargin\":true,\"type\":\"pie\"}],\"scatter\":[{\"marker\":{\"colorbar\":{\"outlinewidth\":0,\"ticks\":\"\"}},\"type\":\"scatter\"}],\"scatter3d\":[{\"line\":{\"colorbar\":{\"outlinewidth\":0,\"ticks\":\"\"}},\"marker\":{\"colorbar\":{\"outlinewidth\":0,\"ticks\":\"\"}},\"type\":\"scatter3d\"}],\"scattercarpet\":[{\"marker\":{\"colorbar\":{\"outlinewidth\":0,\"ticks\":\"\"}},\"type\":\"scattercarpet\"}],\"scattergeo\":[{\"marker\":{\"colorbar\":{\"outlinewidth\":0,\"ticks\":\"\"}},\"type\":\"scattergeo\"}],\"scattergl\":[{\"marker\":{\"colorbar\":{\"outlinewidth\":0,\"ticks\":\"\"}},\"type\":\"scattergl\"}],\"scattermapbox\":[{\"marker\":{\"colorbar\":{\"outlinewidth\":0,\"ticks\":\"\"}},\"type\":\"scattermapbox\"}],\"scatterpolar\":[{\"marker\":{\"colorbar\":{\"outlinewidth\":0,\"ticks\":\"\"}},\"type\":\"scatterpolar\"}],\"scatterpolargl\":[{\"marker\":{\"colorbar\":{\"outlinewidth\":0,\"ticks\":\"\"}},\"type\":\"scatterpolargl\"}],\"scatterternary\":[{\"marker\":{\"colorbar\":{\"outlinewidth\":0,\"ticks\":\"\"}},\"type\":\"scatterternary\"}],\"surface\":[{\"colorbar\":{\"outlinewidth\":0,\"ticks\":\"\"},\"colorscale\":[[0.0,\"#0d0887\"],[0.1111111111111111,\"#46039f\"],[0.2222222222222222,\"#7201a8\"],[0.3333333333333333,\"#9c179e\"],[0.4444444444444444,\"#bd3786\"],[0.5555555555555556,\"#d8576b\"],[0.6666666666666666,\"#ed7953\"],[0.7777777777777778,\"#fb9f3a\"],[0.8888888888888888,\"#fdca26\"],[1.0,\"#f0f921\"]],\"type\":\"surface\"}],\"table\":[{\"cells\":{\"fill\":{\"color\":\"#EBF0F8\"},\"line\":{\"color\":\"white\"}},\"header\":{\"fill\":{\"color\":\"#C8D4E3\"},\"line\":{\"color\":\"white\"}},\"type\":\"table\"}]},\"layout\":{\"annotationdefaults\":{\"arrowcolor\":\"#2a3f5f\",\"arrowhead\":0,\"arrowwidth\":1},\"autotypenumbers\":\"strict\",\"coloraxis\":{\"colorbar\":{\"outlinewidth\":0,\"ticks\":\"\"}},\"colorscale\":{\"diverging\":[[0,\"#8e0152\"],[0.1,\"#c51b7d\"],[0.2,\"#de77ae\"],[0.3,\"#f1b6da\"],[0.4,\"#fde0ef\"],[0.5,\"#f7f7f7\"],[0.6,\"#e6f5d0\"],[0.7,\"#b8e186\"],[0.8,\"#7fbc41\"],[0.9,\"#4d9221\"],[1,\"#276419\"]],\"sequential\":[[0.0,\"#0d0887\"],[0.1111111111111111,\"#46039f\"],[0.2222222222222222,\"#7201a8\"],[0.3333333333333333,\"#9c179e\"],[0.4444444444444444,\"#bd3786\"],[0.5555555555555556,\"#d8576b\"],[0.6666666666666666,\"#ed7953\"],[0.7777777777777778,\"#fb9f3a\"],[0.8888888888888888,\"#fdca26\"],[1.0,\"#f0f921\"]],\"sequentialminus\":[[0.0,\"#0d0887\"],[0.1111111111111111,\"#46039f\"],[0.2222222222222222,\"#7201a8\"],[0.3333333333333333,\"#9c179e\"],[0.4444444444444444,\"#bd3786\"],[0.5555555555555556,\"#d8576b\"],[0.6666666666666666,\"#ed7953\"],[0.7777777777777778,\"#fb9f3a\"],[0.8888888888888888,\"#fdca26\"],[1.0,\"#f0f921\"]]},\"colorway\":[\"#636efa\",\"#EF553B\",\"#00cc96\",\"#ab63fa\",\"#FFA15A\",\"#19d3f3\",\"#FF6692\",\"#B6E880\",\"#FF97FF\",\"#FECB52\"],\"font\":{\"color\":\"#2a3f5f\"},\"geo\":{\"bgcolor\":\"white\",\"lakecolor\":\"white\",\"landcolor\":\"#E5ECF6\",\"showlakes\":true,\"showland\":true,\"subunitcolor\":\"white\"},\"hoverlabel\":{\"align\":\"left\"},\"hovermode\":\"closest\",\"mapbox\":{\"style\":\"light\"},\"paper_bgcolor\":\"white\",\"plot_bgcolor\":\"#E5ECF6\",\"polar\":{\"angularaxis\":{\"gridcolor\":\"white\",\"linecolor\":\"white\",\"ticks\":\"\"},\"bgcolor\":\"#E5ECF6\",\"radialaxis\":{\"gridcolor\":\"white\",\"linecolor\":\"white\",\"ticks\":\"\"}},\"scene\":{\"xaxis\":{\"backgroundcolor\":\"#E5ECF6\",\"gridcolor\":\"white\",\"gridwidth\":2,\"linecolor\":\"white\",\"showbackground\":true,\"ticks\":\"\",\"zerolinecolor\":\"white\"},\"yaxis\":{\"backgroundcolor\":\"#E5ECF6\",\"gridcolor\":\"white\",\"gridwidth\":2,\"linecolor\":\"white\",\"showbackground\":true,\"ticks\":\"\",\"zerolinecolor\":\"white\"},\"zaxis\":{\"backgroundcolor\":\"#E5ECF6\",\"gridcolor\":\"white\",\"gridwidth\":2,\"linecolor\":\"white\",\"showbackground\":true,\"ticks\":\"\",\"zerolinecolor\":\"white\"}},\"shapedefaults\":{\"line\":{\"color\":\"#2a3f5f\"}},\"ternary\":{\"aaxis\":{\"gridcolor\":\"white\",\"linecolor\":\"white\",\"ticks\":\"\"},\"baxis\":{\"gridcolor\":\"white\",\"linecolor\":\"white\",\"ticks\":\"\"},\"bgcolor\":\"#E5ECF6\",\"caxis\":{\"gridcolor\":\"white\",\"linecolor\":\"white\",\"ticks\":\"\"}},\"title\":{\"x\":0.05},\"xaxis\":{\"automargin\":true,\"gridcolor\":\"white\",\"linecolor\":\"white\",\"ticks\":\"\",\"title\":{\"standoff\":15},\"zerolinecolor\":\"white\",\"zerolinewidth\":2},\"yaxis\":{\"automargin\":true,\"gridcolor\":\"white\",\"linecolor\":\"white\",\"ticks\":\"\",\"title\":{\"standoff\":15},\"zerolinecolor\":\"white\",\"zerolinewidth\":2}}}},                        {\"responsive\": true}                    ).then(function(){\n",
       "                            \n",
       "var gd = document.getElementById('e8c35e5e-69da-44d3-b894-0f226c25e25f');\n",
       "var x = new MutationObserver(function (mutations, observer) {{\n",
       "        var display = window.getComputedStyle(gd).display;\n",
       "        if (!display || display === 'none') {{\n",
       "            console.log([gd, 'removed!']);\n",
       "            Plotly.purge(gd);\n",
       "            observer.disconnect();\n",
       "        }}\n",
       "}});\n",
       "\n",
       "// Listen for the removal of the full notebook cells\n",
       "var notebookContainer = gd.closest('#notebook-container');\n",
       "if (notebookContainer) {{\n",
       "    x.observe(notebookContainer, {childList: true});\n",
       "}}\n",
       "\n",
       "// Listen for the clearing of the current output cell\n",
       "var outputEl = gd.closest('.output');\n",
       "if (outputEl) {{\n",
       "    x.observe(outputEl, {childList: true});\n",
       "}}\n",
       "\n",
       "                        })                };                });            </script>        </div>"
      ]
     },
     "metadata": {},
     "output_type": "display_data"
    }
   ],
   "source": [
    "\n",
    "fig = go.Figure()\n",
    "fig.add_trace(go.Histogram(histfunc=\"count\", y=y_test, name=\"тестовая подвыборка\", marker_color='#9A94BC'))\n",
    "fig.add_trace(go.Histogram(histfunc=\"count\", y=y_train, name=\"обучающая подвыборка\",marker_color='#6FB8DE') )\n",
    "\n",
    "fig.show()"
   ]
  },
  {
   "cell_type": "markdown",
   "id": "2ea8a9db",
   "metadata": {},
   "source": [
    "#### разделение выборок по 50% было принято для более точной проверки обобщающей способности модели"
   ]
  },
  {
   "cell_type": "markdown",
   "id": "5e9f49a0",
   "metadata": {},
   "source": [
    "# Обучение модели и её тестирование"
   ]
  },
  {
   "cell_type": "code",
   "execution_count": 314,
   "id": "6de8e983",
   "metadata": {},
   "outputs": [
    {
     "name": "stdout",
     "output_type": "stream",
     "text": [
      "Точность предсказания: 1.0\n"
     ]
    }
   ],
   "source": [
    "# используем классифицирующую модель случайного леса с градиентным бустингом \n",
    "# 100 деревьев с максимальной глубиной 2\n",
    "model = CatBoostClassifier(iterations=100, max_depth=2,verbose=False)\n",
    "# обучаем\n",
    "model.fit(X_train, y_train)\n",
    "# делаем предсказания\n",
    "y_pred = model.predict(X_test)\n",
    "print('Точность предсказания:', balanced_accuracy_score(y_test, y_pred))"
   ]
  },
  {
   "cell_type": "markdown",
   "id": "9cb98650",
   "metadata": {},
   "source": [
    "##### параметры модели"
   ]
  },
  {
   "cell_type": "code",
   "execution_count": 315,
   "id": "71b47b06",
   "metadata": {},
   "outputs": [
    {
     "data": {
      "text/plain": [
       "{'max_depth': 2, 'verbose': False, 'iterations': 100}"
      ]
     },
     "execution_count": 315,
     "metadata": {},
     "output_type": "execute_result"
    }
   ],
   "source": [
    "model.get_params()"
   ]
  },
  {
   "cell_type": "markdown",
   "id": "c239fe13",
   "metadata": {},
   "source": [
    "# Интерпретируемость и не переобучена ли модель"
   ]
  },
  {
   "cell_type": "markdown",
   "id": "43cc0699",
   "metadata": {},
   "source": [
    "### Признаков с черезмерно завышенной важностью нет. Из этого следует, что модель не переобучена и утечки данных не произошло\n"
   ]
  },
  {
   "cell_type": "code",
   "execution_count": 316,
   "id": "b4593d80",
   "metadata": {},
   "outputs": [
    {
     "data": {
      "application/vnd.plotly.v1+json": {
       "config": {
        "plotlyServerURL": "https://plot.ly"
       },
       "data": [
        {
         "alignmentgroup": "True",
         "bingroup": "x",
         "histfunc": "sum",
         "hovertemplate": "Название признака =%{x}<br>sum of     Важность=%{y}<extra></extra>",
         "legendgroup": "",
         "marker": {
          "color": "#636efa",
          "pattern": {
           "shape": ""
          }
         },
         "name": "",
         "offsetgroup": "",
         "orientation": "v",
         "showlegend": false,
         "type": "histogram",
         "x": [
          "локализация.1",
          "PADUA",
          "Кровопотеря",
          "хирургические ранние структура",
          "стадия ХПН",
          "диурез, сутки",
          "pT при одностороннем поражении",
          "Время ишемии",
          "Исходный клиренс креатинина",
          "темп диуреза, мл/кг/ч",
          "Время операции",
          "RENAL",
          "BMI, кг/м2",
          "креатинин max",
          "%удаленной паренхимы",
          "сТ",
          "Исходный креатинин",
          "PADUA риск (6-7 vs 8-9 vs >=10)",
          "ОЦК",
          "Что пережимали",
          "СКФ снижение на %",
          "t от диагноза до лечения, мес",
          "Исходный v почки",
          "Тепловая-холодовая ишемия",
          "RENAL риск (4-6 vs 7-9 vs >=10)",
          "d max при одностороннем поражении",
          "ASA (в осмотре анестезиологом)"
         ],
         "xaxis": "x",
         "y": [
          13.9,
          13.8,
          10.9,
          10.1,
          7.9,
          7,
          6.9,
          6,
          5,
          4.3,
          4.1,
          2,
          1.9,
          1.5,
          0.7,
          0.7,
          0.6,
          0.5,
          0.4,
          0.4,
          0.4,
          0.4,
          0.1,
          0.1,
          0.1,
          0.1,
          0.1
         ],
         "yaxis": "y"
        }
       ],
       "layout": {
        "barmode": "relative",
        "legend": {
         "tracegroupgap": 0
        },
        "margin": {
         "t": 60
        },
        "template": {
         "data": {
          "bar": [
           {
            "error_x": {
             "color": "#2a3f5f"
            },
            "error_y": {
             "color": "#2a3f5f"
            },
            "marker": {
             "line": {
              "color": "#E5ECF6",
              "width": 0.5
             },
             "pattern": {
              "fillmode": "overlay",
              "size": 10,
              "solidity": 0.2
             }
            },
            "type": "bar"
           }
          ],
          "barpolar": [
           {
            "marker": {
             "line": {
              "color": "#E5ECF6",
              "width": 0.5
             },
             "pattern": {
              "fillmode": "overlay",
              "size": 10,
              "solidity": 0.2
             }
            },
            "type": "barpolar"
           }
          ],
          "carpet": [
           {
            "aaxis": {
             "endlinecolor": "#2a3f5f",
             "gridcolor": "white",
             "linecolor": "white",
             "minorgridcolor": "white",
             "startlinecolor": "#2a3f5f"
            },
            "baxis": {
             "endlinecolor": "#2a3f5f",
             "gridcolor": "white",
             "linecolor": "white",
             "minorgridcolor": "white",
             "startlinecolor": "#2a3f5f"
            },
            "type": "carpet"
           }
          ],
          "choropleth": [
           {
            "colorbar": {
             "outlinewidth": 0,
             "ticks": ""
            },
            "type": "choropleth"
           }
          ],
          "contour": [
           {
            "colorbar": {
             "outlinewidth": 0,
             "ticks": ""
            },
            "colorscale": [
             [
              0,
              "#0d0887"
             ],
             [
              0.1111111111111111,
              "#46039f"
             ],
             [
              0.2222222222222222,
              "#7201a8"
             ],
             [
              0.3333333333333333,
              "#9c179e"
             ],
             [
              0.4444444444444444,
              "#bd3786"
             ],
             [
              0.5555555555555556,
              "#d8576b"
             ],
             [
              0.6666666666666666,
              "#ed7953"
             ],
             [
              0.7777777777777778,
              "#fb9f3a"
             ],
             [
              0.8888888888888888,
              "#fdca26"
             ],
             [
              1,
              "#f0f921"
             ]
            ],
            "type": "contour"
           }
          ],
          "contourcarpet": [
           {
            "colorbar": {
             "outlinewidth": 0,
             "ticks": ""
            },
            "type": "contourcarpet"
           }
          ],
          "heatmap": [
           {
            "colorbar": {
             "outlinewidth": 0,
             "ticks": ""
            },
            "colorscale": [
             [
              0,
              "#0d0887"
             ],
             [
              0.1111111111111111,
              "#46039f"
             ],
             [
              0.2222222222222222,
              "#7201a8"
             ],
             [
              0.3333333333333333,
              "#9c179e"
             ],
             [
              0.4444444444444444,
              "#bd3786"
             ],
             [
              0.5555555555555556,
              "#d8576b"
             ],
             [
              0.6666666666666666,
              "#ed7953"
             ],
             [
              0.7777777777777778,
              "#fb9f3a"
             ],
             [
              0.8888888888888888,
              "#fdca26"
             ],
             [
              1,
              "#f0f921"
             ]
            ],
            "type": "heatmap"
           }
          ],
          "heatmapgl": [
           {
            "colorbar": {
             "outlinewidth": 0,
             "ticks": ""
            },
            "colorscale": [
             [
              0,
              "#0d0887"
             ],
             [
              0.1111111111111111,
              "#46039f"
             ],
             [
              0.2222222222222222,
              "#7201a8"
             ],
             [
              0.3333333333333333,
              "#9c179e"
             ],
             [
              0.4444444444444444,
              "#bd3786"
             ],
             [
              0.5555555555555556,
              "#d8576b"
             ],
             [
              0.6666666666666666,
              "#ed7953"
             ],
             [
              0.7777777777777778,
              "#fb9f3a"
             ],
             [
              0.8888888888888888,
              "#fdca26"
             ],
             [
              1,
              "#f0f921"
             ]
            ],
            "type": "heatmapgl"
           }
          ],
          "histogram": [
           {
            "marker": {
             "pattern": {
              "fillmode": "overlay",
              "size": 10,
              "solidity": 0.2
             }
            },
            "type": "histogram"
           }
          ],
          "histogram2d": [
           {
            "colorbar": {
             "outlinewidth": 0,
             "ticks": ""
            },
            "colorscale": [
             [
              0,
              "#0d0887"
             ],
             [
              0.1111111111111111,
              "#46039f"
             ],
             [
              0.2222222222222222,
              "#7201a8"
             ],
             [
              0.3333333333333333,
              "#9c179e"
             ],
             [
              0.4444444444444444,
              "#bd3786"
             ],
             [
              0.5555555555555556,
              "#d8576b"
             ],
             [
              0.6666666666666666,
              "#ed7953"
             ],
             [
              0.7777777777777778,
              "#fb9f3a"
             ],
             [
              0.8888888888888888,
              "#fdca26"
             ],
             [
              1,
              "#f0f921"
             ]
            ],
            "type": "histogram2d"
           }
          ],
          "histogram2dcontour": [
           {
            "colorbar": {
             "outlinewidth": 0,
             "ticks": ""
            },
            "colorscale": [
             [
              0,
              "#0d0887"
             ],
             [
              0.1111111111111111,
              "#46039f"
             ],
             [
              0.2222222222222222,
              "#7201a8"
             ],
             [
              0.3333333333333333,
              "#9c179e"
             ],
             [
              0.4444444444444444,
              "#bd3786"
             ],
             [
              0.5555555555555556,
              "#d8576b"
             ],
             [
              0.6666666666666666,
              "#ed7953"
             ],
             [
              0.7777777777777778,
              "#fb9f3a"
             ],
             [
              0.8888888888888888,
              "#fdca26"
             ],
             [
              1,
              "#f0f921"
             ]
            ],
            "type": "histogram2dcontour"
           }
          ],
          "mesh3d": [
           {
            "colorbar": {
             "outlinewidth": 0,
             "ticks": ""
            },
            "type": "mesh3d"
           }
          ],
          "parcoords": [
           {
            "line": {
             "colorbar": {
              "outlinewidth": 0,
              "ticks": ""
             }
            },
            "type": "parcoords"
           }
          ],
          "pie": [
           {
            "automargin": true,
            "type": "pie"
           }
          ],
          "scatter": [
           {
            "marker": {
             "colorbar": {
              "outlinewidth": 0,
              "ticks": ""
             }
            },
            "type": "scatter"
           }
          ],
          "scatter3d": [
           {
            "line": {
             "colorbar": {
              "outlinewidth": 0,
              "ticks": ""
             }
            },
            "marker": {
             "colorbar": {
              "outlinewidth": 0,
              "ticks": ""
             }
            },
            "type": "scatter3d"
           }
          ],
          "scattercarpet": [
           {
            "marker": {
             "colorbar": {
              "outlinewidth": 0,
              "ticks": ""
             }
            },
            "type": "scattercarpet"
           }
          ],
          "scattergeo": [
           {
            "marker": {
             "colorbar": {
              "outlinewidth": 0,
              "ticks": ""
             }
            },
            "type": "scattergeo"
           }
          ],
          "scattergl": [
           {
            "marker": {
             "colorbar": {
              "outlinewidth": 0,
              "ticks": ""
             }
            },
            "type": "scattergl"
           }
          ],
          "scattermapbox": [
           {
            "marker": {
             "colorbar": {
              "outlinewidth": 0,
              "ticks": ""
             }
            },
            "type": "scattermapbox"
           }
          ],
          "scatterpolar": [
           {
            "marker": {
             "colorbar": {
              "outlinewidth": 0,
              "ticks": ""
             }
            },
            "type": "scatterpolar"
           }
          ],
          "scatterpolargl": [
           {
            "marker": {
             "colorbar": {
              "outlinewidth": 0,
              "ticks": ""
             }
            },
            "type": "scatterpolargl"
           }
          ],
          "scatterternary": [
           {
            "marker": {
             "colorbar": {
              "outlinewidth": 0,
              "ticks": ""
             }
            },
            "type": "scatterternary"
           }
          ],
          "surface": [
           {
            "colorbar": {
             "outlinewidth": 0,
             "ticks": ""
            },
            "colorscale": [
             [
              0,
              "#0d0887"
             ],
             [
              0.1111111111111111,
              "#46039f"
             ],
             [
              0.2222222222222222,
              "#7201a8"
             ],
             [
              0.3333333333333333,
              "#9c179e"
             ],
             [
              0.4444444444444444,
              "#bd3786"
             ],
             [
              0.5555555555555556,
              "#d8576b"
             ],
             [
              0.6666666666666666,
              "#ed7953"
             ],
             [
              0.7777777777777778,
              "#fb9f3a"
             ],
             [
              0.8888888888888888,
              "#fdca26"
             ],
             [
              1,
              "#f0f921"
             ]
            ],
            "type": "surface"
           }
          ],
          "table": [
           {
            "cells": {
             "fill": {
              "color": "#EBF0F8"
             },
             "line": {
              "color": "white"
             }
            },
            "header": {
             "fill": {
              "color": "#C8D4E3"
             },
             "line": {
              "color": "white"
             }
            },
            "type": "table"
           }
          ]
         },
         "layout": {
          "annotationdefaults": {
           "arrowcolor": "#2a3f5f",
           "arrowhead": 0,
           "arrowwidth": 1
          },
          "autotypenumbers": "strict",
          "coloraxis": {
           "colorbar": {
            "outlinewidth": 0,
            "ticks": ""
           }
          },
          "colorscale": {
           "diverging": [
            [
             0,
             "#8e0152"
            ],
            [
             0.1,
             "#c51b7d"
            ],
            [
             0.2,
             "#de77ae"
            ],
            [
             0.3,
             "#f1b6da"
            ],
            [
             0.4,
             "#fde0ef"
            ],
            [
             0.5,
             "#f7f7f7"
            ],
            [
             0.6,
             "#e6f5d0"
            ],
            [
             0.7,
             "#b8e186"
            ],
            [
             0.8,
             "#7fbc41"
            ],
            [
             0.9,
             "#4d9221"
            ],
            [
             1,
             "#276419"
            ]
           ],
           "sequential": [
            [
             0,
             "#0d0887"
            ],
            [
             0.1111111111111111,
             "#46039f"
            ],
            [
             0.2222222222222222,
             "#7201a8"
            ],
            [
             0.3333333333333333,
             "#9c179e"
            ],
            [
             0.4444444444444444,
             "#bd3786"
            ],
            [
             0.5555555555555556,
             "#d8576b"
            ],
            [
             0.6666666666666666,
             "#ed7953"
            ],
            [
             0.7777777777777778,
             "#fb9f3a"
            ],
            [
             0.8888888888888888,
             "#fdca26"
            ],
            [
             1,
             "#f0f921"
            ]
           ],
           "sequentialminus": [
            [
             0,
             "#0d0887"
            ],
            [
             0.1111111111111111,
             "#46039f"
            ],
            [
             0.2222222222222222,
             "#7201a8"
            ],
            [
             0.3333333333333333,
             "#9c179e"
            ],
            [
             0.4444444444444444,
             "#bd3786"
            ],
            [
             0.5555555555555556,
             "#d8576b"
            ],
            [
             0.6666666666666666,
             "#ed7953"
            ],
            [
             0.7777777777777778,
             "#fb9f3a"
            ],
            [
             0.8888888888888888,
             "#fdca26"
            ],
            [
             1,
             "#f0f921"
            ]
           ]
          },
          "colorway": [
           "#636efa",
           "#EF553B",
           "#00cc96",
           "#ab63fa",
           "#FFA15A",
           "#19d3f3",
           "#FF6692",
           "#B6E880",
           "#FF97FF",
           "#FECB52"
          ],
          "font": {
           "color": "#2a3f5f"
          },
          "geo": {
           "bgcolor": "white",
           "lakecolor": "white",
           "landcolor": "#E5ECF6",
           "showlakes": true,
           "showland": true,
           "subunitcolor": "white"
          },
          "hoverlabel": {
           "align": "left"
          },
          "hovermode": "closest",
          "mapbox": {
           "style": "light"
          },
          "paper_bgcolor": "white",
          "plot_bgcolor": "#E5ECF6",
          "polar": {
           "angularaxis": {
            "gridcolor": "white",
            "linecolor": "white",
            "ticks": ""
           },
           "bgcolor": "#E5ECF6",
           "radialaxis": {
            "gridcolor": "white",
            "linecolor": "white",
            "ticks": ""
           }
          },
          "scene": {
           "xaxis": {
            "backgroundcolor": "#E5ECF6",
            "gridcolor": "white",
            "gridwidth": 2,
            "linecolor": "white",
            "showbackground": true,
            "ticks": "",
            "zerolinecolor": "white"
           },
           "yaxis": {
            "backgroundcolor": "#E5ECF6",
            "gridcolor": "white",
            "gridwidth": 2,
            "linecolor": "white",
            "showbackground": true,
            "ticks": "",
            "zerolinecolor": "white"
           },
           "zaxis": {
            "backgroundcolor": "#E5ECF6",
            "gridcolor": "white",
            "gridwidth": 2,
            "linecolor": "white",
            "showbackground": true,
            "ticks": "",
            "zerolinecolor": "white"
           }
          },
          "shapedefaults": {
           "line": {
            "color": "#2a3f5f"
           }
          },
          "ternary": {
           "aaxis": {
            "gridcolor": "white",
            "linecolor": "white",
            "ticks": ""
           },
           "baxis": {
            "gridcolor": "white",
            "linecolor": "white",
            "ticks": ""
           },
           "bgcolor": "#E5ECF6",
           "caxis": {
            "gridcolor": "white",
            "linecolor": "white",
            "ticks": ""
           }
          },
          "title": {
           "x": 0.05
          },
          "xaxis": {
           "automargin": true,
           "gridcolor": "white",
           "linecolor": "white",
           "ticks": "",
           "title": {
            "standoff": 15
           },
           "zerolinecolor": "white",
           "zerolinewidth": 2
          },
          "yaxis": {
           "automargin": true,
           "gridcolor": "white",
           "linecolor": "white",
           "ticks": "",
           "title": {
            "standoff": 15
           },
           "zerolinecolor": "white",
           "zerolinewidth": 2
          }
         }
        },
        "xaxis": {
         "anchor": "y",
         "domain": [
          0,
          1
         ],
         "title": {
          "text": "Название признака "
         }
        },
        "yaxis": {
         "anchor": "x",
         "domain": [
          0,
          1
         ],
         "title": {
          "text": "sum of     Важность"
         }
        }
       }
      },
      "text/html": [
       "<div>                            <div id=\"a22fce38-e166-42c5-a676-cb9184cdc45c\" class=\"plotly-graph-div\" style=\"height:525px; width:100%;\"></div>            <script type=\"text/javascript\">                require([\"plotly\"], function(Plotly) {                    window.PLOTLYENV=window.PLOTLYENV || {};                                    if (document.getElementById(\"a22fce38-e166-42c5-a676-cb9184cdc45c\")) {                    Plotly.newPlot(                        \"a22fce38-e166-42c5-a676-cb9184cdc45c\",                        [{\"alignmentgroup\":\"True\",\"bingroup\":\"x\",\"histfunc\":\"sum\",\"hovertemplate\":\"\\u041d\\u0430\\u0437\\u0432\\u0430\\u043d\\u0438\\u0435 \\u043f\\u0440\\u0438\\u0437\\u043d\\u0430\\u043a\\u0430 =%{x}<br>sum of     \\u0412\\u0430\\u0436\\u043d\\u043e\\u0441\\u0442\\u044c=%{y}<extra></extra>\",\"legendgroup\":\"\",\"marker\":{\"color\":\"#636efa\",\"pattern\":{\"shape\":\"\"}},\"name\":\"\",\"offsetgroup\":\"\",\"orientation\":\"v\",\"showlegend\":false,\"x\":[\"\\u043b\\u043e\\u043a\\u0430\\u043b\\u0438\\u0437\\u0430\\u0446\\u0438\\u044f.1\",\"PADUA\",\"\\u041a\\u0440\\u043e\\u0432\\u043e\\u043f\\u043e\\u0442\\u0435\\u0440\\u044f\",\"\\u0445\\u0438\\u0440\\u0443\\u0440\\u0433\\u0438\\u0447\\u0435\\u0441\\u043a\\u0438\\u0435 \\u0440\\u0430\\u043d\\u043d\\u0438\\u0435 \\u0441\\u0442\\u0440\\u0443\\u043a\\u0442\\u0443\\u0440\\u0430\",\"\\u0441\\u0442\\u0430\\u0434\\u0438\\u044f \\u0425\\u041f\\u041d\",\"\\u0434\\u0438\\u0443\\u0440\\u0435\\u0437, \\u0441\\u0443\\u0442\\u043a\\u0438\",\"pT \\u043f\\u0440\\u0438 \\u043e\\u0434\\u043d\\u043e\\u0441\\u0442\\u043e\\u0440\\u043e\\u043d\\u043d\\u0435\\u043c \\u043f\\u043e\\u0440\\u0430\\u0436\\u0435\\u043d\\u0438\\u0438\",\"\\u0412\\u0440\\u0435\\u043c\\u044f \\u0438\\u0448\\u0435\\u043c\\u0438\\u0438\",\"\\u0418\\u0441\\u0445\\u043e\\u0434\\u043d\\u044b\\u0439 \\u043a\\u043b\\u0438\\u0440\\u0435\\u043d\\u0441 \\u043a\\u0440\\u0435\\u0430\\u0442\\u0438\\u043d\\u0438\\u043d\\u0430\",\"\\u0442\\u0435\\u043c\\u043f \\u0434\\u0438\\u0443\\u0440\\u0435\\u0437\\u0430, \\u043c\\u043b/\\u043a\\u0433/\\u0447\",\"\\u0412\\u0440\\u0435\\u043c\\u044f \\u043e\\u043f\\u0435\\u0440\\u0430\\u0446\\u0438\\u0438\",\"RENAL\",\"BMI, \\u043a\\u0433/\\u043c2\",\"\\u043a\\u0440\\u0435\\u0430\\u0442\\u0438\\u043d\\u0438\\u043d max\",\"%\\u0443\\u0434\\u0430\\u043b\\u0435\\u043d\\u043d\\u043e\\u0439 \\u043f\\u0430\\u0440\\u0435\\u043d\\u0445\\u0438\\u043c\\u044b\",\"\\u0441\\u0422\",\"\\u0418\\u0441\\u0445\\u043e\\u0434\\u043d\\u044b\\u0439 \\u043a\\u0440\\u0435\\u0430\\u0442\\u0438\\u043d\\u0438\\u043d\",\"PADUA \\u0440\\u0438\\u0441\\u043a (6-7 vs 8-9 vs >=10)\",\"\\u041e\\u0426\\u041a\",\"\\u0427\\u0442\\u043e \\u043f\\u0435\\u0440\\u0435\\u0436\\u0438\\u043c\\u0430\\u043b\\u0438\",\"\\u0421\\u041a\\u0424 \\u0441\\u043d\\u0438\\u0436\\u0435\\u043d\\u0438\\u0435 \\u043d\\u0430 %\",\"t \\u043e\\u0442 \\u0434\\u0438\\u0430\\u0433\\u043d\\u043e\\u0437\\u0430 \\u0434\\u043e \\u043b\\u0435\\u0447\\u0435\\u043d\\u0438\\u044f, \\u043c\\u0435\\u0441\",\"\\u0418\\u0441\\u0445\\u043e\\u0434\\u043d\\u044b\\u0439 v \\u043f\\u043e\\u0447\\u043a\\u0438\",\"\\u0422\\u0435\\u043f\\u043b\\u043e\\u0432\\u0430\\u044f-\\u0445\\u043e\\u043b\\u043e\\u0434\\u043e\\u0432\\u0430\\u044f \\u0438\\u0448\\u0435\\u043c\\u0438\\u044f\",\"RENAL \\u0440\\u0438\\u0441\\u043a (4-6 vs 7-9 vs >=10)\",\"d max \\u043f\\u0440\\u0438 \\u043e\\u0434\\u043d\\u043e\\u0441\\u0442\\u043e\\u0440\\u043e\\u043d\\u043d\\u0435\\u043c \\u043f\\u043e\\u0440\\u0430\\u0436\\u0435\\u043d\\u0438\\u0438\",\"ASA (\\u0432 \\u043e\\u0441\\u043c\\u043e\\u0442\\u0440\\u0435 \\u0430\\u043d\\u0435\\u0441\\u0442\\u0435\\u0437\\u0438\\u043e\\u043b\\u043e\\u0433\\u043e\\u043c)\"],\"xaxis\":\"x\",\"y\":[13.9,13.8,10.9,10.1,7.9,7.0,6.9,6.0,5.0,4.3,4.1,2.0,1.9,1.5,0.7,0.7,0.6,0.5,0.4,0.4,0.4,0.4,0.1,0.1,0.1,0.1,0.1],\"yaxis\":\"y\",\"type\":\"histogram\"}],                        {\"template\":{\"data\":{\"bar\":[{\"error_x\":{\"color\":\"#2a3f5f\"},\"error_y\":{\"color\":\"#2a3f5f\"},\"marker\":{\"line\":{\"color\":\"#E5ECF6\",\"width\":0.5},\"pattern\":{\"fillmode\":\"overlay\",\"size\":10,\"solidity\":0.2}},\"type\":\"bar\"}],\"barpolar\":[{\"marker\":{\"line\":{\"color\":\"#E5ECF6\",\"width\":0.5},\"pattern\":{\"fillmode\":\"overlay\",\"size\":10,\"solidity\":0.2}},\"type\":\"barpolar\"}],\"carpet\":[{\"aaxis\":{\"endlinecolor\":\"#2a3f5f\",\"gridcolor\":\"white\",\"linecolor\":\"white\",\"minorgridcolor\":\"white\",\"startlinecolor\":\"#2a3f5f\"},\"baxis\":{\"endlinecolor\":\"#2a3f5f\",\"gridcolor\":\"white\",\"linecolor\":\"white\",\"minorgridcolor\":\"white\",\"startlinecolor\":\"#2a3f5f\"},\"type\":\"carpet\"}],\"choropleth\":[{\"colorbar\":{\"outlinewidth\":0,\"ticks\":\"\"},\"type\":\"choropleth\"}],\"contour\":[{\"colorbar\":{\"outlinewidth\":0,\"ticks\":\"\"},\"colorscale\":[[0.0,\"#0d0887\"],[0.1111111111111111,\"#46039f\"],[0.2222222222222222,\"#7201a8\"],[0.3333333333333333,\"#9c179e\"],[0.4444444444444444,\"#bd3786\"],[0.5555555555555556,\"#d8576b\"],[0.6666666666666666,\"#ed7953\"],[0.7777777777777778,\"#fb9f3a\"],[0.8888888888888888,\"#fdca26\"],[1.0,\"#f0f921\"]],\"type\":\"contour\"}],\"contourcarpet\":[{\"colorbar\":{\"outlinewidth\":0,\"ticks\":\"\"},\"type\":\"contourcarpet\"}],\"heatmap\":[{\"colorbar\":{\"outlinewidth\":0,\"ticks\":\"\"},\"colorscale\":[[0.0,\"#0d0887\"],[0.1111111111111111,\"#46039f\"],[0.2222222222222222,\"#7201a8\"],[0.3333333333333333,\"#9c179e\"],[0.4444444444444444,\"#bd3786\"],[0.5555555555555556,\"#d8576b\"],[0.6666666666666666,\"#ed7953\"],[0.7777777777777778,\"#fb9f3a\"],[0.8888888888888888,\"#fdca26\"],[1.0,\"#f0f921\"]],\"type\":\"heatmap\"}],\"heatmapgl\":[{\"colorbar\":{\"outlinewidth\":0,\"ticks\":\"\"},\"colorscale\":[[0.0,\"#0d0887\"],[0.1111111111111111,\"#46039f\"],[0.2222222222222222,\"#7201a8\"],[0.3333333333333333,\"#9c179e\"],[0.4444444444444444,\"#bd3786\"],[0.5555555555555556,\"#d8576b\"],[0.6666666666666666,\"#ed7953\"],[0.7777777777777778,\"#fb9f3a\"],[0.8888888888888888,\"#fdca26\"],[1.0,\"#f0f921\"]],\"type\":\"heatmapgl\"}],\"histogram\":[{\"marker\":{\"pattern\":{\"fillmode\":\"overlay\",\"size\":10,\"solidity\":0.2}},\"type\":\"histogram\"}],\"histogram2d\":[{\"colorbar\":{\"outlinewidth\":0,\"ticks\":\"\"},\"colorscale\":[[0.0,\"#0d0887\"],[0.1111111111111111,\"#46039f\"],[0.2222222222222222,\"#7201a8\"],[0.3333333333333333,\"#9c179e\"],[0.4444444444444444,\"#bd3786\"],[0.5555555555555556,\"#d8576b\"],[0.6666666666666666,\"#ed7953\"],[0.7777777777777778,\"#fb9f3a\"],[0.8888888888888888,\"#fdca26\"],[1.0,\"#f0f921\"]],\"type\":\"histogram2d\"}],\"histogram2dcontour\":[{\"colorbar\":{\"outlinewidth\":0,\"ticks\":\"\"},\"colorscale\":[[0.0,\"#0d0887\"],[0.1111111111111111,\"#46039f\"],[0.2222222222222222,\"#7201a8\"],[0.3333333333333333,\"#9c179e\"],[0.4444444444444444,\"#bd3786\"],[0.5555555555555556,\"#d8576b\"],[0.6666666666666666,\"#ed7953\"],[0.7777777777777778,\"#fb9f3a\"],[0.8888888888888888,\"#fdca26\"],[1.0,\"#f0f921\"]],\"type\":\"histogram2dcontour\"}],\"mesh3d\":[{\"colorbar\":{\"outlinewidth\":0,\"ticks\":\"\"},\"type\":\"mesh3d\"}],\"parcoords\":[{\"line\":{\"colorbar\":{\"outlinewidth\":0,\"ticks\":\"\"}},\"type\":\"parcoords\"}],\"pie\":[{\"automargin\":true,\"type\":\"pie\"}],\"scatter\":[{\"marker\":{\"colorbar\":{\"outlinewidth\":0,\"ticks\":\"\"}},\"type\":\"scatter\"}],\"scatter3d\":[{\"line\":{\"colorbar\":{\"outlinewidth\":0,\"ticks\":\"\"}},\"marker\":{\"colorbar\":{\"outlinewidth\":0,\"ticks\":\"\"}},\"type\":\"scatter3d\"}],\"scattercarpet\":[{\"marker\":{\"colorbar\":{\"outlinewidth\":0,\"ticks\":\"\"}},\"type\":\"scattercarpet\"}],\"scattergeo\":[{\"marker\":{\"colorbar\":{\"outlinewidth\":0,\"ticks\":\"\"}},\"type\":\"scattergeo\"}],\"scattergl\":[{\"marker\":{\"colorbar\":{\"outlinewidth\":0,\"ticks\":\"\"}},\"type\":\"scattergl\"}],\"scattermapbox\":[{\"marker\":{\"colorbar\":{\"outlinewidth\":0,\"ticks\":\"\"}},\"type\":\"scattermapbox\"}],\"scatterpolar\":[{\"marker\":{\"colorbar\":{\"outlinewidth\":0,\"ticks\":\"\"}},\"type\":\"scatterpolar\"}],\"scatterpolargl\":[{\"marker\":{\"colorbar\":{\"outlinewidth\":0,\"ticks\":\"\"}},\"type\":\"scatterpolargl\"}],\"scatterternary\":[{\"marker\":{\"colorbar\":{\"outlinewidth\":0,\"ticks\":\"\"}},\"type\":\"scatterternary\"}],\"surface\":[{\"colorbar\":{\"outlinewidth\":0,\"ticks\":\"\"},\"colorscale\":[[0.0,\"#0d0887\"],[0.1111111111111111,\"#46039f\"],[0.2222222222222222,\"#7201a8\"],[0.3333333333333333,\"#9c179e\"],[0.4444444444444444,\"#bd3786\"],[0.5555555555555556,\"#d8576b\"],[0.6666666666666666,\"#ed7953\"],[0.7777777777777778,\"#fb9f3a\"],[0.8888888888888888,\"#fdca26\"],[1.0,\"#f0f921\"]],\"type\":\"surface\"}],\"table\":[{\"cells\":{\"fill\":{\"color\":\"#EBF0F8\"},\"line\":{\"color\":\"white\"}},\"header\":{\"fill\":{\"color\":\"#C8D4E3\"},\"line\":{\"color\":\"white\"}},\"type\":\"table\"}]},\"layout\":{\"annotationdefaults\":{\"arrowcolor\":\"#2a3f5f\",\"arrowhead\":0,\"arrowwidth\":1},\"autotypenumbers\":\"strict\",\"coloraxis\":{\"colorbar\":{\"outlinewidth\":0,\"ticks\":\"\"}},\"colorscale\":{\"diverging\":[[0,\"#8e0152\"],[0.1,\"#c51b7d\"],[0.2,\"#de77ae\"],[0.3,\"#f1b6da\"],[0.4,\"#fde0ef\"],[0.5,\"#f7f7f7\"],[0.6,\"#e6f5d0\"],[0.7,\"#b8e186\"],[0.8,\"#7fbc41\"],[0.9,\"#4d9221\"],[1,\"#276419\"]],\"sequential\":[[0.0,\"#0d0887\"],[0.1111111111111111,\"#46039f\"],[0.2222222222222222,\"#7201a8\"],[0.3333333333333333,\"#9c179e\"],[0.4444444444444444,\"#bd3786\"],[0.5555555555555556,\"#d8576b\"],[0.6666666666666666,\"#ed7953\"],[0.7777777777777778,\"#fb9f3a\"],[0.8888888888888888,\"#fdca26\"],[1.0,\"#f0f921\"]],\"sequentialminus\":[[0.0,\"#0d0887\"],[0.1111111111111111,\"#46039f\"],[0.2222222222222222,\"#7201a8\"],[0.3333333333333333,\"#9c179e\"],[0.4444444444444444,\"#bd3786\"],[0.5555555555555556,\"#d8576b\"],[0.6666666666666666,\"#ed7953\"],[0.7777777777777778,\"#fb9f3a\"],[0.8888888888888888,\"#fdca26\"],[1.0,\"#f0f921\"]]},\"colorway\":[\"#636efa\",\"#EF553B\",\"#00cc96\",\"#ab63fa\",\"#FFA15A\",\"#19d3f3\",\"#FF6692\",\"#B6E880\",\"#FF97FF\",\"#FECB52\"],\"font\":{\"color\":\"#2a3f5f\"},\"geo\":{\"bgcolor\":\"white\",\"lakecolor\":\"white\",\"landcolor\":\"#E5ECF6\",\"showlakes\":true,\"showland\":true,\"subunitcolor\":\"white\"},\"hoverlabel\":{\"align\":\"left\"},\"hovermode\":\"closest\",\"mapbox\":{\"style\":\"light\"},\"paper_bgcolor\":\"white\",\"plot_bgcolor\":\"#E5ECF6\",\"polar\":{\"angularaxis\":{\"gridcolor\":\"white\",\"linecolor\":\"white\",\"ticks\":\"\"},\"bgcolor\":\"#E5ECF6\",\"radialaxis\":{\"gridcolor\":\"white\",\"linecolor\":\"white\",\"ticks\":\"\"}},\"scene\":{\"xaxis\":{\"backgroundcolor\":\"#E5ECF6\",\"gridcolor\":\"white\",\"gridwidth\":2,\"linecolor\":\"white\",\"showbackground\":true,\"ticks\":\"\",\"zerolinecolor\":\"white\"},\"yaxis\":{\"backgroundcolor\":\"#E5ECF6\",\"gridcolor\":\"white\",\"gridwidth\":2,\"linecolor\":\"white\",\"showbackground\":true,\"ticks\":\"\",\"zerolinecolor\":\"white\"},\"zaxis\":{\"backgroundcolor\":\"#E5ECF6\",\"gridcolor\":\"white\",\"gridwidth\":2,\"linecolor\":\"white\",\"showbackground\":true,\"ticks\":\"\",\"zerolinecolor\":\"white\"}},\"shapedefaults\":{\"line\":{\"color\":\"#2a3f5f\"}},\"ternary\":{\"aaxis\":{\"gridcolor\":\"white\",\"linecolor\":\"white\",\"ticks\":\"\"},\"baxis\":{\"gridcolor\":\"white\",\"linecolor\":\"white\",\"ticks\":\"\"},\"bgcolor\":\"#E5ECF6\",\"caxis\":{\"gridcolor\":\"white\",\"linecolor\":\"white\",\"ticks\":\"\"}},\"title\":{\"x\":0.05},\"xaxis\":{\"automargin\":true,\"gridcolor\":\"white\",\"linecolor\":\"white\",\"ticks\":\"\",\"title\":{\"standoff\":15},\"zerolinecolor\":\"white\",\"zerolinewidth\":2},\"yaxis\":{\"automargin\":true,\"gridcolor\":\"white\",\"linecolor\":\"white\",\"ticks\":\"\",\"title\":{\"standoff\":15},\"zerolinecolor\":\"white\",\"zerolinewidth\":2}}},\"xaxis\":{\"anchor\":\"y\",\"domain\":[0.0,1.0],\"title\":{\"text\":\"\\u041d\\u0430\\u0437\\u0432\\u0430\\u043d\\u0438\\u0435 \\u043f\\u0440\\u0438\\u0437\\u043d\\u0430\\u043a\\u0430 \"}},\"yaxis\":{\"anchor\":\"x\",\"domain\":[0.0,1.0],\"title\":{\"text\":\"sum of     \\u0412\\u0430\\u0436\\u043d\\u043e\\u0441\\u0442\\u044c\"}},\"legend\":{\"tracegroupgap\":0},\"margin\":{\"t\":60},\"barmode\":\"relative\"},                        {\"responsive\": true}                    ).then(function(){\n",
       "                            \n",
       "var gd = document.getElementById('a22fce38-e166-42c5-a676-cb9184cdc45c');\n",
       "var x = new MutationObserver(function (mutations, observer) {{\n",
       "        var display = window.getComputedStyle(gd).display;\n",
       "        if (!display || display === 'none') {{\n",
       "            console.log([gd, 'removed!']);\n",
       "            Plotly.purge(gd);\n",
       "            observer.disconnect();\n",
       "        }}\n",
       "}});\n",
       "\n",
       "// Listen for the removal of the full notebook cells\n",
       "var notebookContainer = gd.closest('#notebook-container');\n",
       "if (notebookContainer) {{\n",
       "    x.observe(notebookContainer, {childList: true});\n",
       "}}\n",
       "\n",
       "// Listen for the clearing of the current output cell\n",
       "var outputEl = gd.closest('.output');\n",
       "if (outputEl) {{\n",
       "    x.observe(outputEl, {childList: true});\n",
       "}}\n",
       "\n",
       "                        })                };                });            </script>        </div>"
      ]
     },
     "metadata": {},
     "output_type": "display_data"
    }
   ],
   "source": [
    "# достаем значимость каждой колонки\n",
    "weight = model.feature_importances_\n",
    "weight = np.array((100*weight/weight.sum()).round(1))\n",
    "\n",
    "# собираем названия признаков, учавствующих в предсказании\n",
    "columns = df.columns[weight>0.].to_list()\n",
    "# переводим значимость в проценты\n",
    "weight = weight[weight>0.]\n",
    "\n",
    "hist_weight = pd.Series(weight, index=columns).sort_values(ascending=False)\n",
    "\n",
    "# визуализируем\n",
    "px.histogram(histfunc='sum', y=hist_weight.values, x=hist_weight.index, \n",
    "             labels={'x':'Название признака ', 'y':'    Важность'})"
   ]
  },
  {
   "cell_type": "markdown",
   "id": "7e08c594",
   "metadata": {},
   "source": [
    "### Визуализировав распределения некоторых важных для модели признаков видим, что по их положению можно разделить 3 класса. Из этого следует, что модель может давать точность 100% "
   ]
  },
  {
   "cell_type": "code",
   "execution_count": 317,
   "id": "f668b31c",
   "metadata": {},
   "outputs": [
    {
     "data": {
      "application/vnd.plotly.v1+json": {
       "config": {
        "plotlyServerURL": "https://plot.ly"
       },
       "data": [
        {
         "hoverinfo": "all",
         "line": {
          "color": "#0000ff"
         },
         "mode": "markers",
         "name": "Жив",
         "type": "scatter",
         "x": [
          0,
          8,
          0,
          0,
          0,
          0,
          0,
          0,
          0,
          0,
          0,
          0,
          0,
          0,
          0,
          0,
          0,
          0,
          0,
          0,
          0,
          0,
          8,
          0,
          0,
          0,
          8,
          0,
          0,
          0,
          0,
          0,
          0,
          0,
          0,
          0,
          0,
          0,
          0,
          0,
          0,
          4,
          0,
          0,
          0,
          2.3,
          0,
          3,
          0,
          0,
          0,
          0,
          0,
          0,
          0,
          0,
          0,
          0,
          5,
          0,
          0,
          0,
          0,
          0,
          0,
          0,
          0,
          0,
          0,
          0,
          0,
          0,
          0,
          0,
          0,
          0,
          0,
          0,
          5,
          0,
          0,
          0,
          0,
          0,
          0,
          0,
          0,
          0,
          0,
          0,
          0,
          0,
          0,
          0,
          0,
          0,
          0,
          0,
          0,
          0,
          6,
          0,
          0,
          0,
          0,
          0,
          0,
          2,
          0,
          0,
          0,
          0,
          0,
          0,
          0,
          7,
          0,
          0,
          8,
          0,
          0,
          0,
          0,
          0,
          0,
          0,
          0,
          0,
          0,
          8,
          0,
          0,
          8,
          0,
          0,
          0,
          0,
          0,
          0,
          0,
          0,
          0,
          0,
          0,
          0,
          0,
          4,
          0,
          9,
          0,
          0,
          0,
          0,
          0,
          0,
          0,
          2,
          0,
          0,
          8,
          0,
          0,
          0,
          8,
          0,
          0,
          0
         ],
         "xaxis": "x",
         "y": [
          8,
          7,
          6,
          7,
          11,
          7,
          9,
          7,
          6,
          11,
          6,
          6,
          12,
          6,
          6,
          9,
          6,
          9,
          7,
          6,
          13,
          7,
          7,
          8,
          6,
          10,
          6,
          7,
          6,
          6,
          6,
          7,
          6,
          11,
          6,
          7,
          7,
          11,
          7,
          7,
          7,
          12,
          6,
          6,
          7,
          7,
          10,
          6,
          6,
          7,
          7,
          8,
          7,
          6,
          6,
          12,
          8,
          7,
          6,
          10,
          8,
          6,
          6,
          6,
          7,
          6,
          6,
          7,
          6,
          9,
          7,
          7,
          7,
          6,
          7,
          7,
          7,
          6,
          7,
          6,
          7,
          6,
          8,
          6,
          7,
          7,
          13,
          7,
          9,
          7,
          8,
          7,
          7,
          13,
          6,
          12,
          7,
          6,
          7,
          12,
          6,
          7,
          6,
          6,
          6,
          6,
          7,
          6,
          7,
          7,
          7,
          6,
          7,
          11,
          7,
          8,
          11,
          7,
          6,
          13,
          6,
          7,
          11,
          9,
          6,
          7,
          12,
          7,
          7,
          6,
          6,
          6,
          7,
          12,
          7,
          6,
          7,
          7,
          7,
          7,
          7,
          12,
          7,
          8,
          7,
          11,
          13,
          8,
          12,
          7,
          7,
          6,
          8,
          12,
          7,
          7,
          7,
          7,
          8,
          7,
          6,
          6,
          7,
          6,
          7,
          6,
          6
         ],
         "yaxis": "y"
        },
        {
         "hoverinfo": "all",
         "line": {
          "color": "#AA00ff"
         },
         "mode": "markers",
         "name": "Мертв",
         "type": "scatter",
         "x": [
          2.844125343927511,
          3.373533778140507,
          0.1634475577268132,
          0.8450293306882188,
          0.5422462203135963,
          2.920140674960709,
          1.469989793849505,
          2.022009990043532,
          0.2971426733340782,
          2.505207542294234,
          0.7471615015339617,
          0.958701233019545,
          2.452043327761439,
          3.207014654047457,
          0,
          0.8556408393341008,
          0.508673955857289,
          1.457216543141756,
          5.923768918606704,
          0.1148128375890785,
          1.907225120837339,
          1.618243295759351,
          1.031085206703575,
          1.532108658061197,
          2.350539042824707,
          1.083032590337149,
          1.442478993706538,
          0.5034827386804979,
          2.112628785695002,
          3.584549644647479,
          3.619250206291017,
          0.06344069645154993,
          0.01651841461385162,
          0.02685400622112422,
          4.475495280450124,
          2.316869698483552,
          2.015968425920143,
          0.1333010431006487,
          1.966881596242339,
          0.8211017291501245,
          5.103880664966981,
          2.909729385677572,
          0.5188718696254273,
          2.111593174135725,
          2.409317130101548,
          2.4660560876386,
          1.276119492964367,
          1.850685304030039,
          0.3336083618777841,
          4,
          2.064723825620989,
          0.6002589435813797,
          0.1327987869191674,
          2.199435136956391,
          1.887853070461858,
          1.52114415033964,
          0.4701258767435744,
          3.371884757481724,
          0,
          0.2703888921820745,
          3.302910755418861,
          2.495351455080786,
          2.999377771557643,
          2.605183532482581,
          1.993747835600706,
          1.260095926435684,
          0.2116217108774527,
          3.668443080924614,
          1.676369135700805,
          0.5914583967894791,
          0.2218019141596537,
          0.8924469122391705,
          0.4896338808432033
         ],
         "xaxis": "x",
         "y": [
          10,
          8,
          10,
          8,
          9,
          7,
          10,
          9,
          9,
          11,
          9,
          10,
          9,
          11,
          12,
          10,
          9,
          9,
          11,
          9,
          11,
          11,
          11,
          8,
          11,
          10,
          8,
          9,
          9,
          11,
          8,
          10,
          10,
          9,
          8,
          9,
          10,
          8,
          11,
          8,
          7,
          9,
          9,
          9,
          10,
          9,
          11,
          8,
          9,
          7,
          8,
          8,
          10,
          9,
          11,
          9,
          8,
          8,
          12,
          9,
          12,
          10,
          10,
          11,
          9,
          9,
          9,
          10,
          7,
          9,
          9,
          10,
          8
         ],
         "yaxis": "y"
        },
        {
         "hoverinfo": "all",
         "line": {
          "color": "#11ffAA"
         },
         "mode": "markers",
         "name": "Жив с рецедивом",
         "type": "scatter",
         "x": [
          0,
          0,
          0,
          0,
          0,
          0,
          0,
          0,
          0,
          0,
          0,
          0,
          0,
          0,
          0,
          0,
          0,
          0,
          0
         ],
         "xaxis": "x",
         "y": [
          6,
          6,
          6,
          6,
          6,
          6,
          6,
          6,
          6,
          6,
          6,
          6,
          6,
          6,
          6,
          6,
          6,
          6,
          6
         ],
         "yaxis": "y"
        },
        {
         "hoverinfo": "all",
         "line": {
          "color": "#0000ff"
         },
         "mode": "markers",
         "type": "scatter",
         "x": [
          0,
          8,
          0,
          0,
          0,
          0,
          0,
          0,
          0,
          0,
          0,
          0,
          0,
          0,
          0,
          0,
          0,
          0,
          0,
          0,
          0,
          0,
          8,
          0,
          0,
          0,
          8,
          0,
          0,
          0,
          0,
          0,
          0,
          0,
          0,
          0,
          0,
          0,
          0,
          0,
          0,
          4,
          0,
          0,
          0,
          2.3,
          0,
          3,
          0,
          0,
          0,
          0,
          0,
          0,
          0,
          0,
          0,
          0,
          5,
          0,
          0,
          0,
          0,
          0,
          0,
          0,
          0,
          0,
          0,
          0,
          0,
          0,
          0,
          0,
          0,
          0,
          0,
          0,
          5,
          0,
          0,
          0,
          0,
          0,
          0,
          0,
          0,
          0,
          0,
          0,
          0,
          0,
          0,
          0,
          0,
          0,
          0,
          0,
          0,
          0,
          6,
          0,
          0,
          0,
          0,
          0,
          0,
          2,
          0,
          0,
          0,
          0,
          0,
          0,
          0,
          7,
          0,
          0,
          8,
          0,
          0,
          0,
          0,
          0,
          0,
          0,
          0,
          0,
          0,
          8,
          0,
          0,
          8,
          0,
          0,
          0,
          0,
          0,
          0,
          0,
          0,
          0,
          0,
          0,
          0,
          0,
          4,
          0,
          9,
          0,
          0,
          0,
          0,
          0,
          0,
          0,
          2,
          0,
          0,
          8,
          0,
          0,
          0,
          8,
          0,
          0,
          0
         ],
         "xaxis": "x2",
         "y": [
          null,
          1000,
          200,
          null,
          null,
          200,
          900,
          500,
          1000,
          500,
          500,
          600,
          500,
          500,
          200,
          null,
          null,
          3200,
          300,
          200,
          1700,
          200,
          200,
          200,
          500,
          500,
          500,
          200,
          500,
          700,
          600,
          300,
          600,
          1200,
          400,
          500,
          300,
          null,
          500,
          1000,
          1600,
          200,
          500,
          500,
          500,
          800,
          1800,
          600,
          200,
          null,
          300,
          22,
          500,
          null,
          300,
          500,
          null,
          500,
          1100,
          400,
          null,
          250,
          1300,
          500,
          1000,
          800,
          300,
          null,
          300,
          200,
          300,
          500,
          1200,
          200,
          200,
          600,
          2000,
          300,
          300,
          null,
          null,
          null,
          30,
          800,
          1000,
          null,
          500,
          300,
          1000,
          0,
          200,
          700,
          200,
          800,
          200,
          null,
          null,
          850,
          null,
          1200,
          1000,
          200,
          200,
          500,
          200,
          500,
          200,
          null,
          500,
          2500,
          null,
          1000,
          100,
          null,
          200,
          200,
          300,
          300,
          300,
          3000,
          400,
          500,
          null,
          200,
          800,
          300,
          500,
          500,
          300,
          500,
          600,
          400,
          500,
          1500,
          400,
          200,
          null,
          null,
          2500,
          200,
          700,
          null,
          null,
          100,
          200,
          1000,
          1700,
          null,
          1000,
          250,
          500,
          1700,
          null,
          700,
          600,
          null,
          null,
          300,
          null,
          600,
          700,
          1000,
          null,
          500,
          600,
          1100,
          null
         ],
         "yaxis": "y2"
        },
        {
         "hoverinfo": "all",
         "line": {
          "color": "#AA00ff"
         },
         "mode": "markers",
         "type": "scatter",
         "x": [
          2.844125343927511,
          3.373533778140507,
          0.1634475577268132,
          0.8450293306882188,
          0.5422462203135963,
          2.920140674960709,
          1.469989793849505,
          2.022009990043532,
          0.2971426733340782,
          2.505207542294234,
          0.7471615015339617,
          0.958701233019545,
          2.452043327761439,
          3.207014654047457,
          0,
          0.8556408393341008,
          0.508673955857289,
          1.457216543141756,
          5.923768918606704,
          0.1148128375890785,
          1.907225120837339,
          1.618243295759351,
          1.031085206703575,
          1.532108658061197,
          2.350539042824707,
          1.083032590337149,
          1.442478993706538,
          0.5034827386804979,
          2.112628785695002,
          3.584549644647479,
          3.619250206291017,
          0.06344069645154993,
          0.01651841461385162,
          0.02685400622112422,
          4.475495280450124,
          2.316869698483552,
          2.015968425920143,
          0.1333010431006487,
          1.966881596242339,
          0.8211017291501245,
          5.103880664966981,
          2.909729385677572,
          0.5188718696254273,
          2.111593174135725,
          2.409317130101548,
          2.4660560876386,
          1.276119492964367,
          1.850685304030039,
          0.3336083618777841,
          4,
          2.064723825620989,
          0.6002589435813797,
          0.1327987869191674,
          2.199435136956391,
          1.887853070461858,
          1.52114415033964,
          0.4701258767435744,
          3.371884757481724,
          0,
          0.2703888921820745,
          3.302910755418861,
          2.495351455080786,
          2.999377771557643,
          2.605183532482581,
          1.993747835600706,
          1.260095926435684,
          0.2116217108774527,
          3.668443080924614,
          1.676369135700805,
          0.5914583967894791,
          0.2218019141596537,
          0.8924469122391705,
          0.4896338808432033
         ],
         "xaxis": "x2",
         "y": [
          402.4511529677691,
          323.7644531277405,
          214.6029495764024,
          470.6834982166059,
          232.4650597743426,
          449.7400300571763,
          321.6334451458745,
          544.7654989463099,
          452.2500351158192,
          408.8354621535354,
          679.6463698791639,
          483.9135737177268,
          329.1042078916443,
          359.7584130051473,
          null,
          495.0573202117053,
          397.069404737954,
          364.5183351436086,
          238.7301990914588,
          482.8187506070931,
          502.0205753243832,
          232.1361427136796,
          211.0271048683043,
          329.3242243041681,
          454.0498877832058,
          541.7615669961867,
          465.7357645832739,
          328.286350568291,
          284.4858335688156,
          379.8289600873806,
          597.7546338665225,
          528.0906082325901,
          311.2741670059557,
          291.5557597742725,
          370.1308417169556,
          511.2928503876392,
          513.2896702256193,
          596.7911483621945,
          481.0255219513786,
          408.8776213767791,
          431.7097234290091,
          553.4534280305895,
          211.0232722704725,
          502.3563826717788,
          614.2071264021497,
          491.8653075361397,
          330.7835109785664,
          492.3269916084182,
          506.0181782301323,
          500,
          469.321904020084,
          473.3547014609707,
          359.6565727473837,
          344.4276463525278,
          504.0119251455563,
          436.7741061912119,
          380.0139180224051,
          420.1984445486207,
          350,
          497.813705333795,
          312.3886237073972,
          572.1859917759612,
          254.3242304905618,
          407.8327726743042,
          490.141728914396,
          383.5176482165363,
          562.5107693123698,
          584.8747165763995,
          545.3273701701705,
          665.8751485242802,
          423.2732578944647,
          320.567304299078,
          688.5611812313155
         ],
         "yaxis": "y2"
        },
        {
         "hoverinfo": "all",
         "line": {
          "color": "#11ffAA"
         },
         "mode": "markers",
         "type": "scatter",
         "x": [
          0,
          0,
          0,
          0,
          0,
          0,
          0,
          0,
          0,
          0,
          0,
          0,
          0,
          0,
          0,
          0,
          0,
          0,
          0
         ],
         "xaxis": "x2",
         "y": [
          null,
          null,
          null,
          null,
          null,
          null,
          null,
          null,
          null,
          null,
          null,
          null,
          null,
          null,
          null,
          null,
          null,
          null,
          null
         ],
         "yaxis": "y2"
        },
        {
         "hoverinfo": "all",
         "line": {
          "color": "#0000ff"
         },
         "mode": "markers",
         "type": "scatter",
         "x": [
          8,
          7,
          6,
          7,
          11,
          7,
          9,
          7,
          6,
          11,
          6,
          6,
          12,
          6,
          6,
          9,
          6,
          9,
          7,
          6,
          13,
          7,
          7,
          8,
          6,
          10,
          6,
          7,
          6,
          6,
          6,
          7,
          6,
          11,
          6,
          7,
          7,
          11,
          7,
          7,
          7,
          12,
          6,
          6,
          7,
          7,
          10,
          6,
          6,
          7,
          7,
          8,
          7,
          6,
          6,
          12,
          8,
          7,
          6,
          10,
          8,
          6,
          6,
          6,
          7,
          6,
          6,
          7,
          6,
          9,
          7,
          7,
          7,
          6,
          7,
          7,
          7,
          6,
          7,
          6,
          7,
          6,
          8,
          6,
          7,
          7,
          13,
          7,
          9,
          7,
          8,
          7,
          7,
          13,
          6,
          12,
          7,
          6,
          7,
          12,
          6,
          7,
          6,
          6,
          6,
          6,
          7,
          6,
          7,
          7,
          7,
          6,
          7,
          11,
          7,
          8,
          11,
          7,
          6,
          13,
          6,
          7,
          11,
          9,
          6,
          7,
          12,
          7,
          7,
          6,
          6,
          6,
          7,
          12,
          7,
          6,
          7,
          7,
          7,
          7,
          7,
          12,
          7,
          8,
          7,
          11,
          13,
          8,
          12,
          7,
          7,
          6,
          8,
          12,
          7,
          7,
          7,
          7,
          8,
          7,
          6,
          6,
          7,
          6,
          7,
          6,
          6
         ],
         "xaxis": "x3",
         "y": [
          null,
          1000,
          200,
          null,
          null,
          200,
          900,
          500,
          1000,
          500,
          500,
          600,
          500,
          500,
          200,
          null,
          null,
          3200,
          300,
          200,
          1700,
          200,
          200,
          200,
          500,
          500,
          500,
          200,
          500,
          700,
          600,
          300,
          600,
          1200,
          400,
          500,
          300,
          null,
          500,
          1000,
          1600,
          200,
          500,
          500,
          500,
          800,
          1800,
          600,
          200,
          null,
          300,
          22,
          500,
          null,
          300,
          500,
          null,
          500,
          1100,
          400,
          null,
          250,
          1300,
          500,
          1000,
          800,
          300,
          null,
          300,
          200,
          300,
          500,
          1200,
          200,
          200,
          600,
          2000,
          300,
          300,
          null,
          null,
          null,
          30,
          800,
          1000,
          null,
          500,
          300,
          1000,
          0,
          200,
          700,
          200,
          800,
          200,
          null,
          null,
          850,
          null,
          1200,
          1000,
          200,
          200,
          500,
          200,
          500,
          200,
          null,
          500,
          2500,
          null,
          1000,
          100,
          null,
          200,
          200,
          300,
          300,
          300,
          3000,
          400,
          500,
          null,
          200,
          800,
          300,
          500,
          500,
          300,
          500,
          600,
          400,
          500,
          1500,
          400,
          200,
          null,
          null,
          2500,
          200,
          700,
          null,
          null,
          100,
          200,
          1000,
          1700,
          null,
          1000,
          250,
          500,
          1700,
          null,
          700,
          600,
          null,
          null,
          300,
          null,
          600,
          700,
          1000,
          null,
          500,
          600,
          1100,
          null
         ],
         "yaxis": "y3"
        },
        {
         "hoverinfo": "all",
         "line": {
          "color": "#AA00ff"
         },
         "mode": "markers",
         "type": "scatter",
         "x": [
          10,
          8,
          10,
          8,
          9,
          7,
          10,
          9,
          9,
          11,
          9,
          10,
          9,
          11,
          12,
          10,
          9,
          9,
          11,
          9,
          11,
          11,
          11,
          8,
          11,
          10,
          8,
          9,
          9,
          11,
          8,
          10,
          10,
          9,
          8,
          9,
          10,
          8,
          11,
          8,
          7,
          9,
          9,
          9,
          10,
          9,
          11,
          8,
          9,
          7,
          8,
          8,
          10,
          9,
          11,
          9,
          8,
          8,
          12,
          9,
          12,
          10,
          10,
          11,
          9,
          9,
          9,
          10,
          7,
          9,
          9,
          10,
          8
         ],
         "xaxis": "x3",
         "y": [
          402.4511529677691,
          323.7644531277405,
          214.6029495764024,
          470.6834982166059,
          232.4650597743426,
          449.7400300571763,
          321.6334451458745,
          544.7654989463099,
          452.2500351158192,
          408.8354621535354,
          679.6463698791639,
          483.9135737177268,
          329.1042078916443,
          359.7584130051473,
          null,
          495.0573202117053,
          397.069404737954,
          364.5183351436086,
          238.7301990914588,
          482.8187506070931,
          502.0205753243832,
          232.1361427136796,
          211.0271048683043,
          329.3242243041681,
          454.0498877832058,
          541.7615669961867,
          465.7357645832739,
          328.286350568291,
          284.4858335688156,
          379.8289600873806,
          597.7546338665225,
          528.0906082325901,
          311.2741670059557,
          291.5557597742725,
          370.1308417169556,
          511.2928503876392,
          513.2896702256193,
          596.7911483621945,
          481.0255219513786,
          408.8776213767791,
          431.7097234290091,
          553.4534280305895,
          211.0232722704725,
          502.3563826717788,
          614.2071264021497,
          491.8653075361397,
          330.7835109785664,
          492.3269916084182,
          506.0181782301323,
          500,
          469.321904020084,
          473.3547014609707,
          359.6565727473837,
          344.4276463525278,
          504.0119251455563,
          436.7741061912119,
          380.0139180224051,
          420.1984445486207,
          350,
          497.813705333795,
          312.3886237073972,
          572.1859917759612,
          254.3242304905618,
          407.8327726743042,
          490.141728914396,
          383.5176482165363,
          562.5107693123698,
          584.8747165763995,
          545.3273701701705,
          665.8751485242802,
          423.2732578944647,
          320.567304299078,
          688.5611812313155
         ],
         "yaxis": "y3"
        },
        {
         "hoverinfo": "all",
         "line": {
          "color": "#11ffAA"
         },
         "mode": "markers",
         "type": "scatter",
         "x": [
          6,
          6,
          6,
          6,
          6,
          6,
          6,
          6,
          6,
          6,
          6,
          6,
          6,
          6,
          6,
          6,
          6,
          6,
          6
         ],
         "xaxis": "x3",
         "y": [
          null,
          null,
          null,
          null,
          null,
          null,
          null,
          null,
          null,
          null,
          null,
          null,
          null,
          null,
          null,
          null,
          null,
          null,
          null
         ],
         "yaxis": "y3"
        },
        {
         "hoverinfo": "all",
         "line": {
          "color": "#0000ff"
         },
         "mode": "markers",
         "type": "scatter",
         "x": [
          3,
          2,
          1,
          2,
          1,
          2,
          3,
          2,
          3,
          2,
          3,
          3,
          2,
          1,
          1,
          2,
          3,
          2,
          2,
          3,
          2,
          3,
          3,
          2,
          3,
          2,
          3,
          2,
          3,
          1,
          3,
          2,
          1,
          3,
          3,
          2,
          2,
          3,
          2,
          2,
          2,
          3,
          3,
          1,
          2,
          2,
          1,
          1,
          3,
          1,
          3,
          2,
          3,
          1,
          1,
          1,
          3,
          1,
          3,
          3,
          3,
          1,
          3,
          3,
          3,
          3,
          3,
          1,
          1,
          2,
          2,
          3,
          2,
          3,
          2,
          3,
          2,
          1,
          1,
          3,
          3,
          3,
          2,
          3,
          2,
          2,
          2,
          2,
          2,
          2,
          2,
          2,
          2,
          2,
          1,
          1,
          2,
          3,
          2,
          3,
          1,
          3,
          1,
          3,
          1,
          3,
          2,
          3,
          3,
          2,
          2,
          1,
          1,
          3,
          3,
          2,
          2,
          2,
          3,
          2,
          3,
          2,
          1,
          2,
          1,
          1,
          1,
          3,
          3,
          1,
          1,
          3,
          3,
          3,
          2,
          3,
          2,
          2,
          2,
          2,
          2,
          3,
          2,
          2,
          2,
          2,
          2,
          1,
          3,
          3,
          3,
          3,
          1,
          1,
          2,
          2,
          2,
          2,
          3,
          2,
          1,
          3,
          3,
          1,
          2,
          1,
          3
         ],
         "xaxis": "x4",
         "y": [
          0,
          8,
          0,
          0,
          0,
          0,
          0,
          0,
          0,
          0,
          0,
          0,
          0,
          0,
          0,
          0,
          0,
          0,
          0,
          0,
          0,
          0,
          8,
          0,
          0,
          0,
          8,
          0,
          0,
          0,
          0,
          0,
          0,
          0,
          0,
          0,
          0,
          0,
          0,
          0,
          0,
          4,
          0,
          0,
          0,
          2.3,
          0,
          3,
          0,
          0,
          0,
          0,
          0,
          0,
          0,
          0,
          0,
          0,
          5,
          0,
          0,
          0,
          0,
          0,
          0,
          0,
          0,
          0,
          0,
          0,
          0,
          0,
          0,
          0,
          0,
          0,
          0,
          0,
          5,
          0,
          0,
          0,
          0,
          0,
          0,
          0,
          0,
          0,
          0,
          0,
          0,
          0,
          0,
          0,
          0,
          0,
          0,
          0,
          0,
          0,
          6,
          0,
          0,
          0,
          0,
          0,
          0,
          2,
          0,
          0,
          0,
          0,
          0,
          0,
          0,
          7,
          0,
          0,
          8,
          0,
          0,
          0,
          0,
          0,
          0,
          0,
          0,
          0,
          0,
          8,
          0,
          0,
          8,
          0,
          0,
          0,
          0,
          0,
          0,
          0,
          0,
          0,
          0,
          0,
          0,
          0,
          4,
          0,
          9,
          0,
          0,
          0,
          0,
          0,
          0,
          0,
          2,
          0,
          0,
          8,
          0,
          0,
          0,
          8,
          0,
          0,
          0
         ],
         "yaxis": "y4"
        },
        {
         "hoverinfo": "all",
         "line": {
          "color": "#AA00ff"
         },
         "mode": "markers",
         "type": "scatter",
         "x": [
          3,
          3,
          3,
          3,
          3,
          3,
          3,
          3,
          3,
          3,
          3,
          3,
          3,
          3,
          3,
          3,
          3,
          3,
          3,
          3,
          3,
          3,
          3,
          3,
          3,
          3,
          3,
          3,
          3,
          3,
          3,
          3,
          3,
          3,
          3,
          3,
          3,
          3,
          3,
          3,
          3,
          3,
          3,
          3,
          3,
          3,
          3,
          3,
          3,
          3,
          3,
          3,
          3,
          3,
          3,
          3,
          3,
          3,
          3,
          3,
          3,
          3,
          3,
          3,
          3,
          3,
          3,
          3,
          3,
          3,
          3,
          3,
          3
         ],
         "xaxis": "x4",
         "y": [
          2.844125343927511,
          3.373533778140507,
          0.1634475577268132,
          0.8450293306882188,
          0.5422462203135963,
          2.920140674960709,
          1.469989793849505,
          2.022009990043532,
          0.2971426733340782,
          2.505207542294234,
          0.7471615015339617,
          0.958701233019545,
          2.452043327761439,
          3.207014654047457,
          0,
          0.8556408393341008,
          0.508673955857289,
          1.457216543141756,
          5.923768918606704,
          0.1148128375890785,
          1.907225120837339,
          1.618243295759351,
          1.031085206703575,
          1.532108658061197,
          2.350539042824707,
          1.083032590337149,
          1.442478993706538,
          0.5034827386804979,
          2.112628785695002,
          3.584549644647479,
          3.619250206291017,
          0.06344069645154993,
          0.01651841461385162,
          0.02685400622112422,
          4.475495280450124,
          2.316869698483552,
          2.015968425920143,
          0.1333010431006487,
          1.966881596242339,
          0.8211017291501245,
          5.103880664966981,
          2.909729385677572,
          0.5188718696254273,
          2.111593174135725,
          2.409317130101548,
          2.4660560876386,
          1.276119492964367,
          1.850685304030039,
          0.3336083618777841,
          4,
          2.064723825620989,
          0.6002589435813797,
          0.1327987869191674,
          2.199435136956391,
          1.887853070461858,
          1.52114415033964,
          0.4701258767435744,
          3.371884757481724,
          0,
          0.2703888921820745,
          3.302910755418861,
          2.495351455080786,
          2.999377771557643,
          2.605183532482581,
          1.993747835600706,
          1.260095926435684,
          0.2116217108774527,
          3.668443080924614,
          1.676369135700805,
          0.5914583967894791,
          0.2218019141596537,
          0.8924469122391705,
          0.4896338808432033
         ],
         "yaxis": "y4"
        },
        {
         "hoverinfo": "all",
         "line": {
          "color": "#11ffAA"
         },
         "mode": "markers",
         "type": "scatter",
         "x": [
          1,
          1,
          1,
          1,
          1,
          1,
          1,
          1,
          1,
          1,
          1,
          1,
          1,
          1,
          1,
          1,
          1,
          1,
          1
         ],
         "xaxis": "x4",
         "y": [
          0,
          0,
          0,
          0,
          0,
          0,
          0,
          0,
          0,
          0,
          0,
          0,
          0,
          0,
          0,
          0,
          0,
          0,
          0
         ],
         "yaxis": "y4"
        },
        {
         "hoverinfo": "all",
         "line": {
          "color": "#0000ff"
         },
         "mode": "markers",
         "type": "scatter",
         "x": [
          3,
          2,
          1,
          2,
          1,
          2,
          3,
          2,
          3,
          2,
          3,
          3,
          2,
          1,
          1,
          2,
          3,
          2,
          2,
          3,
          2,
          3,
          3,
          2,
          3,
          2,
          3,
          2,
          3,
          1,
          3,
          2,
          1,
          3,
          3,
          2,
          2,
          3,
          2,
          2,
          2,
          3,
          3,
          1,
          2,
          2,
          1,
          1,
          3,
          1,
          3,
          2,
          3,
          1,
          1,
          1,
          3,
          1,
          3,
          3,
          3,
          1,
          3,
          3,
          3,
          3,
          3,
          1,
          1,
          2,
          2,
          3,
          2,
          3,
          2,
          3,
          2,
          1,
          1,
          3,
          3,
          3,
          2,
          3,
          2,
          2,
          2,
          2,
          2,
          2,
          2,
          2,
          2,
          2,
          1,
          1,
          2,
          3,
          2,
          3,
          1,
          3,
          1,
          3,
          1,
          3,
          2,
          3,
          3,
          2,
          2,
          1,
          1,
          3,
          3,
          2,
          2,
          2,
          3,
          2,
          3,
          2,
          1,
          2,
          1,
          1,
          1,
          3,
          3,
          1,
          1,
          3,
          3,
          3,
          2,
          3,
          2,
          2,
          2,
          2,
          2,
          3,
          2,
          2,
          2,
          2,
          2,
          1,
          3,
          3,
          3,
          3,
          1,
          1,
          2,
          2,
          2,
          2,
          3,
          2,
          1,
          3,
          3,
          1,
          2,
          1,
          3
         ],
         "xaxis": "x5",
         "y": [
          8,
          7,
          6,
          7,
          11,
          7,
          9,
          7,
          6,
          11,
          6,
          6,
          12,
          6,
          6,
          9,
          6,
          9,
          7,
          6,
          13,
          7,
          7,
          8,
          6,
          10,
          6,
          7,
          6,
          6,
          6,
          7,
          6,
          11,
          6,
          7,
          7,
          11,
          7,
          7,
          7,
          12,
          6,
          6,
          7,
          7,
          10,
          6,
          6,
          7,
          7,
          8,
          7,
          6,
          6,
          12,
          8,
          7,
          6,
          10,
          8,
          6,
          6,
          6,
          7,
          6,
          6,
          7,
          6,
          9,
          7,
          7,
          7,
          6,
          7,
          7,
          7,
          6,
          7,
          6,
          7,
          6,
          8,
          6,
          7,
          7,
          13,
          7,
          9,
          7,
          8,
          7,
          7,
          13,
          6,
          12,
          7,
          6,
          7,
          12,
          6,
          7,
          6,
          6,
          6,
          6,
          7,
          6,
          7,
          7,
          7,
          6,
          7,
          11,
          7,
          8,
          11,
          7,
          6,
          13,
          6,
          7,
          11,
          9,
          6,
          7,
          12,
          7,
          7,
          6,
          6,
          6,
          7,
          12,
          7,
          6,
          7,
          7,
          7,
          7,
          7,
          12,
          7,
          8,
          7,
          11,
          13,
          8,
          12,
          7,
          7,
          6,
          8,
          12,
          7,
          7,
          7,
          7,
          8,
          7,
          6,
          6,
          7,
          6,
          7,
          6,
          6
         ],
         "yaxis": "y5"
        },
        {
         "hoverinfo": "all",
         "line": {
          "color": "#AA00ff"
         },
         "mode": "markers",
         "type": "scatter",
         "x": [
          3,
          3,
          3,
          3,
          3,
          3,
          3,
          3,
          3,
          3,
          3,
          3,
          3,
          3,
          3,
          3,
          3,
          3,
          3,
          3,
          3,
          3,
          3,
          3,
          3,
          3,
          3,
          3,
          3,
          3,
          3,
          3,
          3,
          3,
          3,
          3,
          3,
          3,
          3,
          3,
          3,
          3,
          3,
          3,
          3,
          3,
          3,
          3,
          3,
          3,
          3,
          3,
          3,
          3,
          3,
          3,
          3,
          3,
          3,
          3,
          3,
          3,
          3,
          3,
          3,
          3,
          3,
          3,
          3,
          3,
          3,
          3,
          3
         ],
         "xaxis": "x5",
         "y": [
          10,
          8,
          10,
          8,
          9,
          7,
          10,
          9,
          9,
          11,
          9,
          10,
          9,
          11,
          12,
          10,
          9,
          9,
          11,
          9,
          11,
          11,
          11,
          8,
          11,
          10,
          8,
          9,
          9,
          11,
          8,
          10,
          10,
          9,
          8,
          9,
          10,
          8,
          11,
          8,
          7,
          9,
          9,
          9,
          10,
          9,
          11,
          8,
          9,
          7,
          8,
          8,
          10,
          9,
          11,
          9,
          8,
          8,
          12,
          9,
          12,
          10,
          10,
          11,
          9,
          9,
          9,
          10,
          7,
          9,
          9,
          10,
          8
         ],
         "yaxis": "y5"
        },
        {
         "hoverinfo": "all",
         "line": {
          "color": "#11ffAA"
         },
         "mode": "markers",
         "type": "scatter",
         "x": [
          1,
          1,
          1,
          1,
          1,
          1,
          1,
          1,
          1,
          1,
          1,
          1,
          1,
          1,
          1,
          1,
          1,
          1,
          1
         ],
         "xaxis": "x5",
         "y": [
          6,
          6,
          6,
          6,
          6,
          6,
          6,
          6,
          6,
          6,
          6,
          6,
          6,
          6,
          6,
          6,
          6,
          6,
          6
         ],
         "yaxis": "y5"
        },
        {
         "hoverinfo": "all",
         "line": {
          "color": "#0000ff"
         },
         "mode": "markers",
         "type": "scatter",
         "x": [
          3,
          2,
          1,
          2,
          1,
          2,
          3,
          2,
          3,
          2,
          3,
          3,
          2,
          1,
          1,
          2,
          3,
          2,
          2,
          3,
          2,
          3,
          3,
          2,
          3,
          2,
          3,
          2,
          3,
          1,
          3,
          2,
          1,
          3,
          3,
          2,
          2,
          3,
          2,
          2,
          2,
          3,
          3,
          1,
          2,
          2,
          1,
          1,
          3,
          1,
          3,
          2,
          3,
          1,
          1,
          1,
          3,
          1,
          3,
          3,
          3,
          1,
          3,
          3,
          3,
          3,
          3,
          1,
          1,
          2,
          2,
          3,
          2,
          3,
          2,
          3,
          2,
          1,
          1,
          3,
          3,
          3,
          2,
          3,
          2,
          2,
          2,
          2,
          2,
          2,
          2,
          2,
          2,
          2,
          1,
          1,
          2,
          3,
          2,
          3,
          1,
          3,
          1,
          3,
          1,
          3,
          2,
          3,
          3,
          2,
          2,
          1,
          1,
          3,
          3,
          2,
          2,
          2,
          3,
          2,
          3,
          2,
          1,
          2,
          1,
          1,
          1,
          3,
          3,
          1,
          1,
          3,
          3,
          3,
          2,
          3,
          2,
          2,
          2,
          2,
          2,
          3,
          2,
          2,
          2,
          2,
          2,
          1,
          3,
          3,
          3,
          3,
          1,
          1,
          2,
          2,
          2,
          2,
          3,
          2,
          1,
          3,
          3,
          1,
          2,
          1,
          3
         ],
         "xaxis": "x6",
         "y": [
          null,
          1000,
          200,
          null,
          null,
          200,
          900,
          500,
          1000,
          500,
          500,
          600,
          500,
          500,
          200,
          null,
          null,
          3200,
          300,
          200,
          1700,
          200,
          200,
          200,
          500,
          500,
          500,
          200,
          500,
          700,
          600,
          300,
          600,
          1200,
          400,
          500,
          300,
          null,
          500,
          1000,
          1600,
          200,
          500,
          500,
          500,
          800,
          1800,
          600,
          200,
          null,
          300,
          22,
          500,
          null,
          300,
          500,
          null,
          500,
          1100,
          400,
          null,
          250,
          1300,
          500,
          1000,
          800,
          300,
          null,
          300,
          200,
          300,
          500,
          1200,
          200,
          200,
          600,
          2000,
          300,
          300,
          null,
          null,
          null,
          30,
          800,
          1000,
          null,
          500,
          300,
          1000,
          0,
          200,
          700,
          200,
          800,
          200,
          null,
          null,
          850,
          null,
          1200,
          1000,
          200,
          200,
          500,
          200,
          500,
          200,
          null,
          500,
          2500,
          null,
          1000,
          100,
          null,
          200,
          200,
          300,
          300,
          300,
          3000,
          400,
          500,
          null,
          200,
          800,
          300,
          500,
          500,
          300,
          500,
          600,
          400,
          500,
          1500,
          400,
          200,
          null,
          null,
          2500,
          200,
          700,
          null,
          null,
          100,
          200,
          1000,
          1700,
          null,
          1000,
          250,
          500,
          1700,
          null,
          700,
          600,
          null,
          null,
          300,
          null,
          600,
          700,
          1000,
          null,
          500,
          600,
          1100,
          null
         ],
         "yaxis": "y6"
        },
        {
         "hoverinfo": "all",
         "line": {
          "color": "#AA00ff"
         },
         "mode": "markers",
         "type": "scatter",
         "x": [
          3,
          3,
          3,
          3,
          3,
          3,
          3,
          3,
          3,
          3,
          3,
          3,
          3,
          3,
          3,
          3,
          3,
          3,
          3,
          3,
          3,
          3,
          3,
          3,
          3,
          3,
          3,
          3,
          3,
          3,
          3,
          3,
          3,
          3,
          3,
          3,
          3,
          3,
          3,
          3,
          3,
          3,
          3,
          3,
          3,
          3,
          3,
          3,
          3,
          3,
          3,
          3,
          3,
          3,
          3,
          3,
          3,
          3,
          3,
          3,
          3,
          3,
          3,
          3,
          3,
          3,
          3,
          3,
          3,
          3,
          3,
          3,
          3
         ],
         "xaxis": "x6",
         "y": [
          402.4511529677691,
          323.7644531277405,
          214.6029495764024,
          470.6834982166059,
          232.4650597743426,
          449.7400300571763,
          321.6334451458745,
          544.7654989463099,
          452.2500351158192,
          408.8354621535354,
          679.6463698791639,
          483.9135737177268,
          329.1042078916443,
          359.7584130051473,
          null,
          495.0573202117053,
          397.069404737954,
          364.5183351436086,
          238.7301990914588,
          482.8187506070931,
          502.0205753243832,
          232.1361427136796,
          211.0271048683043,
          329.3242243041681,
          454.0498877832058,
          541.7615669961867,
          465.7357645832739,
          328.286350568291,
          284.4858335688156,
          379.8289600873806,
          597.7546338665225,
          528.0906082325901,
          311.2741670059557,
          291.5557597742725,
          370.1308417169556,
          511.2928503876392,
          513.2896702256193,
          596.7911483621945,
          481.0255219513786,
          408.8776213767791,
          431.7097234290091,
          553.4534280305895,
          211.0232722704725,
          502.3563826717788,
          614.2071264021497,
          491.8653075361397,
          330.7835109785664,
          492.3269916084182,
          506.0181782301323,
          500,
          469.321904020084,
          473.3547014609707,
          359.6565727473837,
          344.4276463525278,
          504.0119251455563,
          436.7741061912119,
          380.0139180224051,
          420.1984445486207,
          350,
          497.813705333795,
          312.3886237073972,
          572.1859917759612,
          254.3242304905618,
          407.8327726743042,
          490.141728914396,
          383.5176482165363,
          562.5107693123698,
          584.8747165763995,
          545.3273701701705,
          665.8751485242802,
          423.2732578944647,
          320.567304299078,
          688.5611812313155
         ],
         "yaxis": "y6"
        },
        {
         "hoverinfo": "all",
         "line": {
          "color": "#11ffAA"
         },
         "mode": "markers",
         "type": "scatter",
         "x": [
          1,
          1,
          1,
          1,
          1,
          1,
          1,
          1,
          1,
          1,
          1,
          1,
          1,
          1,
          1,
          1,
          1,
          1,
          1
         ],
         "xaxis": "x6",
         "y": [
          null,
          null,
          null,
          null,
          null,
          null,
          null,
          null,
          null,
          null,
          null,
          null,
          null,
          null,
          null,
          null,
          null,
          null,
          null
         ],
         "yaxis": "y6"
        },
        {
         "hoverinfo": "all",
         "line": {
          "color": "#0000ff"
         },
         "mode": "markers",
         "type": "scatter",
         "x": [
          0,
          3,
          2,
          0,
          3,
          3,
          3,
          3,
          3,
          2,
          2,
          2,
          3,
          0,
          3,
          1,
          0,
          3,
          2,
          2,
          2,
          3,
          2,
          3,
          3,
          2,
          2,
          3,
          2,
          2,
          0,
          2,
          3,
          3,
          3,
          3,
          3,
          0,
          1,
          1,
          3,
          3,
          0,
          0,
          2,
          2,
          2,
          3,
          2,
          0,
          2,
          0,
          2,
          0,
          0,
          3,
          0,
          0,
          0,
          2,
          0,
          3,
          0,
          1,
          2,
          0,
          2,
          3,
          0,
          1,
          2,
          2,
          2,
          2,
          0,
          2,
          3,
          2,
          3,
          0,
          3,
          0,
          1,
          2,
          3,
          0,
          2,
          3,
          3,
          2,
          1,
          0,
          2,
          2,
          0,
          0,
          3,
          4,
          0,
          3,
          1,
          2,
          3,
          2,
          2,
          3,
          1,
          2,
          2,
          2,
          0,
          2,
          2,
          3,
          1,
          3,
          1,
          2,
          3,
          3,
          2,
          2,
          0,
          0,
          1,
          2,
          3,
          3,
          3,
          2,
          2,
          3,
          4,
          3,
          2,
          0,
          0,
          0,
          1,
          0,
          2,
          3,
          0,
          1,
          2,
          1,
          2,
          3,
          3,
          3,
          1,
          3,
          0,
          3,
          2,
          3,
          0,
          2,
          3,
          2,
          3,
          3,
          0,
          2,
          4,
          4,
          3
         ],
         "xaxis": "x7",
         "y": [
          0,
          8,
          0,
          0,
          0,
          0,
          0,
          0,
          0,
          0,
          0,
          0,
          0,
          0,
          0,
          0,
          0,
          0,
          0,
          0,
          0,
          0,
          8,
          0,
          0,
          0,
          8,
          0,
          0,
          0,
          0,
          0,
          0,
          0,
          0,
          0,
          0,
          0,
          0,
          0,
          0,
          4,
          0,
          0,
          0,
          2.3,
          0,
          3,
          0,
          0,
          0,
          0,
          0,
          0,
          0,
          0,
          0,
          0,
          5,
          0,
          0,
          0,
          0,
          0,
          0,
          0,
          0,
          0,
          0,
          0,
          0,
          0,
          0,
          0,
          0,
          0,
          0,
          0,
          5,
          0,
          0,
          0,
          0,
          0,
          0,
          0,
          0,
          0,
          0,
          0,
          0,
          0,
          0,
          0,
          0,
          0,
          0,
          0,
          0,
          0,
          6,
          0,
          0,
          0,
          0,
          0,
          0,
          2,
          0,
          0,
          0,
          0,
          0,
          0,
          0,
          7,
          0,
          0,
          8,
          0,
          0,
          0,
          0,
          0,
          0,
          0,
          0,
          0,
          0,
          8,
          0,
          0,
          8,
          0,
          0,
          0,
          0,
          0,
          0,
          0,
          0,
          0,
          0,
          0,
          0,
          0,
          4,
          0,
          9,
          0,
          0,
          0,
          0,
          0,
          0,
          0,
          2,
          0,
          0,
          8,
          0,
          0,
          0,
          8,
          0,
          0,
          0
         ],
         "yaxis": "y7"
        },
        {
         "hoverinfo": "all",
         "line": {
          "color": "#AA00ff"
         },
         "mode": "markers",
         "type": "scatter",
         "x": [
          1,
          2,
          2,
          2,
          0,
          0,
          1,
          2,
          1,
          1,
          0,
          1,
          0,
          2,
          0,
          1,
          0,
          0,
          2,
          0,
          2,
          1,
          0,
          1,
          1,
          1,
          2,
          0,
          0,
          1,
          0,
          0,
          0,
          1,
          2,
          1,
          0,
          2,
          0,
          2,
          1,
          1,
          0,
          0,
          0,
          2,
          0,
          0,
          0,
          1,
          0,
          0,
          2,
          0,
          0,
          0,
          1,
          1,
          2,
          2,
          0,
          1,
          1,
          1,
          1,
          1,
          0,
          0,
          2,
          2,
          2,
          0,
          1
         ],
         "xaxis": "x7",
         "y": [
          2.844125343927511,
          3.373533778140507,
          0.1634475577268132,
          0.8450293306882188,
          0.5422462203135963,
          2.920140674960709,
          1.469989793849505,
          2.022009990043532,
          0.2971426733340782,
          2.505207542294234,
          0.7471615015339617,
          0.958701233019545,
          2.452043327761439,
          3.207014654047457,
          0,
          0.8556408393341008,
          0.508673955857289,
          1.457216543141756,
          5.923768918606704,
          0.1148128375890785,
          1.907225120837339,
          1.618243295759351,
          1.031085206703575,
          1.532108658061197,
          2.350539042824707,
          1.083032590337149,
          1.442478993706538,
          0.5034827386804979,
          2.112628785695002,
          3.584549644647479,
          3.619250206291017,
          0.06344069645154993,
          0.01651841461385162,
          0.02685400622112422,
          4.475495280450124,
          2.316869698483552,
          2.015968425920143,
          0.1333010431006487,
          1.966881596242339,
          0.8211017291501245,
          5.103880664966981,
          2.909729385677572,
          0.5188718696254273,
          2.111593174135725,
          2.409317130101548,
          2.4660560876386,
          1.276119492964367,
          1.850685304030039,
          0.3336083618777841,
          4,
          2.064723825620989,
          0.6002589435813797,
          0.1327987869191674,
          2.199435136956391,
          1.887853070461858,
          1.52114415033964,
          0.4701258767435744,
          3.371884757481724,
          0,
          0.2703888921820745,
          3.302910755418861,
          2.495351455080786,
          2.999377771557643,
          2.605183532482581,
          1.993747835600706,
          1.260095926435684,
          0.2116217108774527,
          3.668443080924614,
          1.676369135700805,
          0.5914583967894791,
          0.2218019141596537,
          0.8924469122391705,
          0.4896338808432033
         ],
         "yaxis": "y7"
        },
        {
         "hoverinfo": "all",
         "line": {
          "color": "#11ffAA"
         },
         "mode": "markers",
         "type": "scatter",
         "x": [
          0,
          0,
          0,
          0,
          0,
          0,
          0,
          0,
          0,
          0,
          0,
          0,
          0,
          0,
          0,
          0,
          0,
          0,
          0
         ],
         "xaxis": "x7",
         "y": [
          0,
          0,
          0,
          0,
          0,
          0,
          0,
          0,
          0,
          0,
          0,
          0,
          0,
          0,
          0,
          0,
          0,
          0,
          0
         ],
         "yaxis": "y7"
        },
        {
         "hoverinfo": "all",
         "line": {
          "color": "#0000ff"
         },
         "mode": "markers",
         "type": "scatter",
         "x": [
          0,
          3,
          2,
          0,
          3,
          3,
          3,
          3,
          3,
          2,
          2,
          2,
          3,
          0,
          3,
          1,
          0,
          3,
          2,
          2,
          2,
          3,
          2,
          3,
          3,
          2,
          2,
          3,
          2,
          2,
          0,
          2,
          3,
          3,
          3,
          3,
          3,
          0,
          1,
          1,
          3,
          3,
          0,
          0,
          2,
          2,
          2,
          3,
          2,
          0,
          2,
          0,
          2,
          0,
          0,
          3,
          0,
          0,
          0,
          2,
          0,
          3,
          0,
          1,
          2,
          0,
          2,
          3,
          0,
          1,
          2,
          2,
          2,
          2,
          0,
          2,
          3,
          2,
          3,
          0,
          3,
          0,
          1,
          2,
          3,
          0,
          2,
          3,
          3,
          2,
          1,
          0,
          2,
          2,
          0,
          0,
          3,
          4,
          0,
          3,
          1,
          2,
          3,
          2,
          2,
          3,
          1,
          2,
          2,
          2,
          0,
          2,
          2,
          3,
          1,
          3,
          1,
          2,
          3,
          3,
          2,
          2,
          0,
          0,
          1,
          2,
          3,
          3,
          3,
          2,
          2,
          3,
          4,
          3,
          2,
          0,
          0,
          0,
          1,
          0,
          2,
          3,
          0,
          1,
          2,
          1,
          2,
          3,
          3,
          3,
          1,
          3,
          0,
          3,
          2,
          3,
          0,
          2,
          3,
          2,
          3,
          3,
          0,
          2,
          4,
          4,
          3
         ],
         "xaxis": "x8",
         "y": [
          8,
          7,
          6,
          7,
          11,
          7,
          9,
          7,
          6,
          11,
          6,
          6,
          12,
          6,
          6,
          9,
          6,
          9,
          7,
          6,
          13,
          7,
          7,
          8,
          6,
          10,
          6,
          7,
          6,
          6,
          6,
          7,
          6,
          11,
          6,
          7,
          7,
          11,
          7,
          7,
          7,
          12,
          6,
          6,
          7,
          7,
          10,
          6,
          6,
          7,
          7,
          8,
          7,
          6,
          6,
          12,
          8,
          7,
          6,
          10,
          8,
          6,
          6,
          6,
          7,
          6,
          6,
          7,
          6,
          9,
          7,
          7,
          7,
          6,
          7,
          7,
          7,
          6,
          7,
          6,
          7,
          6,
          8,
          6,
          7,
          7,
          13,
          7,
          9,
          7,
          8,
          7,
          7,
          13,
          6,
          12,
          7,
          6,
          7,
          12,
          6,
          7,
          6,
          6,
          6,
          6,
          7,
          6,
          7,
          7,
          7,
          6,
          7,
          11,
          7,
          8,
          11,
          7,
          6,
          13,
          6,
          7,
          11,
          9,
          6,
          7,
          12,
          7,
          7,
          6,
          6,
          6,
          7,
          12,
          7,
          6,
          7,
          7,
          7,
          7,
          7,
          12,
          7,
          8,
          7,
          11,
          13,
          8,
          12,
          7,
          7,
          6,
          8,
          12,
          7,
          7,
          7,
          7,
          8,
          7,
          6,
          6,
          7,
          6,
          7,
          6,
          6
         ],
         "yaxis": "y8"
        },
        {
         "hoverinfo": "all",
         "line": {
          "color": "#AA00ff"
         },
         "mode": "markers",
         "type": "scatter",
         "x": [
          1,
          2,
          2,
          2,
          0,
          0,
          1,
          2,
          1,
          1,
          0,
          1,
          0,
          2,
          0,
          1,
          0,
          0,
          2,
          0,
          2,
          1,
          0,
          1,
          1,
          1,
          2,
          0,
          0,
          1,
          0,
          0,
          0,
          1,
          2,
          1,
          0,
          2,
          0,
          2,
          1,
          1,
          0,
          0,
          0,
          2,
          0,
          0,
          0,
          1,
          0,
          0,
          2,
          0,
          0,
          0,
          1,
          1,
          2,
          2,
          0,
          1,
          1,
          1,
          1,
          1,
          0,
          0,
          2,
          2,
          2,
          0,
          1
         ],
         "xaxis": "x8",
         "y": [
          10,
          8,
          10,
          8,
          9,
          7,
          10,
          9,
          9,
          11,
          9,
          10,
          9,
          11,
          12,
          10,
          9,
          9,
          11,
          9,
          11,
          11,
          11,
          8,
          11,
          10,
          8,
          9,
          9,
          11,
          8,
          10,
          10,
          9,
          8,
          9,
          10,
          8,
          11,
          8,
          7,
          9,
          9,
          9,
          10,
          9,
          11,
          8,
          9,
          7,
          8,
          8,
          10,
          9,
          11,
          9,
          8,
          8,
          12,
          9,
          12,
          10,
          10,
          11,
          9,
          9,
          9,
          10,
          7,
          9,
          9,
          10,
          8
         ],
         "yaxis": "y8"
        },
        {
         "hoverinfo": "all",
         "line": {
          "color": "#11ffAA"
         },
         "mode": "markers",
         "type": "scatter",
         "x": [
          0,
          0,
          0,
          0,
          0,
          0,
          0,
          0,
          0,
          0,
          0,
          0,
          0,
          0,
          0,
          0,
          0,
          0,
          0
         ],
         "xaxis": "x8",
         "y": [
          6,
          6,
          6,
          6,
          6,
          6,
          6,
          6,
          6,
          6,
          6,
          6,
          6,
          6,
          6,
          6,
          6,
          6,
          6
         ],
         "yaxis": "y8"
        },
        {
         "hoverinfo": "all",
         "line": {
          "color": "#0000ff"
         },
         "mode": "markers",
         "type": "scatter",
         "x": [
          0,
          3,
          2,
          0,
          3,
          3,
          3,
          3,
          3,
          2,
          2,
          2,
          3,
          0,
          3,
          1,
          0,
          3,
          2,
          2,
          2,
          3,
          2,
          3,
          3,
          2,
          2,
          3,
          2,
          2,
          0,
          2,
          3,
          3,
          3,
          3,
          3,
          0,
          1,
          1,
          3,
          3,
          0,
          0,
          2,
          2,
          2,
          3,
          2,
          0,
          2,
          0,
          2,
          0,
          0,
          3,
          0,
          0,
          0,
          2,
          0,
          3,
          0,
          1,
          2,
          0,
          2,
          3,
          0,
          1,
          2,
          2,
          2,
          2,
          0,
          2,
          3,
          2,
          3,
          0,
          3,
          0,
          1,
          2,
          3,
          0,
          2,
          3,
          3,
          2,
          1,
          0,
          2,
          2,
          0,
          0,
          3,
          4,
          0,
          3,
          1,
          2,
          3,
          2,
          2,
          3,
          1,
          2,
          2,
          2,
          0,
          2,
          2,
          3,
          1,
          3,
          1,
          2,
          3,
          3,
          2,
          2,
          0,
          0,
          1,
          2,
          3,
          3,
          3,
          2,
          2,
          3,
          4,
          3,
          2,
          0,
          0,
          0,
          1,
          0,
          2,
          3,
          0,
          1,
          2,
          1,
          2,
          3,
          3,
          3,
          1,
          3,
          0,
          3,
          2,
          3,
          0,
          2,
          3,
          2,
          3,
          3,
          0,
          2,
          4,
          4,
          3
         ],
         "xaxis": "x9",
         "y": [
          null,
          1000,
          200,
          null,
          null,
          200,
          900,
          500,
          1000,
          500,
          500,
          600,
          500,
          500,
          200,
          null,
          null,
          3200,
          300,
          200,
          1700,
          200,
          200,
          200,
          500,
          500,
          500,
          200,
          500,
          700,
          600,
          300,
          600,
          1200,
          400,
          500,
          300,
          null,
          500,
          1000,
          1600,
          200,
          500,
          500,
          500,
          800,
          1800,
          600,
          200,
          null,
          300,
          22,
          500,
          null,
          300,
          500,
          null,
          500,
          1100,
          400,
          null,
          250,
          1300,
          500,
          1000,
          800,
          300,
          null,
          300,
          200,
          300,
          500,
          1200,
          200,
          200,
          600,
          2000,
          300,
          300,
          null,
          null,
          null,
          30,
          800,
          1000,
          null,
          500,
          300,
          1000,
          0,
          200,
          700,
          200,
          800,
          200,
          null,
          null,
          850,
          null,
          1200,
          1000,
          200,
          200,
          500,
          200,
          500,
          200,
          null,
          500,
          2500,
          null,
          1000,
          100,
          null,
          200,
          200,
          300,
          300,
          300,
          3000,
          400,
          500,
          null,
          200,
          800,
          300,
          500,
          500,
          300,
          500,
          600,
          400,
          500,
          1500,
          400,
          200,
          null,
          null,
          2500,
          200,
          700,
          null,
          null,
          100,
          200,
          1000,
          1700,
          null,
          1000,
          250,
          500,
          1700,
          null,
          700,
          600,
          null,
          null,
          300,
          null,
          600,
          700,
          1000,
          null,
          500,
          600,
          1100,
          null
         ],
         "yaxis": "y9"
        },
        {
         "hoverinfo": "all",
         "line": {
          "color": "#AA00ff"
         },
         "mode": "markers",
         "type": "scatter",
         "x": [
          1,
          2,
          2,
          2,
          0,
          0,
          1,
          2,
          1,
          1,
          0,
          1,
          0,
          2,
          0,
          1,
          0,
          0,
          2,
          0,
          2,
          1,
          0,
          1,
          1,
          1,
          2,
          0,
          0,
          1,
          0,
          0,
          0,
          1,
          2,
          1,
          0,
          2,
          0,
          2,
          1,
          1,
          0,
          0,
          0,
          2,
          0,
          0,
          0,
          1,
          0,
          0,
          2,
          0,
          0,
          0,
          1,
          1,
          2,
          2,
          0,
          1,
          1,
          1,
          1,
          1,
          0,
          0,
          2,
          2,
          2,
          0,
          1
         ],
         "xaxis": "x9",
         "y": [
          402.4511529677691,
          323.7644531277405,
          214.6029495764024,
          470.6834982166059,
          232.4650597743426,
          449.7400300571763,
          321.6334451458745,
          544.7654989463099,
          452.2500351158192,
          408.8354621535354,
          679.6463698791639,
          483.9135737177268,
          329.1042078916443,
          359.7584130051473,
          null,
          495.0573202117053,
          397.069404737954,
          364.5183351436086,
          238.7301990914588,
          482.8187506070931,
          502.0205753243832,
          232.1361427136796,
          211.0271048683043,
          329.3242243041681,
          454.0498877832058,
          541.7615669961867,
          465.7357645832739,
          328.286350568291,
          284.4858335688156,
          379.8289600873806,
          597.7546338665225,
          528.0906082325901,
          311.2741670059557,
          291.5557597742725,
          370.1308417169556,
          511.2928503876392,
          513.2896702256193,
          596.7911483621945,
          481.0255219513786,
          408.8776213767791,
          431.7097234290091,
          553.4534280305895,
          211.0232722704725,
          502.3563826717788,
          614.2071264021497,
          491.8653075361397,
          330.7835109785664,
          492.3269916084182,
          506.0181782301323,
          500,
          469.321904020084,
          473.3547014609707,
          359.6565727473837,
          344.4276463525278,
          504.0119251455563,
          436.7741061912119,
          380.0139180224051,
          420.1984445486207,
          350,
          497.813705333795,
          312.3886237073972,
          572.1859917759612,
          254.3242304905618,
          407.8327726743042,
          490.141728914396,
          383.5176482165363,
          562.5107693123698,
          584.8747165763995,
          545.3273701701705,
          665.8751485242802,
          423.2732578944647,
          320.567304299078,
          688.5611812313155
         ],
         "yaxis": "y9"
        },
        {
         "hoverinfo": "all",
         "line": {
          "color": "#11ffAA"
         },
         "mode": "markers",
         "type": "scatter",
         "x": [
          0,
          0,
          0,
          0,
          0,
          0,
          0,
          0,
          0,
          0,
          0,
          0,
          0,
          0,
          0,
          0,
          0,
          0,
          0
         ],
         "xaxis": "x9",
         "y": [
          null,
          null,
          null,
          null,
          null,
          null,
          null,
          null,
          null,
          null,
          null,
          null,
          null,
          null,
          null,
          null,
          null,
          null,
          null
         ],
         "yaxis": "y9"
        },
        {
         "hoverinfo": "all",
         "line": {
          "color": "#0000ff"
         },
         "mode": "markers",
         "type": "scatter",
         "x": [
          0,
          3,
          2,
          0,
          3,
          3,
          3,
          3,
          3,
          2,
          2,
          2,
          3,
          0,
          3,
          1,
          0,
          3,
          2,
          2,
          2,
          3,
          2,
          3,
          3,
          2,
          2,
          3,
          2,
          2,
          0,
          2,
          3,
          3,
          3,
          3,
          3,
          0,
          1,
          1,
          3,
          3,
          0,
          0,
          2,
          2,
          2,
          3,
          2,
          0,
          2,
          0,
          2,
          0,
          0,
          3,
          0,
          0,
          0,
          2,
          0,
          3,
          0,
          1,
          2,
          0,
          2,
          3,
          0,
          1,
          2,
          2,
          2,
          2,
          0,
          2,
          3,
          2,
          3,
          0,
          3,
          0,
          1,
          2,
          3,
          0,
          2,
          3,
          3,
          2,
          1,
          0,
          2,
          2,
          0,
          0,
          3,
          4,
          0,
          3,
          1,
          2,
          3,
          2,
          2,
          3,
          1,
          2,
          2,
          2,
          0,
          2,
          2,
          3,
          1,
          3,
          1,
          2,
          3,
          3,
          2,
          2,
          0,
          0,
          1,
          2,
          3,
          3,
          3,
          2,
          2,
          3,
          4,
          3,
          2,
          0,
          0,
          0,
          1,
          0,
          2,
          3,
          0,
          1,
          2,
          1,
          2,
          3,
          3,
          3,
          1,
          3,
          0,
          3,
          2,
          3,
          0,
          2,
          3,
          2,
          3,
          3,
          0,
          2,
          4,
          4,
          3
         ],
         "xaxis": "x10",
         "y": [
          3,
          2,
          1,
          2,
          1,
          2,
          3,
          2,
          3,
          2,
          3,
          3,
          2,
          1,
          1,
          2,
          3,
          2,
          2,
          3,
          2,
          3,
          3,
          2,
          3,
          2,
          3,
          2,
          3,
          1,
          3,
          2,
          1,
          3,
          3,
          2,
          2,
          3,
          2,
          2,
          2,
          3,
          3,
          1,
          2,
          2,
          1,
          1,
          3,
          1,
          3,
          2,
          3,
          1,
          1,
          1,
          3,
          1,
          3,
          3,
          3,
          1,
          3,
          3,
          3,
          3,
          3,
          1,
          1,
          2,
          2,
          3,
          2,
          3,
          2,
          3,
          2,
          1,
          1,
          3,
          3,
          3,
          2,
          3,
          2,
          2,
          2,
          2,
          2,
          2,
          2,
          2,
          2,
          2,
          1,
          1,
          2,
          3,
          2,
          3,
          1,
          3,
          1,
          3,
          1,
          3,
          2,
          3,
          3,
          2,
          2,
          1,
          1,
          3,
          3,
          2,
          2,
          2,
          3,
          2,
          3,
          2,
          1,
          2,
          1,
          1,
          1,
          3,
          3,
          1,
          1,
          3,
          3,
          3,
          2,
          3,
          2,
          2,
          2,
          2,
          2,
          3,
          2,
          2,
          2,
          2,
          2,
          1,
          3,
          3,
          3,
          3,
          1,
          1,
          2,
          2,
          2,
          2,
          3,
          2,
          1,
          3,
          3,
          1,
          2,
          1,
          3
         ],
         "yaxis": "y10"
        },
        {
         "hoverinfo": "all",
         "line": {
          "color": "#AA00ff"
         },
         "mode": "markers",
         "type": "scatter",
         "x": [
          1,
          2,
          2,
          2,
          0,
          0,
          1,
          2,
          1,
          1,
          0,
          1,
          0,
          2,
          0,
          1,
          0,
          0,
          2,
          0,
          2,
          1,
          0,
          1,
          1,
          1,
          2,
          0,
          0,
          1,
          0,
          0,
          0,
          1,
          2,
          1,
          0,
          2,
          0,
          2,
          1,
          1,
          0,
          0,
          0,
          2,
          0,
          0,
          0,
          1,
          0,
          0,
          2,
          0,
          0,
          0,
          1,
          1,
          2,
          2,
          0,
          1,
          1,
          1,
          1,
          1,
          0,
          0,
          2,
          2,
          2,
          0,
          1
         ],
         "xaxis": "x10",
         "y": [
          3,
          3,
          3,
          3,
          3,
          3,
          3,
          3,
          3,
          3,
          3,
          3,
          3,
          3,
          3,
          3,
          3,
          3,
          3,
          3,
          3,
          3,
          3,
          3,
          3,
          3,
          3,
          3,
          3,
          3,
          3,
          3,
          3,
          3,
          3,
          3,
          3,
          3,
          3,
          3,
          3,
          3,
          3,
          3,
          3,
          3,
          3,
          3,
          3,
          3,
          3,
          3,
          3,
          3,
          3,
          3,
          3,
          3,
          3,
          3,
          3,
          3,
          3,
          3,
          3,
          3,
          3,
          3,
          3,
          3,
          3,
          3,
          3
         ],
         "yaxis": "y10"
        },
        {
         "hoverinfo": "all",
         "line": {
          "color": "#11ffAA"
         },
         "mode": "markers",
         "type": "scatter",
         "x": [
          0,
          0,
          0,
          0,
          0,
          0,
          0,
          0,
          0,
          0,
          0,
          0,
          0,
          0,
          0,
          0,
          0,
          0,
          0
         ],
         "xaxis": "x10",
         "y": [
          1,
          1,
          1,
          1,
          1,
          1,
          1,
          1,
          1,
          1,
          1,
          1,
          1,
          1,
          1,
          1,
          1,
          1,
          1
         ],
         "yaxis": "y10"
        }
       ],
       "layout": {
        "template": {
         "data": {
          "bar": [
           {
            "error_x": {
             "color": "#2a3f5f"
            },
            "error_y": {
             "color": "#2a3f5f"
            },
            "marker": {
             "line": {
              "color": "#E5ECF6",
              "width": 0.5
             },
             "pattern": {
              "fillmode": "overlay",
              "size": 10,
              "solidity": 0.2
             }
            },
            "type": "bar"
           }
          ],
          "barpolar": [
           {
            "marker": {
             "line": {
              "color": "#E5ECF6",
              "width": 0.5
             },
             "pattern": {
              "fillmode": "overlay",
              "size": 10,
              "solidity": 0.2
             }
            },
            "type": "barpolar"
           }
          ],
          "carpet": [
           {
            "aaxis": {
             "endlinecolor": "#2a3f5f",
             "gridcolor": "white",
             "linecolor": "white",
             "minorgridcolor": "white",
             "startlinecolor": "#2a3f5f"
            },
            "baxis": {
             "endlinecolor": "#2a3f5f",
             "gridcolor": "white",
             "linecolor": "white",
             "minorgridcolor": "white",
             "startlinecolor": "#2a3f5f"
            },
            "type": "carpet"
           }
          ],
          "choropleth": [
           {
            "colorbar": {
             "outlinewidth": 0,
             "ticks": ""
            },
            "type": "choropleth"
           }
          ],
          "contour": [
           {
            "colorbar": {
             "outlinewidth": 0,
             "ticks": ""
            },
            "colorscale": [
             [
              0,
              "#0d0887"
             ],
             [
              0.1111111111111111,
              "#46039f"
             ],
             [
              0.2222222222222222,
              "#7201a8"
             ],
             [
              0.3333333333333333,
              "#9c179e"
             ],
             [
              0.4444444444444444,
              "#bd3786"
             ],
             [
              0.5555555555555556,
              "#d8576b"
             ],
             [
              0.6666666666666666,
              "#ed7953"
             ],
             [
              0.7777777777777778,
              "#fb9f3a"
             ],
             [
              0.8888888888888888,
              "#fdca26"
             ],
             [
              1,
              "#f0f921"
             ]
            ],
            "type": "contour"
           }
          ],
          "contourcarpet": [
           {
            "colorbar": {
             "outlinewidth": 0,
             "ticks": ""
            },
            "type": "contourcarpet"
           }
          ],
          "heatmap": [
           {
            "colorbar": {
             "outlinewidth": 0,
             "ticks": ""
            },
            "colorscale": [
             [
              0,
              "#0d0887"
             ],
             [
              0.1111111111111111,
              "#46039f"
             ],
             [
              0.2222222222222222,
              "#7201a8"
             ],
             [
              0.3333333333333333,
              "#9c179e"
             ],
             [
              0.4444444444444444,
              "#bd3786"
             ],
             [
              0.5555555555555556,
              "#d8576b"
             ],
             [
              0.6666666666666666,
              "#ed7953"
             ],
             [
              0.7777777777777778,
              "#fb9f3a"
             ],
             [
              0.8888888888888888,
              "#fdca26"
             ],
             [
              1,
              "#f0f921"
             ]
            ],
            "type": "heatmap"
           }
          ],
          "heatmapgl": [
           {
            "colorbar": {
             "outlinewidth": 0,
             "ticks": ""
            },
            "colorscale": [
             [
              0,
              "#0d0887"
             ],
             [
              0.1111111111111111,
              "#46039f"
             ],
             [
              0.2222222222222222,
              "#7201a8"
             ],
             [
              0.3333333333333333,
              "#9c179e"
             ],
             [
              0.4444444444444444,
              "#bd3786"
             ],
             [
              0.5555555555555556,
              "#d8576b"
             ],
             [
              0.6666666666666666,
              "#ed7953"
             ],
             [
              0.7777777777777778,
              "#fb9f3a"
             ],
             [
              0.8888888888888888,
              "#fdca26"
             ],
             [
              1,
              "#f0f921"
             ]
            ],
            "type": "heatmapgl"
           }
          ],
          "histogram": [
           {
            "marker": {
             "pattern": {
              "fillmode": "overlay",
              "size": 10,
              "solidity": 0.2
             }
            },
            "type": "histogram"
           }
          ],
          "histogram2d": [
           {
            "colorbar": {
             "outlinewidth": 0,
             "ticks": ""
            },
            "colorscale": [
             [
              0,
              "#0d0887"
             ],
             [
              0.1111111111111111,
              "#46039f"
             ],
             [
              0.2222222222222222,
              "#7201a8"
             ],
             [
              0.3333333333333333,
              "#9c179e"
             ],
             [
              0.4444444444444444,
              "#bd3786"
             ],
             [
              0.5555555555555556,
              "#d8576b"
             ],
             [
              0.6666666666666666,
              "#ed7953"
             ],
             [
              0.7777777777777778,
              "#fb9f3a"
             ],
             [
              0.8888888888888888,
              "#fdca26"
             ],
             [
              1,
              "#f0f921"
             ]
            ],
            "type": "histogram2d"
           }
          ],
          "histogram2dcontour": [
           {
            "colorbar": {
             "outlinewidth": 0,
             "ticks": ""
            },
            "colorscale": [
             [
              0,
              "#0d0887"
             ],
             [
              0.1111111111111111,
              "#46039f"
             ],
             [
              0.2222222222222222,
              "#7201a8"
             ],
             [
              0.3333333333333333,
              "#9c179e"
             ],
             [
              0.4444444444444444,
              "#bd3786"
             ],
             [
              0.5555555555555556,
              "#d8576b"
             ],
             [
              0.6666666666666666,
              "#ed7953"
             ],
             [
              0.7777777777777778,
              "#fb9f3a"
             ],
             [
              0.8888888888888888,
              "#fdca26"
             ],
             [
              1,
              "#f0f921"
             ]
            ],
            "type": "histogram2dcontour"
           }
          ],
          "mesh3d": [
           {
            "colorbar": {
             "outlinewidth": 0,
             "ticks": ""
            },
            "type": "mesh3d"
           }
          ],
          "parcoords": [
           {
            "line": {
             "colorbar": {
              "outlinewidth": 0,
              "ticks": ""
             }
            },
            "type": "parcoords"
           }
          ],
          "pie": [
           {
            "automargin": true,
            "type": "pie"
           }
          ],
          "scatter": [
           {
            "marker": {
             "colorbar": {
              "outlinewidth": 0,
              "ticks": ""
             }
            },
            "type": "scatter"
           }
          ],
          "scatter3d": [
           {
            "line": {
             "colorbar": {
              "outlinewidth": 0,
              "ticks": ""
             }
            },
            "marker": {
             "colorbar": {
              "outlinewidth": 0,
              "ticks": ""
             }
            },
            "type": "scatter3d"
           }
          ],
          "scattercarpet": [
           {
            "marker": {
             "colorbar": {
              "outlinewidth": 0,
              "ticks": ""
             }
            },
            "type": "scattercarpet"
           }
          ],
          "scattergeo": [
           {
            "marker": {
             "colorbar": {
              "outlinewidth": 0,
              "ticks": ""
             }
            },
            "type": "scattergeo"
           }
          ],
          "scattergl": [
           {
            "marker": {
             "colorbar": {
              "outlinewidth": 0,
              "ticks": ""
             }
            },
            "type": "scattergl"
           }
          ],
          "scattermapbox": [
           {
            "marker": {
             "colorbar": {
              "outlinewidth": 0,
              "ticks": ""
             }
            },
            "type": "scattermapbox"
           }
          ],
          "scatterpolar": [
           {
            "marker": {
             "colorbar": {
              "outlinewidth": 0,
              "ticks": ""
             }
            },
            "type": "scatterpolar"
           }
          ],
          "scatterpolargl": [
           {
            "marker": {
             "colorbar": {
              "outlinewidth": 0,
              "ticks": ""
             }
            },
            "type": "scatterpolargl"
           }
          ],
          "scatterternary": [
           {
            "marker": {
             "colorbar": {
              "outlinewidth": 0,
              "ticks": ""
             }
            },
            "type": "scatterternary"
           }
          ],
          "surface": [
           {
            "colorbar": {
             "outlinewidth": 0,
             "ticks": ""
            },
            "colorscale": [
             [
              0,
              "#0d0887"
             ],
             [
              0.1111111111111111,
              "#46039f"
             ],
             [
              0.2222222222222222,
              "#7201a8"
             ],
             [
              0.3333333333333333,
              "#9c179e"
             ],
             [
              0.4444444444444444,
              "#bd3786"
             ],
             [
              0.5555555555555556,
              "#d8576b"
             ],
             [
              0.6666666666666666,
              "#ed7953"
             ],
             [
              0.7777777777777778,
              "#fb9f3a"
             ],
             [
              0.8888888888888888,
              "#fdca26"
             ],
             [
              1,
              "#f0f921"
             ]
            ],
            "type": "surface"
           }
          ],
          "table": [
           {
            "cells": {
             "fill": {
              "color": "#EBF0F8"
             },
             "line": {
              "color": "white"
             }
            },
            "header": {
             "fill": {
              "color": "#C8D4E3"
             },
             "line": {
              "color": "white"
             }
            },
            "type": "table"
           }
          ]
         },
         "layout": {
          "annotationdefaults": {
           "arrowcolor": "#2a3f5f",
           "arrowhead": 0,
           "arrowwidth": 1
          },
          "autotypenumbers": "strict",
          "coloraxis": {
           "colorbar": {
            "outlinewidth": 0,
            "ticks": ""
           }
          },
          "colorscale": {
           "diverging": [
            [
             0,
             "#8e0152"
            ],
            [
             0.1,
             "#c51b7d"
            ],
            [
             0.2,
             "#de77ae"
            ],
            [
             0.3,
             "#f1b6da"
            ],
            [
             0.4,
             "#fde0ef"
            ],
            [
             0.5,
             "#f7f7f7"
            ],
            [
             0.6,
             "#e6f5d0"
            ],
            [
             0.7,
             "#b8e186"
            ],
            [
             0.8,
             "#7fbc41"
            ],
            [
             0.9,
             "#4d9221"
            ],
            [
             1,
             "#276419"
            ]
           ],
           "sequential": [
            [
             0,
             "#0d0887"
            ],
            [
             0.1111111111111111,
             "#46039f"
            ],
            [
             0.2222222222222222,
             "#7201a8"
            ],
            [
             0.3333333333333333,
             "#9c179e"
            ],
            [
             0.4444444444444444,
             "#bd3786"
            ],
            [
             0.5555555555555556,
             "#d8576b"
            ],
            [
             0.6666666666666666,
             "#ed7953"
            ],
            [
             0.7777777777777778,
             "#fb9f3a"
            ],
            [
             0.8888888888888888,
             "#fdca26"
            ],
            [
             1,
             "#f0f921"
            ]
           ],
           "sequentialminus": [
            [
             0,
             "#0d0887"
            ],
            [
             0.1111111111111111,
             "#46039f"
            ],
            [
             0.2222222222222222,
             "#7201a8"
            ],
            [
             0.3333333333333333,
             "#9c179e"
            ],
            [
             0.4444444444444444,
             "#bd3786"
            ],
            [
             0.5555555555555556,
             "#d8576b"
            ],
            [
             0.6666666666666666,
             "#ed7953"
            ],
            [
             0.7777777777777778,
             "#fb9f3a"
            ],
            [
             0.8888888888888888,
             "#fdca26"
            ],
            [
             1,
             "#f0f921"
            ]
           ]
          },
          "colorway": [
           "#636efa",
           "#EF553B",
           "#00cc96",
           "#ab63fa",
           "#FFA15A",
           "#19d3f3",
           "#FF6692",
           "#B6E880",
           "#FF97FF",
           "#FECB52"
          ],
          "font": {
           "color": "#2a3f5f"
          },
          "geo": {
           "bgcolor": "white",
           "lakecolor": "white",
           "landcolor": "#E5ECF6",
           "showlakes": true,
           "showland": true,
           "subunitcolor": "white"
          },
          "hoverlabel": {
           "align": "left"
          },
          "hovermode": "closest",
          "mapbox": {
           "style": "light"
          },
          "paper_bgcolor": "white",
          "plot_bgcolor": "#E5ECF6",
          "polar": {
           "angularaxis": {
            "gridcolor": "white",
            "linecolor": "white",
            "ticks": ""
           },
           "bgcolor": "#E5ECF6",
           "radialaxis": {
            "gridcolor": "white",
            "linecolor": "white",
            "ticks": ""
           }
          },
          "scene": {
           "xaxis": {
            "backgroundcolor": "#E5ECF6",
            "gridcolor": "white",
            "gridwidth": 2,
            "linecolor": "white",
            "showbackground": true,
            "ticks": "",
            "zerolinecolor": "white"
           },
           "yaxis": {
            "backgroundcolor": "#E5ECF6",
            "gridcolor": "white",
            "gridwidth": 2,
            "linecolor": "white",
            "showbackground": true,
            "ticks": "",
            "zerolinecolor": "white"
           },
           "zaxis": {
            "backgroundcolor": "#E5ECF6",
            "gridcolor": "white",
            "gridwidth": 2,
            "linecolor": "white",
            "showbackground": true,
            "ticks": "",
            "zerolinecolor": "white"
           }
          },
          "shapedefaults": {
           "line": {
            "color": "#2a3f5f"
           }
          },
          "ternary": {
           "aaxis": {
            "gridcolor": "white",
            "linecolor": "white",
            "ticks": ""
           },
           "baxis": {
            "gridcolor": "white",
            "linecolor": "white",
            "ticks": ""
           },
           "bgcolor": "#E5ECF6",
           "caxis": {
            "gridcolor": "white",
            "linecolor": "white",
            "ticks": ""
           }
          },
          "title": {
           "x": 0.05
          },
          "xaxis": {
           "automargin": true,
           "gridcolor": "white",
           "linecolor": "white",
           "ticks": "",
           "title": {
            "standoff": 15
           },
           "zerolinecolor": "white",
           "zerolinewidth": 2
          },
          "yaxis": {
           "automargin": true,
           "gridcolor": "white",
           "linecolor": "white",
           "ticks": "",
           "title": {
            "standoff": 15
           },
           "zerolinecolor": "white",
           "zerolinewidth": 2
          }
         }
        },
        "xaxis": {
         "anchor": "y",
         "domain": [
          0,
          0.2888888888888889
         ]
        },
        "xaxis10": {
         "anchor": "y10",
         "domain": [
          0,
          0.2888888888888889
         ]
        },
        "xaxis11": {
         "anchor": "y11",
         "domain": [
          0.35555555555555557,
          0.6444444444444445
         ]
        },
        "xaxis12": {
         "anchor": "y12",
         "domain": [
          0.7111111111111111,
          1
         ]
        },
        "xaxis2": {
         "anchor": "y2",
         "domain": [
          0.35555555555555557,
          0.6444444444444445
         ]
        },
        "xaxis3": {
         "anchor": "y3",
         "domain": [
          0.7111111111111111,
          1
         ]
        },
        "xaxis4": {
         "anchor": "y4",
         "domain": [
          0,
          0.2888888888888889
         ]
        },
        "xaxis5": {
         "anchor": "y5",
         "domain": [
          0.35555555555555557,
          0.6444444444444445
         ]
        },
        "xaxis6": {
         "anchor": "y6",
         "domain": [
          0.7111111111111111,
          1
         ]
        },
        "xaxis7": {
         "anchor": "y7",
         "domain": [
          0,
          0.2888888888888889
         ]
        },
        "xaxis8": {
         "anchor": "y8",
         "domain": [
          0.35555555555555557,
          0.6444444444444445
         ]
        },
        "xaxis9": {
         "anchor": "y9",
         "domain": [
          0.7111111111111111,
          1
         ]
        },
        "yaxis": {
         "anchor": "x",
         "domain": [
          0.80625,
          1
         ]
        },
        "yaxis10": {
         "anchor": "x10",
         "domain": [
          0,
          0.19375
         ]
        },
        "yaxis11": {
         "anchor": "x11",
         "domain": [
          0,
          0.19375
         ]
        },
        "yaxis12": {
         "anchor": "x12",
         "domain": [
          0,
          0.19375
         ]
        },
        "yaxis2": {
         "anchor": "x2",
         "domain": [
          0.80625,
          1
         ]
        },
        "yaxis3": {
         "anchor": "x3",
         "domain": [
          0.80625,
          1
         ]
        },
        "yaxis4": {
         "anchor": "x4",
         "domain": [
          0.5375,
          0.73125
         ]
        },
        "yaxis5": {
         "anchor": "x5",
         "domain": [
          0.5375,
          0.73125
         ]
        },
        "yaxis6": {
         "anchor": "x6",
         "domain": [
          0.5375,
          0.73125
         ]
        },
        "yaxis7": {
         "anchor": "x7",
         "domain": [
          0.26875,
          0.4625
         ]
        },
        "yaxis8": {
         "anchor": "x8",
         "domain": [
          0.26875,
          0.4625
         ]
        },
        "yaxis9": {
         "anchor": "x9",
         "domain": [
          0.26875,
          0.4625
         ]
        }
       }
      },
      "text/html": [
       "<div>                            <div id=\"9ce8560a-9579-46f3-8342-1c8ca9e1d1c8\" class=\"plotly-graph-div\" style=\"height:525px; width:100%;\"></div>            <script type=\"text/javascript\">                require([\"plotly\"], function(Plotly) {                    window.PLOTLYENV=window.PLOTLYENV || {};                                    if (document.getElementById(\"9ce8560a-9579-46f3-8342-1c8ca9e1d1c8\")) {                    Plotly.newPlot(                        \"9ce8560a-9579-46f3-8342-1c8ca9e1d1c8\",                        [{\"line\":{\"color\":\"#0000ff\"},\"mode\":\"markers\",\"name\":\"\\u0416\\u0438\\u0432\",\"x\":[0.0,8.0,0.0,0.0,0.0,0.0,0.0,0.0,0.0,0.0,0.0,0.0,0.0,0.0,0.0,0.0,0.0,0.0,0.0,0.0,0.0,0.0,8.0,0.0,0.0,0.0,8.0,0.0,0.0,0.0,0.0,0.0,0.0,0.0,0.0,0.0,0.0,0.0,0.0,0.0,0.0,4.0,0.0,0.0,0.0,2.3,0.0,3.0,0.0,0.0,0.0,0.0,0.0,0.0,0.0,0.0,0.0,0.0,5.0,0.0,0.0,0.0,0.0,0.0,0.0,0.0,0.0,0.0,0.0,0.0,0.0,0.0,0.0,0.0,0.0,0.0,0.0,0.0,5.0,0.0,0.0,0.0,0.0,0.0,0.0,0.0,0.0,0.0,0.0,0.0,0.0,0.0,0.0,0.0,0.0,0.0,0.0,0.0,0.0,0.0,6.0,0.0,0.0,0.0,0.0,0.0,0.0,2.0,0.0,0.0,0.0,0.0,0.0,0.0,0.0,7.0,0.0,0.0,8.0,0.0,0.0,0.0,0.0,0.0,0.0,0.0,0.0,0.0,0.0,8.0,0.0,0.0,8.0,0.0,0.0,0.0,0.0,0.0,0.0,0.0,0.0,0.0,0.0,0.0,0.0,0.0,4.0,0.0,9.0,0.0,0.0,0.0,0.0,0.0,0.0,0.0,2.0,0.0,0.0,8.0,0.0,0.0,0.0,8.0,0.0,0.0,0.0],\"y\":[8,7,6,7,11,7,9,7,6,11,6,6,12,6,6,9,6,9,7,6,13,7,7,8,6,10,6,7,6,6,6,7,6,11,6,7,7,11,7,7,7,12,6,6,7,7,10,6,6,7,7,8,7,6,6,12,8,7,6,10,8,6,6,6,7,6,6,7,6,9,7,7,7,6,7,7,7,6,7,6,7,6,8,6,7,7,13,7,9,7,8,7,7,13,6,12,7,6,7,12,6,7,6,6,6,6,7,6,7,7,7,6,7,11,7,8,11,7,6,13,6,7,11,9,6,7,12,7,7,6,6,6,7,12,7,6,7,7,7,7,7,12,7,8,7,11,13,8,12,7,7,6,8,12,7,7,7,7,8,7,6,6,7,6,7,6,6],\"type\":\"scatter\",\"xaxis\":\"x\",\"yaxis\":\"y\",\"hoverinfo\":\"all\"},{\"line\":{\"color\":\"#AA00ff\"},\"mode\":\"markers\",\"name\":\"\\u041c\\u0435\\u0440\\u0442\\u0432\",\"x\":[2.844125343927511,3.373533778140507,0.1634475577268132,0.8450293306882188,0.5422462203135963,2.920140674960709,1.469989793849505,2.022009990043532,0.2971426733340782,2.505207542294234,0.7471615015339617,0.958701233019545,2.452043327761439,3.207014654047457,0.0,0.8556408393341008,0.508673955857289,1.457216543141756,5.923768918606704,0.1148128375890785,1.907225120837339,1.618243295759351,1.031085206703575,1.532108658061197,2.350539042824707,1.083032590337149,1.442478993706538,0.5034827386804979,2.112628785695002,3.584549644647479,3.619250206291017,0.06344069645154993,0.01651841461385162,0.02685400622112422,4.475495280450124,2.316869698483552,2.015968425920143,0.1333010431006487,1.966881596242339,0.8211017291501245,5.103880664966981,2.909729385677572,0.5188718696254273,2.111593174135725,2.409317130101548,2.4660560876386,1.276119492964367,1.850685304030039,0.3336083618777841,4.0,2.064723825620989,0.6002589435813797,0.1327987869191674,2.199435136956391,1.887853070461858,1.52114415033964,0.4701258767435744,3.371884757481724,0.0,0.2703888921820745,3.302910755418861,2.495351455080786,2.999377771557643,2.605183532482581,1.993747835600706,1.260095926435684,0.2116217108774527,3.668443080924614,1.676369135700805,0.5914583967894791,0.2218019141596537,0.8924469122391705,0.4896338808432033],\"y\":[10,8,10,8,9,7,10,9,9,11,9,10,9,11,12,10,9,9,11,9,11,11,11,8,11,10,8,9,9,11,8,10,10,9,8,9,10,8,11,8,7,9,9,9,10,9,11,8,9,7,8,8,10,9,11,9,8,8,12,9,12,10,10,11,9,9,9,10,7,9,9,10,8],\"type\":\"scatter\",\"xaxis\":\"x\",\"yaxis\":\"y\",\"hoverinfo\":\"all\"},{\"line\":{\"color\":\"#11ffAA\"},\"mode\":\"markers\",\"name\":\"\\u0416\\u0438\\u0432 \\u0441 \\u0440\\u0435\\u0446\\u0435\\u0434\\u0438\\u0432\\u043e\\u043c\",\"x\":[0.0,0.0,0.0,0.0,0.0,0.0,0.0,0.0,0.0,0.0,0.0,0.0,0.0,0.0,0.0,0.0,0.0,0.0,0.0],\"y\":[6,6,6,6,6,6,6,6,6,6,6,6,6,6,6,6,6,6,6],\"type\":\"scatter\",\"xaxis\":\"x\",\"yaxis\":\"y\",\"hoverinfo\":\"all\"},{\"line\":{\"color\":\"#0000ff\"},\"mode\":\"markers\",\"x\":[0.0,8.0,0.0,0.0,0.0,0.0,0.0,0.0,0.0,0.0,0.0,0.0,0.0,0.0,0.0,0.0,0.0,0.0,0.0,0.0,0.0,0.0,8.0,0.0,0.0,0.0,8.0,0.0,0.0,0.0,0.0,0.0,0.0,0.0,0.0,0.0,0.0,0.0,0.0,0.0,0.0,4.0,0.0,0.0,0.0,2.3,0.0,3.0,0.0,0.0,0.0,0.0,0.0,0.0,0.0,0.0,0.0,0.0,5.0,0.0,0.0,0.0,0.0,0.0,0.0,0.0,0.0,0.0,0.0,0.0,0.0,0.0,0.0,0.0,0.0,0.0,0.0,0.0,5.0,0.0,0.0,0.0,0.0,0.0,0.0,0.0,0.0,0.0,0.0,0.0,0.0,0.0,0.0,0.0,0.0,0.0,0.0,0.0,0.0,0.0,6.0,0.0,0.0,0.0,0.0,0.0,0.0,2.0,0.0,0.0,0.0,0.0,0.0,0.0,0.0,7.0,0.0,0.0,8.0,0.0,0.0,0.0,0.0,0.0,0.0,0.0,0.0,0.0,0.0,8.0,0.0,0.0,8.0,0.0,0.0,0.0,0.0,0.0,0.0,0.0,0.0,0.0,0.0,0.0,0.0,0.0,4.0,0.0,9.0,0.0,0.0,0.0,0.0,0.0,0.0,0.0,2.0,0.0,0.0,8.0,0.0,0.0,0.0,8.0,0.0,0.0,0.0],\"y\":[null,1000.0,200.0,null,null,200.0,900.0,500.0,1000.0,500.0,500.0,600.0,500.0,500.0,200.0,null,null,3200.0,300.0,200.0,1700.0,200.0,200.0,200.0,500.0,500.0,500.0,200.0,500.0,700.0,600.0,300.0,600.0,1200.0,400.0,500.0,300.0,null,500.0,1000.0,1600.0,200.0,500.0,500.0,500.0,800.0,1800.0,600.0,200.0,null,300.0,22.0,500.0,null,300.0,500.0,null,500.0,1100.0,400.0,null,250.0,1300.0,500.0,1000.0,800.0,300.0,null,300.0,200.0,300.0,500.0,1200.0,200.0,200.0,600.0,2000.0,300.0,300.0,null,null,null,30.0,800.0,1000.0,null,500.0,300.0,1000.0,0.0,200.0,700.0,200.0,800.0,200.0,null,null,850.0,null,1200.0,1000.0,200.0,200.0,500.0,200.0,500.0,200.0,null,500.0,2500.0,null,1000.0,100.0,null,200.0,200.0,300.0,300.0,300.0,3000.0,400.0,500.0,null,200.0,800.0,300.0,500.0,500.0,300.0,500.0,600.0,400.0,500.0,1500.0,400.0,200.0,null,null,2500.0,200.0,700.0,null,null,100.0,200.0,1000.0,1700.0,null,1000.0,250.0,500.0,1700.0,null,700.0,600.0,null,null,300.0,null,600.0,700.0,1000.0,null,500.0,600.0,1100.0,null],\"type\":\"scatter\",\"xaxis\":\"x2\",\"yaxis\":\"y2\",\"hoverinfo\":\"all\"},{\"line\":{\"color\":\"#AA00ff\"},\"mode\":\"markers\",\"x\":[2.844125343927511,3.373533778140507,0.1634475577268132,0.8450293306882188,0.5422462203135963,2.920140674960709,1.469989793849505,2.022009990043532,0.2971426733340782,2.505207542294234,0.7471615015339617,0.958701233019545,2.452043327761439,3.207014654047457,0.0,0.8556408393341008,0.508673955857289,1.457216543141756,5.923768918606704,0.1148128375890785,1.907225120837339,1.618243295759351,1.031085206703575,1.532108658061197,2.350539042824707,1.083032590337149,1.442478993706538,0.5034827386804979,2.112628785695002,3.584549644647479,3.619250206291017,0.06344069645154993,0.01651841461385162,0.02685400622112422,4.475495280450124,2.316869698483552,2.015968425920143,0.1333010431006487,1.966881596242339,0.8211017291501245,5.103880664966981,2.909729385677572,0.5188718696254273,2.111593174135725,2.409317130101548,2.4660560876386,1.276119492964367,1.850685304030039,0.3336083618777841,4.0,2.064723825620989,0.6002589435813797,0.1327987869191674,2.199435136956391,1.887853070461858,1.52114415033964,0.4701258767435744,3.371884757481724,0.0,0.2703888921820745,3.302910755418861,2.495351455080786,2.999377771557643,2.605183532482581,1.993747835600706,1.260095926435684,0.2116217108774527,3.668443080924614,1.676369135700805,0.5914583967894791,0.2218019141596537,0.8924469122391705,0.4896338808432033],\"y\":[402.4511529677691,323.7644531277405,214.6029495764024,470.6834982166059,232.4650597743426,449.7400300571763,321.6334451458745,544.7654989463099,452.2500351158192,408.8354621535354,679.6463698791639,483.9135737177268,329.1042078916443,359.7584130051473,null,495.0573202117053,397.069404737954,364.5183351436086,238.7301990914588,482.8187506070931,502.0205753243832,232.1361427136796,211.0271048683043,329.3242243041681,454.0498877832058,541.7615669961867,465.7357645832739,328.286350568291,284.4858335688156,379.8289600873806,597.7546338665225,528.0906082325901,311.2741670059557,291.5557597742725,370.1308417169556,511.2928503876392,513.2896702256193,596.7911483621945,481.0255219513786,408.8776213767791,431.7097234290091,553.4534280305895,211.0232722704725,502.3563826717788,614.2071264021497,491.8653075361397,330.7835109785664,492.3269916084182,506.0181782301323,500.0,469.321904020084,473.3547014609707,359.6565727473837,344.4276463525278,504.0119251455563,436.7741061912119,380.0139180224051,420.1984445486207,350.0,497.813705333795,312.3886237073972,572.1859917759612,254.3242304905618,407.8327726743042,490.141728914396,383.5176482165363,562.5107693123698,584.8747165763995,545.3273701701705,665.8751485242802,423.2732578944647,320.567304299078,688.5611812313155],\"type\":\"scatter\",\"xaxis\":\"x2\",\"yaxis\":\"y2\",\"hoverinfo\":\"all\"},{\"line\":{\"color\":\"#11ffAA\"},\"mode\":\"markers\",\"x\":[0.0,0.0,0.0,0.0,0.0,0.0,0.0,0.0,0.0,0.0,0.0,0.0,0.0,0.0,0.0,0.0,0.0,0.0,0.0],\"y\":[null,null,null,null,null,null,null,null,null,null,null,null,null,null,null,null,null,null,null],\"type\":\"scatter\",\"xaxis\":\"x2\",\"yaxis\":\"y2\",\"hoverinfo\":\"all\"},{\"line\":{\"color\":\"#0000ff\"},\"mode\":\"markers\",\"x\":[8,7,6,7,11,7,9,7,6,11,6,6,12,6,6,9,6,9,7,6,13,7,7,8,6,10,6,7,6,6,6,7,6,11,6,7,7,11,7,7,7,12,6,6,7,7,10,6,6,7,7,8,7,6,6,12,8,7,6,10,8,6,6,6,7,6,6,7,6,9,7,7,7,6,7,7,7,6,7,6,7,6,8,6,7,7,13,7,9,7,8,7,7,13,6,12,7,6,7,12,6,7,6,6,6,6,7,6,7,7,7,6,7,11,7,8,11,7,6,13,6,7,11,9,6,7,12,7,7,6,6,6,7,12,7,6,7,7,7,7,7,12,7,8,7,11,13,8,12,7,7,6,8,12,7,7,7,7,8,7,6,6,7,6,7,6,6],\"y\":[null,1000.0,200.0,null,null,200.0,900.0,500.0,1000.0,500.0,500.0,600.0,500.0,500.0,200.0,null,null,3200.0,300.0,200.0,1700.0,200.0,200.0,200.0,500.0,500.0,500.0,200.0,500.0,700.0,600.0,300.0,600.0,1200.0,400.0,500.0,300.0,null,500.0,1000.0,1600.0,200.0,500.0,500.0,500.0,800.0,1800.0,600.0,200.0,null,300.0,22.0,500.0,null,300.0,500.0,null,500.0,1100.0,400.0,null,250.0,1300.0,500.0,1000.0,800.0,300.0,null,300.0,200.0,300.0,500.0,1200.0,200.0,200.0,600.0,2000.0,300.0,300.0,null,null,null,30.0,800.0,1000.0,null,500.0,300.0,1000.0,0.0,200.0,700.0,200.0,800.0,200.0,null,null,850.0,null,1200.0,1000.0,200.0,200.0,500.0,200.0,500.0,200.0,null,500.0,2500.0,null,1000.0,100.0,null,200.0,200.0,300.0,300.0,300.0,3000.0,400.0,500.0,null,200.0,800.0,300.0,500.0,500.0,300.0,500.0,600.0,400.0,500.0,1500.0,400.0,200.0,null,null,2500.0,200.0,700.0,null,null,100.0,200.0,1000.0,1700.0,null,1000.0,250.0,500.0,1700.0,null,700.0,600.0,null,null,300.0,null,600.0,700.0,1000.0,null,500.0,600.0,1100.0,null],\"type\":\"scatter\",\"xaxis\":\"x3\",\"yaxis\":\"y3\",\"hoverinfo\":\"all\"},{\"line\":{\"color\":\"#AA00ff\"},\"mode\":\"markers\",\"x\":[10,8,10,8,9,7,10,9,9,11,9,10,9,11,12,10,9,9,11,9,11,11,11,8,11,10,8,9,9,11,8,10,10,9,8,9,10,8,11,8,7,9,9,9,10,9,11,8,9,7,8,8,10,9,11,9,8,8,12,9,12,10,10,11,9,9,9,10,7,9,9,10,8],\"y\":[402.4511529677691,323.7644531277405,214.6029495764024,470.6834982166059,232.4650597743426,449.7400300571763,321.6334451458745,544.7654989463099,452.2500351158192,408.8354621535354,679.6463698791639,483.9135737177268,329.1042078916443,359.7584130051473,null,495.0573202117053,397.069404737954,364.5183351436086,238.7301990914588,482.8187506070931,502.0205753243832,232.1361427136796,211.0271048683043,329.3242243041681,454.0498877832058,541.7615669961867,465.7357645832739,328.286350568291,284.4858335688156,379.8289600873806,597.7546338665225,528.0906082325901,311.2741670059557,291.5557597742725,370.1308417169556,511.2928503876392,513.2896702256193,596.7911483621945,481.0255219513786,408.8776213767791,431.7097234290091,553.4534280305895,211.0232722704725,502.3563826717788,614.2071264021497,491.8653075361397,330.7835109785664,492.3269916084182,506.0181782301323,500.0,469.321904020084,473.3547014609707,359.6565727473837,344.4276463525278,504.0119251455563,436.7741061912119,380.0139180224051,420.1984445486207,350.0,497.813705333795,312.3886237073972,572.1859917759612,254.3242304905618,407.8327726743042,490.141728914396,383.5176482165363,562.5107693123698,584.8747165763995,545.3273701701705,665.8751485242802,423.2732578944647,320.567304299078,688.5611812313155],\"type\":\"scatter\",\"xaxis\":\"x3\",\"yaxis\":\"y3\",\"hoverinfo\":\"all\"},{\"line\":{\"color\":\"#11ffAA\"},\"mode\":\"markers\",\"x\":[6,6,6,6,6,6,6,6,6,6,6,6,6,6,6,6,6,6,6],\"y\":[null,null,null,null,null,null,null,null,null,null,null,null,null,null,null,null,null,null,null],\"type\":\"scatter\",\"xaxis\":\"x3\",\"yaxis\":\"y3\",\"hoverinfo\":\"all\"},{\"line\":{\"color\":\"#0000ff\"},\"mode\":\"markers\",\"x\":[3,2,1,2,1,2,3,2,3,2,3,3,2,1,1,2,3,2,2,3,2,3,3,2,3,2,3,2,3,1,3,2,1,3,3,2,2,3,2,2,2,3,3,1,2,2,1,1,3,1,3,2,3,1,1,1,3,1,3,3,3,1,3,3,3,3,3,1,1,2,2,3,2,3,2,3,2,1,1,3,3,3,2,3,2,2,2,2,2,2,2,2,2,2,1,1,2,3,2,3,1,3,1,3,1,3,2,3,3,2,2,1,1,3,3,2,2,2,3,2,3,2,1,2,1,1,1,3,3,1,1,3,3,3,2,3,2,2,2,2,2,3,2,2,2,2,2,1,3,3,3,3,1,1,2,2,2,2,3,2,1,3,3,1,2,1,3],\"y\":[0.0,8.0,0.0,0.0,0.0,0.0,0.0,0.0,0.0,0.0,0.0,0.0,0.0,0.0,0.0,0.0,0.0,0.0,0.0,0.0,0.0,0.0,8.0,0.0,0.0,0.0,8.0,0.0,0.0,0.0,0.0,0.0,0.0,0.0,0.0,0.0,0.0,0.0,0.0,0.0,0.0,4.0,0.0,0.0,0.0,2.3,0.0,3.0,0.0,0.0,0.0,0.0,0.0,0.0,0.0,0.0,0.0,0.0,5.0,0.0,0.0,0.0,0.0,0.0,0.0,0.0,0.0,0.0,0.0,0.0,0.0,0.0,0.0,0.0,0.0,0.0,0.0,0.0,5.0,0.0,0.0,0.0,0.0,0.0,0.0,0.0,0.0,0.0,0.0,0.0,0.0,0.0,0.0,0.0,0.0,0.0,0.0,0.0,0.0,0.0,6.0,0.0,0.0,0.0,0.0,0.0,0.0,2.0,0.0,0.0,0.0,0.0,0.0,0.0,0.0,7.0,0.0,0.0,8.0,0.0,0.0,0.0,0.0,0.0,0.0,0.0,0.0,0.0,0.0,8.0,0.0,0.0,8.0,0.0,0.0,0.0,0.0,0.0,0.0,0.0,0.0,0.0,0.0,0.0,0.0,0.0,4.0,0.0,9.0,0.0,0.0,0.0,0.0,0.0,0.0,0.0,2.0,0.0,0.0,8.0,0.0,0.0,0.0,8.0,0.0,0.0,0.0],\"type\":\"scatter\",\"xaxis\":\"x4\",\"yaxis\":\"y4\",\"hoverinfo\":\"all\"},{\"line\":{\"color\":\"#AA00ff\"},\"mode\":\"markers\",\"x\":[3,3,3,3,3,3,3,3,3,3,3,3,3,3,3,3,3,3,3,3,3,3,3,3,3,3,3,3,3,3,3,3,3,3,3,3,3,3,3,3,3,3,3,3,3,3,3,3,3,3,3,3,3,3,3,3,3,3,3,3,3,3,3,3,3,3,3,3,3,3,3,3,3],\"y\":[2.844125343927511,3.373533778140507,0.1634475577268132,0.8450293306882188,0.5422462203135963,2.920140674960709,1.469989793849505,2.022009990043532,0.2971426733340782,2.505207542294234,0.7471615015339617,0.958701233019545,2.452043327761439,3.207014654047457,0.0,0.8556408393341008,0.508673955857289,1.457216543141756,5.923768918606704,0.1148128375890785,1.907225120837339,1.618243295759351,1.031085206703575,1.532108658061197,2.350539042824707,1.083032590337149,1.442478993706538,0.5034827386804979,2.112628785695002,3.584549644647479,3.619250206291017,0.06344069645154993,0.01651841461385162,0.02685400622112422,4.475495280450124,2.316869698483552,2.015968425920143,0.1333010431006487,1.966881596242339,0.8211017291501245,5.103880664966981,2.909729385677572,0.5188718696254273,2.111593174135725,2.409317130101548,2.4660560876386,1.276119492964367,1.850685304030039,0.3336083618777841,4.0,2.064723825620989,0.6002589435813797,0.1327987869191674,2.199435136956391,1.887853070461858,1.52114415033964,0.4701258767435744,3.371884757481724,0.0,0.2703888921820745,3.302910755418861,2.495351455080786,2.999377771557643,2.605183532482581,1.993747835600706,1.260095926435684,0.2116217108774527,3.668443080924614,1.676369135700805,0.5914583967894791,0.2218019141596537,0.8924469122391705,0.4896338808432033],\"type\":\"scatter\",\"xaxis\":\"x4\",\"yaxis\":\"y4\",\"hoverinfo\":\"all\"},{\"line\":{\"color\":\"#11ffAA\"},\"mode\":\"markers\",\"x\":[1,1,1,1,1,1,1,1,1,1,1,1,1,1,1,1,1,1,1],\"y\":[0.0,0.0,0.0,0.0,0.0,0.0,0.0,0.0,0.0,0.0,0.0,0.0,0.0,0.0,0.0,0.0,0.0,0.0,0.0],\"type\":\"scatter\",\"xaxis\":\"x4\",\"yaxis\":\"y4\",\"hoverinfo\":\"all\"},{\"line\":{\"color\":\"#0000ff\"},\"mode\":\"markers\",\"x\":[3,2,1,2,1,2,3,2,3,2,3,3,2,1,1,2,3,2,2,3,2,3,3,2,3,2,3,2,3,1,3,2,1,3,3,2,2,3,2,2,2,3,3,1,2,2,1,1,3,1,3,2,3,1,1,1,3,1,3,3,3,1,3,3,3,3,3,1,1,2,2,3,2,3,2,3,2,1,1,3,3,3,2,3,2,2,2,2,2,2,2,2,2,2,1,1,2,3,2,3,1,3,1,3,1,3,2,3,3,2,2,1,1,3,3,2,2,2,3,2,3,2,1,2,1,1,1,3,3,1,1,3,3,3,2,3,2,2,2,2,2,3,2,2,2,2,2,1,3,3,3,3,1,1,2,2,2,2,3,2,1,3,3,1,2,1,3],\"y\":[8,7,6,7,11,7,9,7,6,11,6,6,12,6,6,9,6,9,7,6,13,7,7,8,6,10,6,7,6,6,6,7,6,11,6,7,7,11,7,7,7,12,6,6,7,7,10,6,6,7,7,8,7,6,6,12,8,7,6,10,8,6,6,6,7,6,6,7,6,9,7,7,7,6,7,7,7,6,7,6,7,6,8,6,7,7,13,7,9,7,8,7,7,13,6,12,7,6,7,12,6,7,6,6,6,6,7,6,7,7,7,6,7,11,7,8,11,7,6,13,6,7,11,9,6,7,12,7,7,6,6,6,7,12,7,6,7,7,7,7,7,12,7,8,7,11,13,8,12,7,7,6,8,12,7,7,7,7,8,7,6,6,7,6,7,6,6],\"type\":\"scatter\",\"xaxis\":\"x5\",\"yaxis\":\"y5\",\"hoverinfo\":\"all\"},{\"line\":{\"color\":\"#AA00ff\"},\"mode\":\"markers\",\"x\":[3,3,3,3,3,3,3,3,3,3,3,3,3,3,3,3,3,3,3,3,3,3,3,3,3,3,3,3,3,3,3,3,3,3,3,3,3,3,3,3,3,3,3,3,3,3,3,3,3,3,3,3,3,3,3,3,3,3,3,3,3,3,3,3,3,3,3,3,3,3,3,3,3],\"y\":[10,8,10,8,9,7,10,9,9,11,9,10,9,11,12,10,9,9,11,9,11,11,11,8,11,10,8,9,9,11,8,10,10,9,8,9,10,8,11,8,7,9,9,9,10,9,11,8,9,7,8,8,10,9,11,9,8,8,12,9,12,10,10,11,9,9,9,10,7,9,9,10,8],\"type\":\"scatter\",\"xaxis\":\"x5\",\"yaxis\":\"y5\",\"hoverinfo\":\"all\"},{\"line\":{\"color\":\"#11ffAA\"},\"mode\":\"markers\",\"x\":[1,1,1,1,1,1,1,1,1,1,1,1,1,1,1,1,1,1,1],\"y\":[6,6,6,6,6,6,6,6,6,6,6,6,6,6,6,6,6,6,6],\"type\":\"scatter\",\"xaxis\":\"x5\",\"yaxis\":\"y5\",\"hoverinfo\":\"all\"},{\"line\":{\"color\":\"#0000ff\"},\"mode\":\"markers\",\"x\":[3,2,1,2,1,2,3,2,3,2,3,3,2,1,1,2,3,2,2,3,2,3,3,2,3,2,3,2,3,1,3,2,1,3,3,2,2,3,2,2,2,3,3,1,2,2,1,1,3,1,3,2,3,1,1,1,3,1,3,3,3,1,3,3,3,3,3,1,1,2,2,3,2,3,2,3,2,1,1,3,3,3,2,3,2,2,2,2,2,2,2,2,2,2,1,1,2,3,2,3,1,3,1,3,1,3,2,3,3,2,2,1,1,3,3,2,2,2,3,2,3,2,1,2,1,1,1,3,3,1,1,3,3,3,2,3,2,2,2,2,2,3,2,2,2,2,2,1,3,3,3,3,1,1,2,2,2,2,3,2,1,3,3,1,2,1,3],\"y\":[null,1000.0,200.0,null,null,200.0,900.0,500.0,1000.0,500.0,500.0,600.0,500.0,500.0,200.0,null,null,3200.0,300.0,200.0,1700.0,200.0,200.0,200.0,500.0,500.0,500.0,200.0,500.0,700.0,600.0,300.0,600.0,1200.0,400.0,500.0,300.0,null,500.0,1000.0,1600.0,200.0,500.0,500.0,500.0,800.0,1800.0,600.0,200.0,null,300.0,22.0,500.0,null,300.0,500.0,null,500.0,1100.0,400.0,null,250.0,1300.0,500.0,1000.0,800.0,300.0,null,300.0,200.0,300.0,500.0,1200.0,200.0,200.0,600.0,2000.0,300.0,300.0,null,null,null,30.0,800.0,1000.0,null,500.0,300.0,1000.0,0.0,200.0,700.0,200.0,800.0,200.0,null,null,850.0,null,1200.0,1000.0,200.0,200.0,500.0,200.0,500.0,200.0,null,500.0,2500.0,null,1000.0,100.0,null,200.0,200.0,300.0,300.0,300.0,3000.0,400.0,500.0,null,200.0,800.0,300.0,500.0,500.0,300.0,500.0,600.0,400.0,500.0,1500.0,400.0,200.0,null,null,2500.0,200.0,700.0,null,null,100.0,200.0,1000.0,1700.0,null,1000.0,250.0,500.0,1700.0,null,700.0,600.0,null,null,300.0,null,600.0,700.0,1000.0,null,500.0,600.0,1100.0,null],\"type\":\"scatter\",\"xaxis\":\"x6\",\"yaxis\":\"y6\",\"hoverinfo\":\"all\"},{\"line\":{\"color\":\"#AA00ff\"},\"mode\":\"markers\",\"x\":[3,3,3,3,3,3,3,3,3,3,3,3,3,3,3,3,3,3,3,3,3,3,3,3,3,3,3,3,3,3,3,3,3,3,3,3,3,3,3,3,3,3,3,3,3,3,3,3,3,3,3,3,3,3,3,3,3,3,3,3,3,3,3,3,3,3,3,3,3,3,3,3,3],\"y\":[402.4511529677691,323.7644531277405,214.6029495764024,470.6834982166059,232.4650597743426,449.7400300571763,321.6334451458745,544.7654989463099,452.2500351158192,408.8354621535354,679.6463698791639,483.9135737177268,329.1042078916443,359.7584130051473,null,495.0573202117053,397.069404737954,364.5183351436086,238.7301990914588,482.8187506070931,502.0205753243832,232.1361427136796,211.0271048683043,329.3242243041681,454.0498877832058,541.7615669961867,465.7357645832739,328.286350568291,284.4858335688156,379.8289600873806,597.7546338665225,528.0906082325901,311.2741670059557,291.5557597742725,370.1308417169556,511.2928503876392,513.2896702256193,596.7911483621945,481.0255219513786,408.8776213767791,431.7097234290091,553.4534280305895,211.0232722704725,502.3563826717788,614.2071264021497,491.8653075361397,330.7835109785664,492.3269916084182,506.0181782301323,500.0,469.321904020084,473.3547014609707,359.6565727473837,344.4276463525278,504.0119251455563,436.7741061912119,380.0139180224051,420.1984445486207,350.0,497.813705333795,312.3886237073972,572.1859917759612,254.3242304905618,407.8327726743042,490.141728914396,383.5176482165363,562.5107693123698,584.8747165763995,545.3273701701705,665.8751485242802,423.2732578944647,320.567304299078,688.5611812313155],\"type\":\"scatter\",\"xaxis\":\"x6\",\"yaxis\":\"y6\",\"hoverinfo\":\"all\"},{\"line\":{\"color\":\"#11ffAA\"},\"mode\":\"markers\",\"x\":[1,1,1,1,1,1,1,1,1,1,1,1,1,1,1,1,1,1,1],\"y\":[null,null,null,null,null,null,null,null,null,null,null,null,null,null,null,null,null,null,null],\"type\":\"scatter\",\"xaxis\":\"x6\",\"yaxis\":\"y6\",\"hoverinfo\":\"all\"},{\"line\":{\"color\":\"#0000ff\"},\"mode\":\"markers\",\"x\":[0,3,2,0,3,3,3,3,3,2,2,2,3,0,3,1,0,3,2,2,2,3,2,3,3,2,2,3,2,2,0,2,3,3,3,3,3,0,1,1,3,3,0,0,2,2,2,3,2,0,2,0,2,0,0,3,0,0,0,2,0,3,0,1,2,0,2,3,0,1,2,2,2,2,0,2,3,2,3,0,3,0,1,2,3,0,2,3,3,2,1,0,2,2,0,0,3,4,0,3,1,2,3,2,2,3,1,2,2,2,0,2,2,3,1,3,1,2,3,3,2,2,0,0,1,2,3,3,3,2,2,3,4,3,2,0,0,0,1,0,2,3,0,1,2,1,2,3,3,3,1,3,0,3,2,3,0,2,3,2,3,3,0,2,4,4,3],\"y\":[0.0,8.0,0.0,0.0,0.0,0.0,0.0,0.0,0.0,0.0,0.0,0.0,0.0,0.0,0.0,0.0,0.0,0.0,0.0,0.0,0.0,0.0,8.0,0.0,0.0,0.0,8.0,0.0,0.0,0.0,0.0,0.0,0.0,0.0,0.0,0.0,0.0,0.0,0.0,0.0,0.0,4.0,0.0,0.0,0.0,2.3,0.0,3.0,0.0,0.0,0.0,0.0,0.0,0.0,0.0,0.0,0.0,0.0,5.0,0.0,0.0,0.0,0.0,0.0,0.0,0.0,0.0,0.0,0.0,0.0,0.0,0.0,0.0,0.0,0.0,0.0,0.0,0.0,5.0,0.0,0.0,0.0,0.0,0.0,0.0,0.0,0.0,0.0,0.0,0.0,0.0,0.0,0.0,0.0,0.0,0.0,0.0,0.0,0.0,0.0,6.0,0.0,0.0,0.0,0.0,0.0,0.0,2.0,0.0,0.0,0.0,0.0,0.0,0.0,0.0,7.0,0.0,0.0,8.0,0.0,0.0,0.0,0.0,0.0,0.0,0.0,0.0,0.0,0.0,8.0,0.0,0.0,8.0,0.0,0.0,0.0,0.0,0.0,0.0,0.0,0.0,0.0,0.0,0.0,0.0,0.0,4.0,0.0,9.0,0.0,0.0,0.0,0.0,0.0,0.0,0.0,2.0,0.0,0.0,8.0,0.0,0.0,0.0,8.0,0.0,0.0,0.0],\"type\":\"scatter\",\"xaxis\":\"x7\",\"yaxis\":\"y7\",\"hoverinfo\":\"all\"},{\"line\":{\"color\":\"#AA00ff\"},\"mode\":\"markers\",\"x\":[1,2,2,2,0,0,1,2,1,1,0,1,0,2,0,1,0,0,2,0,2,1,0,1,1,1,2,0,0,1,0,0,0,1,2,1,0,2,0,2,1,1,0,0,0,2,0,0,0,1,0,0,2,0,0,0,1,1,2,2,0,1,1,1,1,1,0,0,2,2,2,0,1],\"y\":[2.844125343927511,3.373533778140507,0.1634475577268132,0.8450293306882188,0.5422462203135963,2.920140674960709,1.469989793849505,2.022009990043532,0.2971426733340782,2.505207542294234,0.7471615015339617,0.958701233019545,2.452043327761439,3.207014654047457,0.0,0.8556408393341008,0.508673955857289,1.457216543141756,5.923768918606704,0.1148128375890785,1.907225120837339,1.618243295759351,1.031085206703575,1.532108658061197,2.350539042824707,1.083032590337149,1.442478993706538,0.5034827386804979,2.112628785695002,3.584549644647479,3.619250206291017,0.06344069645154993,0.01651841461385162,0.02685400622112422,4.475495280450124,2.316869698483552,2.015968425920143,0.1333010431006487,1.966881596242339,0.8211017291501245,5.103880664966981,2.909729385677572,0.5188718696254273,2.111593174135725,2.409317130101548,2.4660560876386,1.276119492964367,1.850685304030039,0.3336083618777841,4.0,2.064723825620989,0.6002589435813797,0.1327987869191674,2.199435136956391,1.887853070461858,1.52114415033964,0.4701258767435744,3.371884757481724,0.0,0.2703888921820745,3.302910755418861,2.495351455080786,2.999377771557643,2.605183532482581,1.993747835600706,1.260095926435684,0.2116217108774527,3.668443080924614,1.676369135700805,0.5914583967894791,0.2218019141596537,0.8924469122391705,0.4896338808432033],\"type\":\"scatter\",\"xaxis\":\"x7\",\"yaxis\":\"y7\",\"hoverinfo\":\"all\"},{\"line\":{\"color\":\"#11ffAA\"},\"mode\":\"markers\",\"x\":[0,0,0,0,0,0,0,0,0,0,0,0,0,0,0,0,0,0,0],\"y\":[0.0,0.0,0.0,0.0,0.0,0.0,0.0,0.0,0.0,0.0,0.0,0.0,0.0,0.0,0.0,0.0,0.0,0.0,0.0],\"type\":\"scatter\",\"xaxis\":\"x7\",\"yaxis\":\"y7\",\"hoverinfo\":\"all\"},{\"line\":{\"color\":\"#0000ff\"},\"mode\":\"markers\",\"x\":[0,3,2,0,3,3,3,3,3,2,2,2,3,0,3,1,0,3,2,2,2,3,2,3,3,2,2,3,2,2,0,2,3,3,3,3,3,0,1,1,3,3,0,0,2,2,2,3,2,0,2,0,2,0,0,3,0,0,0,2,0,3,0,1,2,0,2,3,0,1,2,2,2,2,0,2,3,2,3,0,3,0,1,2,3,0,2,3,3,2,1,0,2,2,0,0,3,4,0,3,1,2,3,2,2,3,1,2,2,2,0,2,2,3,1,3,1,2,3,3,2,2,0,0,1,2,3,3,3,2,2,3,4,3,2,0,0,0,1,0,2,3,0,1,2,1,2,3,3,3,1,3,0,3,2,3,0,2,3,2,3,3,0,2,4,4,3],\"y\":[8,7,6,7,11,7,9,7,6,11,6,6,12,6,6,9,6,9,7,6,13,7,7,8,6,10,6,7,6,6,6,7,6,11,6,7,7,11,7,7,7,12,6,6,7,7,10,6,6,7,7,8,7,6,6,12,8,7,6,10,8,6,6,6,7,6,6,7,6,9,7,7,7,6,7,7,7,6,7,6,7,6,8,6,7,7,13,7,9,7,8,7,7,13,6,12,7,6,7,12,6,7,6,6,6,6,7,6,7,7,7,6,7,11,7,8,11,7,6,13,6,7,11,9,6,7,12,7,7,6,6,6,7,12,7,6,7,7,7,7,7,12,7,8,7,11,13,8,12,7,7,6,8,12,7,7,7,7,8,7,6,6,7,6,7,6,6],\"type\":\"scatter\",\"xaxis\":\"x8\",\"yaxis\":\"y8\",\"hoverinfo\":\"all\"},{\"line\":{\"color\":\"#AA00ff\"},\"mode\":\"markers\",\"x\":[1,2,2,2,0,0,1,2,1,1,0,1,0,2,0,1,0,0,2,0,2,1,0,1,1,1,2,0,0,1,0,0,0,1,2,1,0,2,0,2,1,1,0,0,0,2,0,0,0,1,0,0,2,0,0,0,1,1,2,2,0,1,1,1,1,1,0,0,2,2,2,0,1],\"y\":[10,8,10,8,9,7,10,9,9,11,9,10,9,11,12,10,9,9,11,9,11,11,11,8,11,10,8,9,9,11,8,10,10,9,8,9,10,8,11,8,7,9,9,9,10,9,11,8,9,7,8,8,10,9,11,9,8,8,12,9,12,10,10,11,9,9,9,10,7,9,9,10,8],\"type\":\"scatter\",\"xaxis\":\"x8\",\"yaxis\":\"y8\",\"hoverinfo\":\"all\"},{\"line\":{\"color\":\"#11ffAA\"},\"mode\":\"markers\",\"x\":[0,0,0,0,0,0,0,0,0,0,0,0,0,0,0,0,0,0,0],\"y\":[6,6,6,6,6,6,6,6,6,6,6,6,6,6,6,6,6,6,6],\"type\":\"scatter\",\"xaxis\":\"x8\",\"yaxis\":\"y8\",\"hoverinfo\":\"all\"},{\"line\":{\"color\":\"#0000ff\"},\"mode\":\"markers\",\"x\":[0,3,2,0,3,3,3,3,3,2,2,2,3,0,3,1,0,3,2,2,2,3,2,3,3,2,2,3,2,2,0,2,3,3,3,3,3,0,1,1,3,3,0,0,2,2,2,3,2,0,2,0,2,0,0,3,0,0,0,2,0,3,0,1,2,0,2,3,0,1,2,2,2,2,0,2,3,2,3,0,3,0,1,2,3,0,2,3,3,2,1,0,2,2,0,0,3,4,0,3,1,2,3,2,2,3,1,2,2,2,0,2,2,3,1,3,1,2,3,3,2,2,0,0,1,2,3,3,3,2,2,3,4,3,2,0,0,0,1,0,2,3,0,1,2,1,2,3,3,3,1,3,0,3,2,3,0,2,3,2,3,3,0,2,4,4,3],\"y\":[null,1000.0,200.0,null,null,200.0,900.0,500.0,1000.0,500.0,500.0,600.0,500.0,500.0,200.0,null,null,3200.0,300.0,200.0,1700.0,200.0,200.0,200.0,500.0,500.0,500.0,200.0,500.0,700.0,600.0,300.0,600.0,1200.0,400.0,500.0,300.0,null,500.0,1000.0,1600.0,200.0,500.0,500.0,500.0,800.0,1800.0,600.0,200.0,null,300.0,22.0,500.0,null,300.0,500.0,null,500.0,1100.0,400.0,null,250.0,1300.0,500.0,1000.0,800.0,300.0,null,300.0,200.0,300.0,500.0,1200.0,200.0,200.0,600.0,2000.0,300.0,300.0,null,null,null,30.0,800.0,1000.0,null,500.0,300.0,1000.0,0.0,200.0,700.0,200.0,800.0,200.0,null,null,850.0,null,1200.0,1000.0,200.0,200.0,500.0,200.0,500.0,200.0,null,500.0,2500.0,null,1000.0,100.0,null,200.0,200.0,300.0,300.0,300.0,3000.0,400.0,500.0,null,200.0,800.0,300.0,500.0,500.0,300.0,500.0,600.0,400.0,500.0,1500.0,400.0,200.0,null,null,2500.0,200.0,700.0,null,null,100.0,200.0,1000.0,1700.0,null,1000.0,250.0,500.0,1700.0,null,700.0,600.0,null,null,300.0,null,600.0,700.0,1000.0,null,500.0,600.0,1100.0,null],\"type\":\"scatter\",\"xaxis\":\"x9\",\"yaxis\":\"y9\",\"hoverinfo\":\"all\"},{\"line\":{\"color\":\"#AA00ff\"},\"mode\":\"markers\",\"x\":[1,2,2,2,0,0,1,2,1,1,0,1,0,2,0,1,0,0,2,0,2,1,0,1,1,1,2,0,0,1,0,0,0,1,2,1,0,2,0,2,1,1,0,0,0,2,0,0,0,1,0,0,2,0,0,0,1,1,2,2,0,1,1,1,1,1,0,0,2,2,2,0,1],\"y\":[402.4511529677691,323.7644531277405,214.6029495764024,470.6834982166059,232.4650597743426,449.7400300571763,321.6334451458745,544.7654989463099,452.2500351158192,408.8354621535354,679.6463698791639,483.9135737177268,329.1042078916443,359.7584130051473,null,495.0573202117053,397.069404737954,364.5183351436086,238.7301990914588,482.8187506070931,502.0205753243832,232.1361427136796,211.0271048683043,329.3242243041681,454.0498877832058,541.7615669961867,465.7357645832739,328.286350568291,284.4858335688156,379.8289600873806,597.7546338665225,528.0906082325901,311.2741670059557,291.5557597742725,370.1308417169556,511.2928503876392,513.2896702256193,596.7911483621945,481.0255219513786,408.8776213767791,431.7097234290091,553.4534280305895,211.0232722704725,502.3563826717788,614.2071264021497,491.8653075361397,330.7835109785664,492.3269916084182,506.0181782301323,500.0,469.321904020084,473.3547014609707,359.6565727473837,344.4276463525278,504.0119251455563,436.7741061912119,380.0139180224051,420.1984445486207,350.0,497.813705333795,312.3886237073972,572.1859917759612,254.3242304905618,407.8327726743042,490.141728914396,383.5176482165363,562.5107693123698,584.8747165763995,545.3273701701705,665.8751485242802,423.2732578944647,320.567304299078,688.5611812313155],\"type\":\"scatter\",\"xaxis\":\"x9\",\"yaxis\":\"y9\",\"hoverinfo\":\"all\"},{\"line\":{\"color\":\"#11ffAA\"},\"mode\":\"markers\",\"x\":[0,0,0,0,0,0,0,0,0,0,0,0,0,0,0,0,0,0,0],\"y\":[null,null,null,null,null,null,null,null,null,null,null,null,null,null,null,null,null,null,null],\"type\":\"scatter\",\"xaxis\":\"x9\",\"yaxis\":\"y9\",\"hoverinfo\":\"all\"},{\"line\":{\"color\":\"#0000ff\"},\"mode\":\"markers\",\"x\":[0,3,2,0,3,3,3,3,3,2,2,2,3,0,3,1,0,3,2,2,2,3,2,3,3,2,2,3,2,2,0,2,3,3,3,3,3,0,1,1,3,3,0,0,2,2,2,3,2,0,2,0,2,0,0,3,0,0,0,2,0,3,0,1,2,0,2,3,0,1,2,2,2,2,0,2,3,2,3,0,3,0,1,2,3,0,2,3,3,2,1,0,2,2,0,0,3,4,0,3,1,2,3,2,2,3,1,2,2,2,0,2,2,3,1,3,1,2,3,3,2,2,0,0,1,2,3,3,3,2,2,3,4,3,2,0,0,0,1,0,2,3,0,1,2,1,2,3,3,3,1,3,0,3,2,3,0,2,3,2,3,3,0,2,4,4,3],\"y\":[3,2,1,2,1,2,3,2,3,2,3,3,2,1,1,2,3,2,2,3,2,3,3,2,3,2,3,2,3,1,3,2,1,3,3,2,2,3,2,2,2,3,3,1,2,2,1,1,3,1,3,2,3,1,1,1,3,1,3,3,3,1,3,3,3,3,3,1,1,2,2,3,2,3,2,3,2,1,1,3,3,3,2,3,2,2,2,2,2,2,2,2,2,2,1,1,2,3,2,3,1,3,1,3,1,3,2,3,3,2,2,1,1,3,3,2,2,2,3,2,3,2,1,2,1,1,1,3,3,1,1,3,3,3,2,3,2,2,2,2,2,3,2,2,2,2,2,1,3,3,3,3,1,1,2,2,2,2,3,2,1,3,3,1,2,1,3],\"type\":\"scatter\",\"xaxis\":\"x10\",\"yaxis\":\"y10\",\"hoverinfo\":\"all\"},{\"line\":{\"color\":\"#AA00ff\"},\"mode\":\"markers\",\"x\":[1,2,2,2,0,0,1,2,1,1,0,1,0,2,0,1,0,0,2,0,2,1,0,1,1,1,2,0,0,1,0,0,0,1,2,1,0,2,0,2,1,1,0,0,0,2,0,0,0,1,0,0,2,0,0,0,1,1,2,2,0,1,1,1,1,1,0,0,2,2,2,0,1],\"y\":[3,3,3,3,3,3,3,3,3,3,3,3,3,3,3,3,3,3,3,3,3,3,3,3,3,3,3,3,3,3,3,3,3,3,3,3,3,3,3,3,3,3,3,3,3,3,3,3,3,3,3,3,3,3,3,3,3,3,3,3,3,3,3,3,3,3,3,3,3,3,3,3,3],\"type\":\"scatter\",\"xaxis\":\"x10\",\"yaxis\":\"y10\",\"hoverinfo\":\"all\"},{\"line\":{\"color\":\"#11ffAA\"},\"mode\":\"markers\",\"x\":[0,0,0,0,0,0,0,0,0,0,0,0,0,0,0,0,0,0,0],\"y\":[1,1,1,1,1,1,1,1,1,1,1,1,1,1,1,1,1,1,1],\"type\":\"scatter\",\"xaxis\":\"x10\",\"yaxis\":\"y10\",\"hoverinfo\":\"all\"}],                        {\"template\":{\"data\":{\"bar\":[{\"error_x\":{\"color\":\"#2a3f5f\"},\"error_y\":{\"color\":\"#2a3f5f\"},\"marker\":{\"line\":{\"color\":\"#E5ECF6\",\"width\":0.5},\"pattern\":{\"fillmode\":\"overlay\",\"size\":10,\"solidity\":0.2}},\"type\":\"bar\"}],\"barpolar\":[{\"marker\":{\"line\":{\"color\":\"#E5ECF6\",\"width\":0.5},\"pattern\":{\"fillmode\":\"overlay\",\"size\":10,\"solidity\":0.2}},\"type\":\"barpolar\"}],\"carpet\":[{\"aaxis\":{\"endlinecolor\":\"#2a3f5f\",\"gridcolor\":\"white\",\"linecolor\":\"white\",\"minorgridcolor\":\"white\",\"startlinecolor\":\"#2a3f5f\"},\"baxis\":{\"endlinecolor\":\"#2a3f5f\",\"gridcolor\":\"white\",\"linecolor\":\"white\",\"minorgridcolor\":\"white\",\"startlinecolor\":\"#2a3f5f\"},\"type\":\"carpet\"}],\"choropleth\":[{\"colorbar\":{\"outlinewidth\":0,\"ticks\":\"\"},\"type\":\"choropleth\"}],\"contour\":[{\"colorbar\":{\"outlinewidth\":0,\"ticks\":\"\"},\"colorscale\":[[0.0,\"#0d0887\"],[0.1111111111111111,\"#46039f\"],[0.2222222222222222,\"#7201a8\"],[0.3333333333333333,\"#9c179e\"],[0.4444444444444444,\"#bd3786\"],[0.5555555555555556,\"#d8576b\"],[0.6666666666666666,\"#ed7953\"],[0.7777777777777778,\"#fb9f3a\"],[0.8888888888888888,\"#fdca26\"],[1.0,\"#f0f921\"]],\"type\":\"contour\"}],\"contourcarpet\":[{\"colorbar\":{\"outlinewidth\":0,\"ticks\":\"\"},\"type\":\"contourcarpet\"}],\"heatmap\":[{\"colorbar\":{\"outlinewidth\":0,\"ticks\":\"\"},\"colorscale\":[[0.0,\"#0d0887\"],[0.1111111111111111,\"#46039f\"],[0.2222222222222222,\"#7201a8\"],[0.3333333333333333,\"#9c179e\"],[0.4444444444444444,\"#bd3786\"],[0.5555555555555556,\"#d8576b\"],[0.6666666666666666,\"#ed7953\"],[0.7777777777777778,\"#fb9f3a\"],[0.8888888888888888,\"#fdca26\"],[1.0,\"#f0f921\"]],\"type\":\"heatmap\"}],\"heatmapgl\":[{\"colorbar\":{\"outlinewidth\":0,\"ticks\":\"\"},\"colorscale\":[[0.0,\"#0d0887\"],[0.1111111111111111,\"#46039f\"],[0.2222222222222222,\"#7201a8\"],[0.3333333333333333,\"#9c179e\"],[0.4444444444444444,\"#bd3786\"],[0.5555555555555556,\"#d8576b\"],[0.6666666666666666,\"#ed7953\"],[0.7777777777777778,\"#fb9f3a\"],[0.8888888888888888,\"#fdca26\"],[1.0,\"#f0f921\"]],\"type\":\"heatmapgl\"}],\"histogram\":[{\"marker\":{\"pattern\":{\"fillmode\":\"overlay\",\"size\":10,\"solidity\":0.2}},\"type\":\"histogram\"}],\"histogram2d\":[{\"colorbar\":{\"outlinewidth\":0,\"ticks\":\"\"},\"colorscale\":[[0.0,\"#0d0887\"],[0.1111111111111111,\"#46039f\"],[0.2222222222222222,\"#7201a8\"],[0.3333333333333333,\"#9c179e\"],[0.4444444444444444,\"#bd3786\"],[0.5555555555555556,\"#d8576b\"],[0.6666666666666666,\"#ed7953\"],[0.7777777777777778,\"#fb9f3a\"],[0.8888888888888888,\"#fdca26\"],[1.0,\"#f0f921\"]],\"type\":\"histogram2d\"}],\"histogram2dcontour\":[{\"colorbar\":{\"outlinewidth\":0,\"ticks\":\"\"},\"colorscale\":[[0.0,\"#0d0887\"],[0.1111111111111111,\"#46039f\"],[0.2222222222222222,\"#7201a8\"],[0.3333333333333333,\"#9c179e\"],[0.4444444444444444,\"#bd3786\"],[0.5555555555555556,\"#d8576b\"],[0.6666666666666666,\"#ed7953\"],[0.7777777777777778,\"#fb9f3a\"],[0.8888888888888888,\"#fdca26\"],[1.0,\"#f0f921\"]],\"type\":\"histogram2dcontour\"}],\"mesh3d\":[{\"colorbar\":{\"outlinewidth\":0,\"ticks\":\"\"},\"type\":\"mesh3d\"}],\"parcoords\":[{\"line\":{\"colorbar\":{\"outlinewidth\":0,\"ticks\":\"\"}},\"type\":\"parcoords\"}],\"pie\":[{\"automargin\":true,\"type\":\"pie\"}],\"scatter\":[{\"marker\":{\"colorbar\":{\"outlinewidth\":0,\"ticks\":\"\"}},\"type\":\"scatter\"}],\"scatter3d\":[{\"line\":{\"colorbar\":{\"outlinewidth\":0,\"ticks\":\"\"}},\"marker\":{\"colorbar\":{\"outlinewidth\":0,\"ticks\":\"\"}},\"type\":\"scatter3d\"}],\"scattercarpet\":[{\"marker\":{\"colorbar\":{\"outlinewidth\":0,\"ticks\":\"\"}},\"type\":\"scattercarpet\"}],\"scattergeo\":[{\"marker\":{\"colorbar\":{\"outlinewidth\":0,\"ticks\":\"\"}},\"type\":\"scattergeo\"}],\"scattergl\":[{\"marker\":{\"colorbar\":{\"outlinewidth\":0,\"ticks\":\"\"}},\"type\":\"scattergl\"}],\"scattermapbox\":[{\"marker\":{\"colorbar\":{\"outlinewidth\":0,\"ticks\":\"\"}},\"type\":\"scattermapbox\"}],\"scatterpolar\":[{\"marker\":{\"colorbar\":{\"outlinewidth\":0,\"ticks\":\"\"}},\"type\":\"scatterpolar\"}],\"scatterpolargl\":[{\"marker\":{\"colorbar\":{\"outlinewidth\":0,\"ticks\":\"\"}},\"type\":\"scatterpolargl\"}],\"scatterternary\":[{\"marker\":{\"colorbar\":{\"outlinewidth\":0,\"ticks\":\"\"}},\"type\":\"scatterternary\"}],\"surface\":[{\"colorbar\":{\"outlinewidth\":0,\"ticks\":\"\"},\"colorscale\":[[0.0,\"#0d0887\"],[0.1111111111111111,\"#46039f\"],[0.2222222222222222,\"#7201a8\"],[0.3333333333333333,\"#9c179e\"],[0.4444444444444444,\"#bd3786\"],[0.5555555555555556,\"#d8576b\"],[0.6666666666666666,\"#ed7953\"],[0.7777777777777778,\"#fb9f3a\"],[0.8888888888888888,\"#fdca26\"],[1.0,\"#f0f921\"]],\"type\":\"surface\"}],\"table\":[{\"cells\":{\"fill\":{\"color\":\"#EBF0F8\"},\"line\":{\"color\":\"white\"}},\"header\":{\"fill\":{\"color\":\"#C8D4E3\"},\"line\":{\"color\":\"white\"}},\"type\":\"table\"}]},\"layout\":{\"annotationdefaults\":{\"arrowcolor\":\"#2a3f5f\",\"arrowhead\":0,\"arrowwidth\":1},\"autotypenumbers\":\"strict\",\"coloraxis\":{\"colorbar\":{\"outlinewidth\":0,\"ticks\":\"\"}},\"colorscale\":{\"diverging\":[[0,\"#8e0152\"],[0.1,\"#c51b7d\"],[0.2,\"#de77ae\"],[0.3,\"#f1b6da\"],[0.4,\"#fde0ef\"],[0.5,\"#f7f7f7\"],[0.6,\"#e6f5d0\"],[0.7,\"#b8e186\"],[0.8,\"#7fbc41\"],[0.9,\"#4d9221\"],[1,\"#276419\"]],\"sequential\":[[0.0,\"#0d0887\"],[0.1111111111111111,\"#46039f\"],[0.2222222222222222,\"#7201a8\"],[0.3333333333333333,\"#9c179e\"],[0.4444444444444444,\"#bd3786\"],[0.5555555555555556,\"#d8576b\"],[0.6666666666666666,\"#ed7953\"],[0.7777777777777778,\"#fb9f3a\"],[0.8888888888888888,\"#fdca26\"],[1.0,\"#f0f921\"]],\"sequentialminus\":[[0.0,\"#0d0887\"],[0.1111111111111111,\"#46039f\"],[0.2222222222222222,\"#7201a8\"],[0.3333333333333333,\"#9c179e\"],[0.4444444444444444,\"#bd3786\"],[0.5555555555555556,\"#d8576b\"],[0.6666666666666666,\"#ed7953\"],[0.7777777777777778,\"#fb9f3a\"],[0.8888888888888888,\"#fdca26\"],[1.0,\"#f0f921\"]]},\"colorway\":[\"#636efa\",\"#EF553B\",\"#00cc96\",\"#ab63fa\",\"#FFA15A\",\"#19d3f3\",\"#FF6692\",\"#B6E880\",\"#FF97FF\",\"#FECB52\"],\"font\":{\"color\":\"#2a3f5f\"},\"geo\":{\"bgcolor\":\"white\",\"lakecolor\":\"white\",\"landcolor\":\"#E5ECF6\",\"showlakes\":true,\"showland\":true,\"subunitcolor\":\"white\"},\"hoverlabel\":{\"align\":\"left\"},\"hovermode\":\"closest\",\"mapbox\":{\"style\":\"light\"},\"paper_bgcolor\":\"white\",\"plot_bgcolor\":\"#E5ECF6\",\"polar\":{\"angularaxis\":{\"gridcolor\":\"white\",\"linecolor\":\"white\",\"ticks\":\"\"},\"bgcolor\":\"#E5ECF6\",\"radialaxis\":{\"gridcolor\":\"white\",\"linecolor\":\"white\",\"ticks\":\"\"}},\"scene\":{\"xaxis\":{\"backgroundcolor\":\"#E5ECF6\",\"gridcolor\":\"white\",\"gridwidth\":2,\"linecolor\":\"white\",\"showbackground\":true,\"ticks\":\"\",\"zerolinecolor\":\"white\"},\"yaxis\":{\"backgroundcolor\":\"#E5ECF6\",\"gridcolor\":\"white\",\"gridwidth\":2,\"linecolor\":\"white\",\"showbackground\":true,\"ticks\":\"\",\"zerolinecolor\":\"white\"},\"zaxis\":{\"backgroundcolor\":\"#E5ECF6\",\"gridcolor\":\"white\",\"gridwidth\":2,\"linecolor\":\"white\",\"showbackground\":true,\"ticks\":\"\",\"zerolinecolor\":\"white\"}},\"shapedefaults\":{\"line\":{\"color\":\"#2a3f5f\"}},\"ternary\":{\"aaxis\":{\"gridcolor\":\"white\",\"linecolor\":\"white\",\"ticks\":\"\"},\"baxis\":{\"gridcolor\":\"white\",\"linecolor\":\"white\",\"ticks\":\"\"},\"bgcolor\":\"#E5ECF6\",\"caxis\":{\"gridcolor\":\"white\",\"linecolor\":\"white\",\"ticks\":\"\"}},\"title\":{\"x\":0.05},\"xaxis\":{\"automargin\":true,\"gridcolor\":\"white\",\"linecolor\":\"white\",\"ticks\":\"\",\"title\":{\"standoff\":15},\"zerolinecolor\":\"white\",\"zerolinewidth\":2},\"yaxis\":{\"automargin\":true,\"gridcolor\":\"white\",\"linecolor\":\"white\",\"ticks\":\"\",\"title\":{\"standoff\":15},\"zerolinecolor\":\"white\",\"zerolinewidth\":2}}},\"xaxis\":{\"anchor\":\"y\",\"domain\":[0.0,0.2888888888888889]},\"yaxis\":{\"anchor\":\"x\",\"domain\":[0.80625,1.0]},\"xaxis2\":{\"anchor\":\"y2\",\"domain\":[0.35555555555555557,0.6444444444444445]},\"yaxis2\":{\"anchor\":\"x2\",\"domain\":[0.80625,1.0]},\"xaxis3\":{\"anchor\":\"y3\",\"domain\":[0.7111111111111111,1.0]},\"yaxis3\":{\"anchor\":\"x3\",\"domain\":[0.80625,1.0]},\"xaxis4\":{\"anchor\":\"y4\",\"domain\":[0.0,0.2888888888888889]},\"yaxis4\":{\"anchor\":\"x4\",\"domain\":[0.5375,0.73125]},\"xaxis5\":{\"anchor\":\"y5\",\"domain\":[0.35555555555555557,0.6444444444444445]},\"yaxis5\":{\"anchor\":\"x5\",\"domain\":[0.5375,0.73125]},\"xaxis6\":{\"anchor\":\"y6\",\"domain\":[0.7111111111111111,1.0]},\"yaxis6\":{\"anchor\":\"x6\",\"domain\":[0.5375,0.73125]},\"xaxis7\":{\"anchor\":\"y7\",\"domain\":[0.0,0.2888888888888889]},\"yaxis7\":{\"anchor\":\"x7\",\"domain\":[0.26875,0.4625]},\"xaxis8\":{\"anchor\":\"y8\",\"domain\":[0.35555555555555557,0.6444444444444445]},\"yaxis8\":{\"anchor\":\"x8\",\"domain\":[0.26875,0.4625]},\"xaxis9\":{\"anchor\":\"y9\",\"domain\":[0.7111111111111111,1.0]},\"yaxis9\":{\"anchor\":\"x9\",\"domain\":[0.26875,0.4625]},\"xaxis10\":{\"anchor\":\"y10\",\"domain\":[0.0,0.2888888888888889]},\"yaxis10\":{\"anchor\":\"x10\",\"domain\":[0.0,0.19375]},\"xaxis11\":{\"anchor\":\"y11\",\"domain\":[0.35555555555555557,0.6444444444444445]},\"yaxis11\":{\"anchor\":\"x11\",\"domain\":[0.0,0.19375]},\"xaxis12\":{\"anchor\":\"y12\",\"domain\":[0.7111111111111111,1.0]},\"yaxis12\":{\"anchor\":\"x12\",\"domain\":[0.0,0.19375]}},                        {\"responsive\": true}                    ).then(function(){\n",
       "                            \n",
       "var gd = document.getElementById('9ce8560a-9579-46f3-8342-1c8ca9e1d1c8');\n",
       "var x = new MutationObserver(function (mutations, observer) {{\n",
       "        var display = window.getComputedStyle(gd).display;\n",
       "        if (!display || display === 'none') {{\n",
       "            console.log([gd, 'removed!']);\n",
       "            Plotly.purge(gd);\n",
       "            observer.disconnect();\n",
       "        }}\n",
       "}});\n",
       "\n",
       "// Listen for the removal of the full notebook cells\n",
       "var notebookContainer = gd.closest('#notebook-container');\n",
       "if (notebookContainer) {{\n",
       "    x.observe(notebookContainer, {childList: true});\n",
       "}}\n",
       "\n",
       "// Listen for the clearing of the current output cell\n",
       "var outputEl = gd.closest('.output');\n",
       "if (outputEl) {{\n",
       "    x.observe(outputEl, {childList: true});\n",
       "}}\n",
       "\n",
       "                        })                };                });            </script>        </div>"
      ]
     },
     "metadata": {},
     "output_type": "display_data"
    }
   ],
   "source": [
    "# визуализируем выбранные моделью признаки для разных классов\n",
    "def plot_feature(features):#(feature1, feature2, feature3, feature4):\n",
    "    #features = arg\n",
    "    x1 = df[features[0]][df_target == 0]\n",
    "    x2 = df[features[0]][df_target == 1]\n",
    "    x3 = df[features[0]][df_target == 2]\n",
    "\n",
    "    x12 = df[features[1]][df_target == 0]\n",
    "    x22 = df[features[1]][df_target == 1]\n",
    "    x32 = df[features[1]][df_target == 2]\n",
    "\n",
    "    x13 = df[features[2]][df_target == 0]\n",
    "    x23 = df[features[2]][df_target == 1]\n",
    "    x33 = df[features[2]][df_target == 2]\n",
    "\n",
    "    x14 = df[features[3]][df_target == 0]\n",
    "    x24 = df[features[3]][df_target == 1]\n",
    "    x34 = df[features[3]][df_target == 2]\n",
    "\n",
    "    x15= df[features[4]][df_target == 0]\n",
    "    x25= df[features[4]][df_target == 1]\n",
    "    x35= df[features[4]][df_target == 2]\n",
    "\n",
    "    \n",
    "    fig = make_subplots(rows=4, cols=3)\n",
    "    \n",
    "    fig.add_trace(go.Scatter(x=x1, y=x12, mode='markers',  name='Жив', line_color=\"#0000ff\"), 1,1)\n",
    "    fig.add_trace(go.Scatter(x=x2, y=x22, mode='markers', name='Мертв', line_color=\"#AA00ff\"), 1,1)\n",
    "    fig.add_trace(go.Scatter(x=x3, y=x32, mode='markers',  name='Жив с рецедивом',line_color=\"#11ffAA\"), 1,1)\n",
    "\n",
    "    fig.add_trace(go.Scatter(x=x1, y=x13, mode='markers',  line_color=\"#0000ff\"), 1,2)\n",
    "    fig.add_trace(go.Scatter(x=x2, y=x23, mode='markers', line_color=\"#AA00ff\"), 1,2)\n",
    "    fig.add_trace(go.Scatter(x=x3, y=x33, mode='markers',  line_color=\"#11ffAA\"), 1,2)\n",
    "\n",
    "    fig.add_trace(go.Scatter(x=x12, y=x13, mode='markers',  line_color=\"#0000ff\"), 1,3)\n",
    "    fig.add_trace(go.Scatter(x=x22, y=x23, mode='markers', line_color=\"#AA00ff\"), 1,3)\n",
    "    fig.add_trace(go.Scatter(x=x32, y=x33, mode='markers',  line_color=\"#11ffAA\"), 1,3)\n",
    "    \n",
    "    fig.add_trace(go.Scatter(x=x14, y=x1, mode='markers',  line_color=\"#0000ff\"), 2,1)\n",
    "    fig.add_trace(go.Scatter(x=x24, y=x2, mode='markers', line_color=\"#AA00ff\"), 2,1)\n",
    "    fig.add_trace(go.Scatter(x=x34, y=x3, mode='markers',  line_color=\"#11ffAA\"), 2,1)\n",
    "\n",
    "    fig.add_trace(go.Scatter(x=x14, y=x12, mode='markers',  line_color=\"#0000ff\"), 2,2)\n",
    "    fig.add_trace(go.Scatter(x=x24, y=x22, mode='markers', line_color=\"#AA00ff\"), 2,2)\n",
    "    fig.add_trace(go.Scatter(x=x34, y=x32, mode='markers',  line_color=\"#11ffAA\"), 2,2)\n",
    "\n",
    "    fig.add_trace(go.Scatter(x=x14, y=x13, mode='markers',  line_color=\"#0000ff\"), 2,3)\n",
    "    fig.add_trace(go.Scatter(x=x24, y=x23, mode='markers', line_color=\"#AA00ff\"), 2,3)\n",
    "    fig.add_trace(go.Scatter(x=x34, y=x33, mode='markers',  line_color=\"#11ffAA\"), 2,3)\n",
    "\n",
    "    fig.add_trace(go.Scatter(x=x15, y=x1, mode='markers',  line_color=\"#0000ff\"), 3,1)\n",
    "    fig.add_trace(go.Scatter(x=x25, y=x2, mode='markers', line_color=\"#AA00ff\"), 3,1)\n",
    "    fig.add_trace(go.Scatter(x=x35, y=x3, mode='markers',  line_color=\"#11ffAA\"), 3,1)\n",
    "\n",
    "    fig.add_trace(go.Scatter(x=x15, y=x12, mode='markers',  line_color=\"#0000ff\"), 3,2)\n",
    "    fig.add_trace(go.Scatter(x=x25, y=x22, mode='markers', line_color=\"#AA00ff\"), 3,2)\n",
    "    fig.add_trace(go.Scatter(x=x35, y=x32, mode='markers',  line_color=\"#11ffAA\"), 3,2)\n",
    "\n",
    "    fig.add_trace(go.Scatter(x=x15, y=x13, mode='markers',  line_color=\"#0000ff\"), 3,3)\n",
    "    fig.add_trace(go.Scatter(x=x25, y=x23, mode='markers', line_color=\"#AA00ff\"), 3,3)\n",
    "    fig.add_trace(go.Scatter(x=x35, y=x33, mode='markers',  line_color=\"#11ffAA\"), 3,3)\n",
    "\n",
    "    fig.add_trace(go.Scatter(x=x15, y=x14, mode='markers',  line_color=\"#0000ff\"), 4,1)\n",
    "    fig.add_trace(go.Scatter(x=x25, y=x24, mode='markers', line_color=\"#AA00ff\"), 4,1)\n",
    "    fig.add_trace(go.Scatter(x=x35, y=x34, mode='markers',  line_color=\"#11ffAA\"), 4,1)\n",
    "    \n",
    "    \n",
    "    fig.update_traces(hoverinfo=\"all\")\n",
    "    \n",
    "    fig.show()\n",
    "    \n",
    "plot_feature(['хирургические ранние структура','PADUA', 'Кровопотеря', 'локализация.1','стадия ХПН'])   \n"
   ]
  },
  {
   "cell_type": "markdown",
   "id": "b1e70835",
   "metadata": {},
   "source": [
    "### Как деревья в нашей модели принимают решения"
   ]
  },
  {
   "cell_type": "code",
   "execution_count": 318,
   "id": "df9e0c70",
   "metadata": {},
   "outputs": [
    {
     "data": {
      "image/svg+xml": "<?xml version=\"1.0\" encoding=\"UTF-8\" standalone=\"no\"?>\n<!DOCTYPE svg PUBLIC \"-//W3C//DTD SVG 1.1//EN\"\n \"http://www.w3.org/Graphics/SVG/1.1/DTD/svg11.dtd\">\n<!-- Generated by graphviz version 2.40.1 (20161225.0304)\n -->\n<!-- Title: %3 Pages: 1 -->\n<svg width=\"416pt\" height=\"235pt\"\n viewBox=\"0.00 0.00 416.00 235.00\" xmlns=\"http://www.w3.org/2000/svg\" xmlns:xlink=\"http://www.w3.org/1999/xlink\">\n<g id=\"graph0\" class=\"graph\" transform=\"scale(1 1) rotate(0) translate(4 231)\">\n<title>%3</title>\n<polygon fill=\"#ffffff\" stroke=\"transparent\" points=\"-4,4 -4,-231 412,-231 412,4 -4,4\"/>\n<!-- 0 -->\n<g id=\"node1\" class=\"node\">\n<title>0</title>\n<ellipse fill=\"none\" stroke=\"#000000\" cx=\"195\" cy=\"-209\" rx=\"77.1866\" ry=\"18\"/>\n<text text-anchor=\"middle\" x=\"195\" y=\"-205.3\" font-family=\"Times,serif\" font-size=\"14.00\" fill=\"#000000\">29, value&gt;97.1332</text>\n</g>\n<!-- 1 -->\n<g id=\"node2\" class=\"node\">\n<title>1</title>\n<ellipse fill=\"none\" stroke=\"#000000\" cx=\"109\" cy=\"-122\" rx=\"77.1866\" ry=\"18\"/>\n<text text-anchor=\"middle\" x=\"109\" y=\"-118.3\" font-family=\"Times,serif\" font-size=\"14.00\" fill=\"#000000\">21, value&gt;694.281</text>\n</g>\n<!-- 0&#45;&gt;1 -->\n<g id=\"edge1\" class=\"edge\">\n<title>0&#45;&gt;1</title>\n<path fill=\"none\" stroke=\"#000000\" d=\"M177.5966,-191.3943C165.0073,-178.6586 147.8157,-161.2671 133.7927,-147.081\"/>\n<polygon fill=\"#000000\" stroke=\"#000000\" points=\"135.8968,-144.2309 126.3775,-139.5796 130.9185,-149.152 135.8968,-144.2309\"/>\n<text text-anchor=\"middle\" x=\"166.5\" y=\"-161.8\" font-family=\"Times,serif\" font-size=\"14.00\" fill=\"#000000\">No</text>\n</g>\n<!-- 2 -->\n<g id=\"node3\" class=\"node\">\n<title>2</title>\n<ellipse fill=\"none\" stroke=\"#000000\" cx=\"282\" cy=\"-122\" rx=\"77.1866\" ry=\"18\"/>\n<text text-anchor=\"middle\" x=\"282\" y=\"-118.3\" font-family=\"Times,serif\" font-size=\"14.00\" fill=\"#000000\">21, value&gt;694.281</text>\n</g>\n<!-- 0&#45;&gt;2 -->\n<g id=\"edge2\" class=\"edge\">\n<title>0&#45;&gt;2</title>\n<path fill=\"none\" stroke=\"#000000\" d=\"M212.6057,-191.3943C225.4593,-178.5407 243.0554,-160.9446 257.3122,-146.6878\"/>\n<polygon fill=\"#000000\" stroke=\"#000000\" points=\"259.8242,-149.1255 264.4204,-139.5796 254.8745,-144.1758 259.8242,-149.1255\"/>\n<text text-anchor=\"middle\" x=\"255\" y=\"-161.8\" font-family=\"Times,serif\" font-size=\"14.00\" fill=\"#000000\">Yes</text>\n</g>\n<!-- 3 -->\n<g id=\"node4\" class=\"node\">\n<title>3</title>\n<polygon fill=\"none\" stroke=\"#ff0000\" points=\"84,-53 0,-53 0,0 84,0 84,-53\"/>\n<text text-anchor=\"middle\" x=\"42\" y=\"-37.8\" font-family=\"Times,serif\" font-size=\"14.00\" fill=\"#000000\">val = &#45;0.115</text>\n<text text-anchor=\"middle\" x=\"42\" y=\"-22.8\" font-family=\"Times,serif\" font-size=\"14.00\" fill=\"#000000\">val = 0.096</text>\n<text text-anchor=\"middle\" x=\"42\" y=\"-7.8\" font-family=\"Times,serif\" font-size=\"14.00\" fill=\"#000000\">val = 0.019</text>\n</g>\n<!-- 1&#45;&gt;3 -->\n<g id=\"edge3\" class=\"edge\">\n<title>1&#45;&gt;3</title>\n<path fill=\"none\" stroke=\"#000000\" d=\"M96.3978,-104.0372C87.9689,-92.0228 76.6011,-75.8195 66.437,-61.3318\"/>\n<polygon fill=\"#000000\" stroke=\"#000000\" points=\"69.2314,-59.2207 60.6229,-53.0446 63.501,-63.241 69.2314,-59.2207\"/>\n<text text-anchor=\"middle\" x=\"92.5\" y=\"-74.8\" font-family=\"Times,serif\" font-size=\"14.00\" fill=\"#000000\">No</text>\n</g>\n<!-- 4 -->\n<g id=\"node5\" class=\"node\">\n<title>4</title>\n<polygon fill=\"none\" stroke=\"#ff0000\" points=\"186,-53 102,-53 102,0 186,0 186,-53\"/>\n<text text-anchor=\"middle\" x=\"144\" y=\"-37.8\" font-family=\"Times,serif\" font-size=\"14.00\" fill=\"#000000\">val = 0.173</text>\n<text text-anchor=\"middle\" x=\"144\" y=\"-22.8\" font-family=\"Times,serif\" font-size=\"14.00\" fill=\"#000000\">val = &#45;0.138</text>\n<text text-anchor=\"middle\" x=\"144\" y=\"-7.8\" font-family=\"Times,serif\" font-size=\"14.00\" fill=\"#000000\">val = &#45;0.036</text>\n</g>\n<!-- 1&#45;&gt;4 -->\n<g id=\"edge4\" class=\"edge\">\n<title>1&#45;&gt;4</title>\n<path fill=\"none\" stroke=\"#000000\" d=\"M115.5832,-104.0372C119.8629,-92.3597 125.593,-76.7248 130.7864,-62.5543\"/>\n<polygon fill=\"#000000\" stroke=\"#000000\" points=\"134.1167,-63.6383 134.2716,-53.0446 127.5442,-61.2295 134.1167,-63.6383\"/>\n<text text-anchor=\"middle\" x=\"139\" y=\"-74.8\" font-family=\"Times,serif\" font-size=\"14.00\" fill=\"#000000\">Yes</text>\n</g>\n<!-- 5 -->\n<g id=\"node6\" class=\"node\">\n<title>5</title>\n<polygon fill=\"none\" stroke=\"#ff0000\" points=\"306,-53 222,-53 222,0 306,0 306,-53\"/>\n<text text-anchor=\"middle\" x=\"264\" y=\"-37.8\" font-family=\"Times,serif\" font-size=\"14.00\" fill=\"#000000\">val = 0.164</text>\n<text text-anchor=\"middle\" x=\"264\" y=\"-22.8\" font-family=\"Times,serif\" font-size=\"14.00\" fill=\"#000000\">val = &#45;0.098</text>\n<text text-anchor=\"middle\" x=\"264\" y=\"-7.8\" font-family=\"Times,serif\" font-size=\"14.00\" fill=\"#000000\">val = &#45;0.066</text>\n</g>\n<!-- 2&#45;&gt;5 -->\n<g id=\"edge5\" class=\"edge\">\n<title>2&#45;&gt;5</title>\n<path fill=\"none\" stroke=\"#000000\" d=\"M278.5294,-103.5866C276.3802,-92.184 273.5442,-77.1373 270.9486,-63.3662\"/>\n<polygon fill=\"#000000\" stroke=\"#000000\" points=\"274.3177,-62.3442 269.026,-53.1655 267.4388,-63.6408 274.3177,-62.3442\"/>\n<text text-anchor=\"middle\" x=\"284.5\" y=\"-74.8\" font-family=\"Times,serif\" font-size=\"14.00\" fill=\"#000000\">No</text>\n</g>\n<!-- 6 -->\n<g id=\"node7\" class=\"node\">\n<title>6</title>\n<polygon fill=\"none\" stroke=\"#ff0000\" points=\"408,-53 324,-53 324,0 408,0 408,-53\"/>\n<text text-anchor=\"middle\" x=\"366\" y=\"-37.8\" font-family=\"Times,serif\" font-size=\"14.00\" fill=\"#000000\">val = 0.025</text>\n<text text-anchor=\"middle\" x=\"366\" y=\"-22.8\" font-family=\"Times,serif\" font-size=\"14.00\" fill=\"#000000\">val = &#45;0.012</text>\n<text text-anchor=\"middle\" x=\"366\" y=\"-7.8\" font-family=\"Times,serif\" font-size=\"14.00\" fill=\"#000000\">val = &#45;0.013</text>\n</g>\n<!-- 2&#45;&gt;6 -->\n<g id=\"edge6\" class=\"edge\">\n<title>2&#45;&gt;6</title>\n<path fill=\"none\" stroke=\"#000000\" d=\"M297.7998,-104.0372C308.4661,-91.9105 322.8862,-75.5163 335.7195,-60.9261\"/>\n<polygon fill=\"#000000\" stroke=\"#000000\" points=\"338.6754,-62.8649 342.6519,-53.0446 333.4193,-58.2417 338.6754,-62.8649\"/>\n<text text-anchor=\"middle\" x=\"337\" y=\"-74.8\" font-family=\"Times,serif\" font-size=\"14.00\" fill=\"#000000\">Yes</text>\n</g>\n</g>\n</svg>\n",
      "text/plain": [
       "<graphviz.dot.Digraph at 0x7f37a458eda0>"
      ]
     },
     "execution_count": 318,
     "metadata": {},
     "output_type": "execute_result"
    }
   ],
   "source": [
    "# индекс дерева\n",
    "index_tree = 11\n",
    "# как выглядит это дерево\n",
    "model.plot_tree(index_tree)"
   ]
  },
  {
   "cell_type": "markdown",
   "id": "fb6b6478",
   "metadata": {},
   "source": [
    "# Обучение на тренировочном датасете и предсказания для теста"
   ]
  },
  {
   "cell_type": "code",
   "execution_count": 319,
   "id": "e67369bc",
   "metadata": {},
   "outputs": [],
   "source": [
    "model = CatBoostClassifier(iterations=100, max_depth=2,verbose=False)\n",
    "model.fit(df.values, df_target.values)\n",
    "predict = model.predict(df_test.values)"
   ]
  },
  {
   "cell_type": "markdown",
   "id": "0628434a",
   "metadata": {},
   "source": [
    "# Сохранение предсказаний для теста"
   ]
  },
  {
   "cell_type": "code",
   "execution_count": 320,
   "id": "d22ce8da",
   "metadata": {},
   "outputs": [],
   "source": [
    "pd.DataFrame(predict).to_csv('Results.csv', index=False)"
   ]
  },
  {
   "cell_type": "code",
   "execution_count": null,
   "id": "58403a22",
   "metadata": {},
   "outputs": [],
   "source": []
  },
  {
   "cell_type": "markdown",
   "id": "11ca9f96",
   "metadata": {},
   "source": [
    "# Pipline для приватного датасета жюри (если будет)"
   ]
  },
  {
   "cell_type": "code",
   "execution_count": 321,
   "id": "f60e9518",
   "metadata": {},
   "outputs": [],
   "source": [
    "##Подготовка данных\n",
    "#data_frame = checking_dependencies(data_frame)\n",
    "#data_frame = droping_columns(data_frame)\n",
    "##предсказания\n",
    "#predict = model.predict(data_frame.values)"
   ]
  },
  {
   "cell_type": "code",
   "execution_count": null,
   "id": "1cf70f41",
   "metadata": {},
   "outputs": [],
   "source": []
  },
  {
   "cell_type": "markdown",
   "id": "4a60b6fb",
   "metadata": {},
   "source": [
    "# Предсказание признаков"
   ]
  },
  {
   "cell_type": "markdown",
   "id": "808a95df",
   "metadata": {},
   "source": [
    "### Выведена информация о признаках, которые удалось предсказать с точность более 70%"
   ]
  },
  {
   "cell_type": "code",
   "execution_count": 322,
   "id": "7ae0760f",
   "metadata": {},
   "outputs": [
    {
     "name": "stdout",
     "output_type": "stream",
     "text": [
      "\n",
      "Точность предсказания \"Пол\"\n",
      "Test классификация: balanced_accuracy_score: 0.8304597701149425\n",
      "Train : 0.9366264803158006\n",
      "\n",
      "Точность предсказания \"Болезни, влияющие на ф-цию почек\"\n",
      "Test классификация: balanced_accuracy_score: 0.7620656370656371\n",
      "Train : 0.9593280282935455\n",
      "\n",
      "Точность предсказания \"Charlson Comorbidity Index, \"\n",
      "Test классификация: balanced_accuracy_score: 0.7875396825396827\n",
      "Train : 1.0\n"
     ]
    },
    {
     "name": "stderr",
     "output_type": "stream",
     "text": [
      "/home/pavel/.local/lib/python3.6/site-packages/sklearn/metrics/_classification.py:1854: UserWarning:\n",
      "\n",
      "y_pred contains classes not in y_true\n",
      "\n"
     ]
    },
    {
     "name": "stdout",
     "output_type": "stream",
     "text": [
      "\n",
      "Точность предсказания \"локализация.1\"\n",
      "Test классификация: balanced_accuracy_score: 0.7958959899749374\n",
      "Train : 1.0\n",
      "\n",
      "Точность предсказания \"RENAL риск (4-6 vs 7-9 vs >=10)\"\n",
      "Test классификация: balanced_accuracy_score: 0.7632575757575757\n",
      "Train : 1.0\n",
      "\n",
      "Точность предсказания \"сТ\"\n",
      "Test классификация: balanced_accuracy_score: 0.9444444444444444\n",
      "Train : 1.0\n",
      "\n",
      "Точность предсказания \"Осложнения лечения\"\n",
      "Test классификация: balanced_accuracy_score: 0.7329222011385199\n",
      "Train : 0.9114279170960724\n",
      "\n",
      "Точность предсказания \"ОПН\"\n",
      "Test классификация: balanced_accuracy_score: 0.9473684210526316\n",
      "Train : 1.0\n"
     ]
    }
   ],
   "source": [
    "\n",
    "def model_feature(features, target, column):\n",
    "    # предсказываем колонки только без Nan\n",
    "    if len(target.isna().unique()) ==2:\n",
    "        return\n",
    "    \n",
    "    # Предсказываем только классификацию\n",
    "    if target.unique().size > 7:        \n",
    "        return            \n",
    "    else:\n",
    "        task = 'классификация: balanced_accuracy_score'\n",
    "        score = balanced_accuracy_score\n",
    "        model = CatBoostClassifier(iterations=200, max_depth=3, verbose=False)\n",
    "        if not target.isna().all():\n",
    "            target = target.fillna(-1)\n",
    "\n",
    "    X_train, X_test, y_train, y_test = train_test_split(features.values, target.values, \n",
    "                                                    train_size=0.75,\n",
    "                                                    random_state=42)\n",
    "    \n",
    "        \n",
    "    # обучаем\n",
    "    model.fit(X_train, y_train)\n",
    "    # делаем предсказания\n",
    "    y_pred = model.predict(X_test)\n",
    "    scores = score(y_test, model.predict(X_test))\n",
    "    if scores > 0.7:\n",
    "        print(f'\\nТочность предсказания \"{column}\"\\nTest {task}:', scores)\n",
    "        print(f'Train :', score(y_train, model.predict(X_train)))\n",
    "    \n",
    "\n",
    "# проходим по всем признакам\n",
    "for column in df.columns:\n",
    "    model_feature(df.drop(columns=column), df[column], column)\n",
    "\n"
   ]
  },
  {
   "cell_type": "code",
   "execution_count": null,
   "id": "93e908e1",
   "metadata": {},
   "outputs": [],
   "source": []
  }
 ],
 "metadata": {
  "hide_input": false,
  "kernelspec": {
   "display_name": "Python 3.9.6 64-bit (system)",
   "language": "python",
   "name": "python3"
  },
  "language_info": {
   "codemirror_mode": {
    "name": "ipython",
    "version": 3
   },
   "file_extension": ".py",
   "mimetype": "text/x-python",
   "name": "python",
   "nbconvert_exporter": "python",
   "pygments_lexer": "ipython3",
   "version": "3.9.6"
  },
  "vscode": {
   "interpreter": {
    "hash": "aa55f1078282c3ff616305e8840bf4534bea8c674fe8321f93c33f0dc65943ce"
   }
  }
 },
 "nbformat": 4,
 "nbformat_minor": 5
}
